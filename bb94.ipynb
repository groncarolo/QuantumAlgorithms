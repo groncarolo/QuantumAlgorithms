{
 "cells": [
  {
   "cell_type": "markdown",
   "metadata": {},
   "source": [
    "# BB84"
   ]
  },
  {
   "cell_type": "markdown",
   "metadata": {},
   "source": [
    "Import needed modules"
   ]
  },
  {
   "cell_type": "code",
   "execution_count": 1,
   "metadata": {},
   "outputs": [],
   "source": [
    "\"\"\"Module providing BB84 code\"\"\"\n",
    "\n",
    "from sympy.physics.quantum.qubit import Qubit\n",
    "import numpy as np\n",
    "\n",
    "from util.measure_all import measure_all_oneshot\n",
    "from util.util import get_random_bases, change_basis, zero, one, plus, minus, \\\n",
    "    get_random_bits"
   ]
  },
  {
   "cell_type": "markdown",
   "metadata": {},
   "source": [
    "## Alice Part"
   ]
  },
  {
   "cell_type": "markdown",
   "metadata": {},
   "source": [
    "Alice generates N random bits"
   ]
  },
  {
   "cell_type": "code",
   "execution_count": 2,
   "metadata": {},
   "outputs": [
    {
     "name": "stdout",
     "output_type": "stream",
     "text": [
      "Alice bits: [0, 1, 0, 1, 1, 0, 1, 1, 1]\n"
     ]
    }
   ],
   "source": [
    "alice_bits = [0, 1, 0, 1, 1, 0, 1, 1, 1]\n",
    "print(f\"Alice bits: {alice_bits}\")"
   ]
  },
  {
   "cell_type": "markdown",
   "metadata": {},
   "source": [
    "Alice picks N random basis between `Z` and `X`"
   ]
  },
  {
   "cell_type": "code",
   "execution_count": 3,
   "metadata": {},
   "outputs": [
    {
     "name": "stdout",
     "output_type": "stream",
     "text": [
      "Alice bases: ['Z', 'Z', 'X', 'Z', 'X', 'X', 'X', 'Z', 'Z']\n"
     ]
    }
   ],
   "source": [
    "alice_bases = ['Z', 'Z', 'X', 'Z', 'X', 'X', 'X', 'Z', 'Z']\n",
    "print(f\"Alice bases: {alice_bases}\")"
   ]
  },
  {
   "cell_type": "markdown",
   "metadata": {},
   "source": [
    "Then Alice encodes her random bits in the random bases"
   ]
  },
  {
   "cell_type": "code",
   "execution_count": 4,
   "metadata": {},
   "outputs": [
    {
     "name": "stdout",
     "output_type": "stream",
     "text": [
      "Alice encoded: [|0>, |1>, sqrt(2)*|0>/2 + sqrt(2)*|1>/2, |1>, sqrt(2)*|0>/2 - sqrt(2)*|1>/2, sqrt(2)*|0>/2 + sqrt(2)*|1>/2, sqrt(2)*|0>/2 - sqrt(2)*|1>/2, |1>, |1>]\n"
     ]
    }
   ],
   "source": [
    "def bb84_alice_encode(alice_bits, alice_bases):\n",
    "    \"\"\"\n",
    "    :param func alice_bits: fAlice bits\n",
    "    :param func alice_bases: Alice bases\n",
    "    :return alice_encoded: alice measured qubits\n",
    "    \"\"\"\n",
    "\n",
    "    alice_encoded = []\n",
    "    for bit, base in zip(alice_bits, alice_bases):\n",
    "        qubit = Qubit(bit)\n",
    "        if base == 'X':\n",
    "            qubit = change_basis(qubit, (plus, minus))\n",
    "        alice_encoded.append(qubit)\n",
    "    return alice_encoded\n",
    "\n",
    "\n",
    "alice_encoded = bb84_alice_encode(alice_bits, alice_bases)\n",
    "print(f\"Alice encoded: {alice_encoded}\")"
   ]
  },
  {
   "cell_type": "markdown",
   "metadata": {},
   "source": [
    "## Eve's Part"
   ]
  },
  {
   "cell_type": "markdown",
   "metadata": {},
   "source": [
    "Eve might be eavesdropping, she needs to pick N random basis\n",
    "and measure Alice encoded Qubits\n",
    "In doing so this is what can happen\n",
    "```\n",
    "                            Eve  ----------------- Bob     0.5 undetected\n",
    "                     0.5 /  Z, |0>                 Z,|0>\n",
    "     Alice   ---> Eve -\n",
    "     Z, |0>             \\             ------------ Bob\n",
    "                     0.5 \\          / 0.5          Z,|0>   0.25 undetcted\n",
    "                          \\        /\n",
    "                           Eve---------\n",
    "                           X, |+>,|->  \\\n",
    "                                        --------- Bob\n",
    "                                                  Z,|1>   0.25 Detected\n",
    "```                                                  \n",
    "On n bit the probability the Eve is not detected is\n",
    "`1 - (3/4)**n`\n"
   ]
  },
  {
   "cell_type": "markdown",
   "metadata": {},
   "source": [
    "Measure Alice encoded qubits"
   ]
  },
  {
   "cell_type": "code",
   "execution_count": 5,
   "metadata": {},
   "outputs": [],
   "source": [
    "def bb84_eve_eavesdropping(alice_encoded, eve_bases):\n",
    "    \"\"\"\n",
    "    :param qubit list alice_sent: alice measured qubits\n",
    "    :param int gen_bit_size: how many bit we want to generate\n",
    "    return eavesdropped: alice eavesdropped qubits\n",
    "    \"\"\"\n",
    "\n",
    "    eavesdropped = []\n",
    "    for q, bb in zip(alice_encoded, eve_bases):\n",
    "        qq = q\n",
    "        # change base if needed\n",
    "        if bb == 'X':\n",
    "            qq = change_basis(q, (plus, minus))\n",
    "\n",
    "        m = measure_all_oneshot(qq)\n",
    "        eavesdropped.append(m)\n",
    "\n",
    "    # measuring changes what alice_sent\n",
    "    return eavesdropped"
   ]
  },
  {
   "cell_type": "markdown",
   "metadata": {},
   "source": [
    "Alice and Bob can generate some more bits and reveal a part of those\n",
    "checking that where their basis match the result does too\n",
    "If this is not true Eve eavesdropped\n",
    "On n bit the probability the Eve is not detected is 1 - (3/4)**n"
   ]
  },
  {
   "cell_type": "code",
   "execution_count": 6,
   "metadata": {},
   "outputs": [],
   "source": [
    "def bb84_detect_eavesdropping(private_key, alice_bits, check_size):\n",
    "    '''\n",
    "    :param list private_key: complete private key\n",
    "    :param int check_size: how many bit of the key\n",
    "      should be used to check\n",
    "           eavesdropping\n",
    "    :param alice_bits: alice randomly\n",
    "    picked bits (we use just check_size portion)\n",
    "    '''\n",
    "    eavesdropped = 0\n",
    "    for pk, al in zip(private_key, alice_bits):\n",
    "        # the bases have to match\n",
    "        if pk != '-':\n",
    "            check_size -= 1\n",
    "            # the values too\n",
    "            if pk != Qubit(al):\n",
    "                eavesdropped += 1\n",
    "        if check_size == 0:\n",
    "            break\n",
    "    return eavesdropped"
   ]
  },
  {
   "cell_type": "markdown",
   "metadata": {},
   "source": [
    "## Bob's Part"
   ]
  },
  {
   "cell_type": "markdown",
   "metadata": {},
   "source": [
    "Bob generates N random bases"
   ]
  },
  {
   "cell_type": "code",
   "execution_count": 7,
   "metadata": {},
   "outputs": [
    {
     "name": "stdout",
     "output_type": "stream",
     "text": [
      "Bob bases: ['Z', 'X', 'X', 'Z', 'Z', 'X', 'Z', 'X', 'Z']\n"
     ]
    }
   ],
   "source": [
    "bob_bases = ['Z', 'X', 'X', 'Z', 'Z', 'X', 'Z', 'X', 'Z']\n",
    "print(f\"Bob bases: {bob_bases}\")"
   ]
  },
  {
   "cell_type": "markdown",
   "metadata": {},
   "source": [
    "Bob measures Alice encoded qubits in his basis"
   ]
  },
  {
   "cell_type": "code",
   "execution_count": 8,
   "metadata": {},
   "outputs": [
    {
     "name": "stdout",
     "output_type": "stream",
     "text": [
      "Bob Measures: [|0>, |1>, |0>, |1>, |0>, |0>, |0>, |0>, |1>]\n"
     ]
    }
   ],
   "source": [
    "def bb84_bob_measure(bob_bases, alice_encoded):\n",
    "    \"\"\"\n",
    "    :param func bob_bases:  Bob bases\n",
    "    :param qubit list alice_encoded: alice encoded qubits\n",
    "    (might have been eavesdropped)\n",
    "    return bob_measure: Bob measured qubits\n",
    "    \"\"\"\n",
    "    bob_measure = []\n",
    "\n",
    "    for q, bb in zip(alice_encoded, bob_bases):\n",
    "        qq = q\n",
    "        # change base if needed\n",
    "        if bb == 'X':\n",
    "            qq = change_basis(q, (plus, minus))\n",
    "\n",
    "        m = measure_all_oneshot(qq)\n",
    "        bob_measure.append(m)\n",
    "    return bob_measure\n",
    "\n",
    "\n",
    "bob_measure = bb84_bob_measure(bob_bases, alice_encoded)\n",
    "print(f\"Bob Measures: {bob_measure}\")"
   ]
  },
  {
   "cell_type": "markdown",
   "metadata": {},
   "source": [
    "## Final part"
   ]
  },
  {
   "cell_type": "markdown",
   "metadata": {},
   "source": [
    "Bob and Alice share the bases and keep only bits where basis match"
   ]
  },
  {
   "cell_type": "code",
   "execution_count": 9,
   "metadata": {},
   "outputs": [
    {
     "name": "stdout",
     "output_type": "stream",
     "text": [
      "Private key: [|0>, '-', |0>, |1>, '-', |0>, '-', '-', |1>] size=5\n"
     ]
    }
   ],
   "source": [
    "def generate_private_key(alice_bases, bob_bases, bob_measure):\n",
    "    pk = bob_measure\n",
    "    # match bases\n",
    "    for ab, bb, i in zip(alice_bases, bob_bases, range(len(alice_bases))):\n",
    "        # if Alice and Bob bases match\n",
    "        # than the measure is good\n",
    "        if bb != ab:\n",
    "            pk[i] = '-'\n",
    "    return pk\n",
    "\n",
    "\n",
    "private_key = generate_private_key(alice_bases, bob_bases, bob_measure)\n",
    "pk_size = sum(1 for x in private_key if x != '-')\n",
    "print(f\"Private key: {private_key} size={pk_size}\")"
   ]
  },
  {
   "cell_type": "code",
   "execution_count": 10,
   "metadata": {},
   "outputs": [],
   "source": [
    "truth = [zero, '-', zero, one, '-', zero, '-', '-', one]\n",
    "assert private_key == truth"
   ]
  },
  {
   "cell_type": "markdown",
   "metadata": {},
   "source": [
    "The full algorithm"
   ]
  },
  {
   "cell_type": "code",
   "execution_count": 11,
   "metadata": {},
   "outputs": [],
   "source": [
    "def bb84(alice_bits, alice_bases, bob_bases, eavesdropping=False,\n",
    "         check_size=0):\n",
    "    \"\"\"\n",
    "    Run BB84 algorithm and return a private key\n",
    "\n",
    "    :param func alice_bits: Alice bits\n",
    "    :param func alice_bases: Alice bases\n",
    "    :param func bob_bases: Bob bases\n",
    "    :param Bool eavesdropping: simulate Eve eavesdropping\n",
    "    :param int check_size: how many bit of the key should be used to check\n",
    "           eavesdropping\n",
    "    \"\"\"\n",
    "    alice_encoded = bb84_alice_encode(alice_bits, alice_bases)\n",
    "    print(f\"Alice Encoded: {alice_encoded}\")\n",
    "    eavesdropped = \"\"\n",
    "\n",
    "    if eavesdropping:\n",
    "        eve_bases = get_random_bases(len(alice_encoded))\n",
    "        alice_encoded = bb84_eve_eavesdropping(alice_encoded, eve_bases)\n",
    "\n",
    "    bob_measure = bb84_bob_measure(bob_bases, alice_encoded)\n",
    "    print(f\"Bob Measures: {bob_measure}\")\n",
    "\n",
    "    if eavesdropping:\n",
    "        eavesdropped = bb84_detect_eavesdropping(private_key, alice_bits,\n",
    "                                                 check_size)\n",
    "        print(f\"Eavesdropped: {eavesdropping}\")\n",
    "\n",
    "    pk = generate_private_key(alice_bases, bob_bases, bob_measure)\n",
    "    print(f\"pk: {pk}\")\n",
    "\n",
    "    return pk, eavesdropped"
   ]
  },
  {
   "cell_type": "markdown",
   "metadata": {},
   "source": [
    "## Eavesdropping example"
   ]
  },
  {
   "cell_type": "code",
   "execution_count": 12,
   "metadata": {},
   "outputs": [
    {
     "name": "stdout",
     "output_type": "stream",
     "text": [
      "Alice Encoded: [sqrt(2)*|0>/2 + sqrt(2)*|1>/2, |0>, sqrt(2)*|0>/2 + sqrt(2)*|1>/2, |0>, |1>, |1>, |1>, |0>, sqrt(2)*|0>/2 + sqrt(2)*|1>/2, sqrt(2)*|0>/2 - sqrt(2)*|1>/2, |1>, |0>, sqrt(2)*|0>/2 - sqrt(2)*|1>/2, |1>, |0>, |1>, sqrt(2)*|0>/2 - sqrt(2)*|1>/2, sqrt(2)*|0>/2 - sqrt(2)*|1>/2, |1>, sqrt(2)*|0>/2 + sqrt(2)*|1>/2, sqrt(2)*|0>/2 + sqrt(2)*|1>/2, |1>, |1>, sqrt(2)*|0>/2 - sqrt(2)*|1>/2, |0>, sqrt(2)*|0>/2 + sqrt(2)*|1>/2, sqrt(2)*|0>/2 + sqrt(2)*|1>/2, |0>, |1>, |1>, sqrt(2)*|0>/2 - sqrt(2)*|1>/2, |0>, |1>, |0>, |1>, sqrt(2)*|0>/2 + sqrt(2)*|1>/2, |1>, |1>, sqrt(2)*|0>/2 + sqrt(2)*|1>/2, |0>, |1>, sqrt(2)*|0>/2 - sqrt(2)*|1>/2, |1>, |0>, sqrt(2)*|0>/2 + sqrt(2)*|1>/2, sqrt(2)*|0>/2 - sqrt(2)*|1>/2, sqrt(2)*|0>/2 - sqrt(2)*|1>/2, |0>, sqrt(2)*|0>/2 - sqrt(2)*|1>/2, sqrt(2)*|0>/2 - sqrt(2)*|1>/2, |1>, sqrt(2)*|0>/2 - sqrt(2)*|1>/2, |1>, sqrt(2)*|0>/2 - sqrt(2)*|1>/2, sqrt(2)*|0>/2 + sqrt(2)*|1>/2, sqrt(2)*|0>/2 + sqrt(2)*|1>/2, |1>, |0>, |1>, sqrt(2)*|0>/2 - sqrt(2)*|1>/2, sqrt(2)*|0>/2 - sqrt(2)*|1>/2, |0>, |1>, sqrt(2)*|0>/2 + sqrt(2)*|1>/2, sqrt(2)*|0>/2 - sqrt(2)*|1>/2, |0>, sqrt(2)*|0>/2 - sqrt(2)*|1>/2, |1>, sqrt(2)*|0>/2 - sqrt(2)*|1>/2, sqrt(2)*|0>/2 + sqrt(2)*|1>/2, |1>, |1>, sqrt(2)*|0>/2 - sqrt(2)*|1>/2, sqrt(2)*|0>/2 - sqrt(2)*|1>/2, |1>, sqrt(2)*|0>/2 - sqrt(2)*|1>/2, |1>, sqrt(2)*|0>/2 - sqrt(2)*|1>/2, |0>, sqrt(2)*|0>/2 + sqrt(2)*|1>/2, |0>, |1>, sqrt(2)*|0>/2 + sqrt(2)*|1>/2, |0>, sqrt(2)*|0>/2 - sqrt(2)*|1>/2, sqrt(2)*|0>/2 + sqrt(2)*|1>/2, |1>, sqrt(2)*|0>/2 - sqrt(2)*|1>/2, sqrt(2)*|0>/2 - sqrt(2)*|1>/2, sqrt(2)*|0>/2 - sqrt(2)*|1>/2, |1>, |0>, sqrt(2)*|0>/2 + sqrt(2)*|1>/2, sqrt(2)*|0>/2 + sqrt(2)*|1>/2, sqrt(2)*|0>/2 - sqrt(2)*|1>/2, sqrt(2)*|0>/2 + sqrt(2)*|1>/2, sqrt(2)*|0>/2 - sqrt(2)*|1>/2, |1>, |1>, |1>, |1>, |1>, sqrt(2)*|0>/2 - sqrt(2)*|1>/2, |0>, sqrt(2)*|0>/2 - sqrt(2)*|1>/2, sqrt(2)*|0>/2 - sqrt(2)*|1>/2, |1>, sqrt(2)*|0>/2 - sqrt(2)*|1>/2, sqrt(2)*|0>/2 + sqrt(2)*|1>/2, |0>, |1>, sqrt(2)*|0>/2 - sqrt(2)*|1>/2, |1>, |1>, sqrt(2)*|0>/2 + sqrt(2)*|1>/2, sqrt(2)*|0>/2 - sqrt(2)*|1>/2, sqrt(2)*|0>/2 + sqrt(2)*|1>/2, |1>, sqrt(2)*|0>/2 - sqrt(2)*|1>/2, sqrt(2)*|0>/2 + sqrt(2)*|1>/2, sqrt(2)*|0>/2 + sqrt(2)*|1>/2, |1>, |0>, sqrt(2)*|0>/2 + sqrt(2)*|1>/2, |1>, sqrt(2)*|0>/2 + sqrt(2)*|1>/2, |1>, |1>, |1>, sqrt(2)*|0>/2 + sqrt(2)*|1>/2, sqrt(2)*|0>/2 + sqrt(2)*|1>/2, |1>, sqrt(2)*|0>/2 - sqrt(2)*|1>/2, sqrt(2)*|0>/2 - sqrt(2)*|1>/2, |1>, sqrt(2)*|0>/2 + sqrt(2)*|1>/2, sqrt(2)*|0>/2 + sqrt(2)*|1>/2, |0>, |0>, sqrt(2)*|0>/2 + sqrt(2)*|1>/2, sqrt(2)*|0>/2 + sqrt(2)*|1>/2, |0>, |0>, sqrt(2)*|0>/2 - sqrt(2)*|1>/2, sqrt(2)*|0>/2 - sqrt(2)*|1>/2, |1>, |0>, sqrt(2)*|0>/2 + sqrt(2)*|1>/2, sqrt(2)*|0>/2 - sqrt(2)*|1>/2, |1>, |1>, |0>, sqrt(2)*|0>/2 + sqrt(2)*|1>/2, sqrt(2)*|0>/2 - sqrt(2)*|1>/2, |0>, |1>, sqrt(2)*|0>/2 - sqrt(2)*|1>/2, |0>, sqrt(2)*|0>/2 + sqrt(2)*|1>/2, sqrt(2)*|0>/2 - sqrt(2)*|1>/2, sqrt(2)*|0>/2 + sqrt(2)*|1>/2, sqrt(2)*|0>/2 - sqrt(2)*|1>/2, |1>, sqrt(2)*|0>/2 + sqrt(2)*|1>/2, sqrt(2)*|0>/2 + sqrt(2)*|1>/2, sqrt(2)*|0>/2 - sqrt(2)*|1>/2, sqrt(2)*|0>/2 - sqrt(2)*|1>/2, sqrt(2)*|0>/2 + sqrt(2)*|1>/2, sqrt(2)*|0>/2 + sqrt(2)*|1>/2, sqrt(2)*|0>/2 + sqrt(2)*|1>/2, sqrt(2)*|0>/2 + sqrt(2)*|1>/2, sqrt(2)*|0>/2 + sqrt(2)*|1>/2, sqrt(2)*|0>/2 + sqrt(2)*|1>/2, sqrt(2)*|0>/2 - sqrt(2)*|1>/2, |1>, |0>, |0>, |1>, |0>, sqrt(2)*|0>/2 + sqrt(2)*|1>/2, |1>, |1>, sqrt(2)*|0>/2 + sqrt(2)*|1>/2, |0>, sqrt(2)*|0>/2 + sqrt(2)*|1>/2, sqrt(2)*|0>/2 - sqrt(2)*|1>/2, sqrt(2)*|0>/2 - sqrt(2)*|1>/2, sqrt(2)*|0>/2 - sqrt(2)*|1>/2, |0>, |1>, sqrt(2)*|0>/2 + sqrt(2)*|1>/2, |1>, sqrt(2)*|0>/2 + sqrt(2)*|1>/2, |0>, sqrt(2)*|0>/2 + sqrt(2)*|1>/2, sqrt(2)*|0>/2 - sqrt(2)*|1>/2, sqrt(2)*|0>/2 - sqrt(2)*|1>/2, sqrt(2)*|0>/2 + sqrt(2)*|1>/2, sqrt(2)*|0>/2 + sqrt(2)*|1>/2, |1>, |0>, sqrt(2)*|0>/2 - sqrt(2)*|1>/2, |1>, |1>, sqrt(2)*|0>/2 + sqrt(2)*|1>/2, |0>, |1>, |0>, sqrt(2)*|0>/2 - sqrt(2)*|1>/2, sqrt(2)*|0>/2 + sqrt(2)*|1>/2, |1>, |1>, sqrt(2)*|0>/2 - sqrt(2)*|1>/2, |1>, |1>, |1>, |0>, sqrt(2)*|0>/2 - sqrt(2)*|1>/2, sqrt(2)*|0>/2 - sqrt(2)*|1>/2, sqrt(2)*|0>/2 + sqrt(2)*|1>/2, sqrt(2)*|0>/2 - sqrt(2)*|1>/2, |0>, |1>, |0>, sqrt(2)*|0>/2 - sqrt(2)*|1>/2, |1>, sqrt(2)*|0>/2 + sqrt(2)*|1>/2, sqrt(2)*|0>/2 - sqrt(2)*|1>/2, |0>, |1>, |0>, |0>, sqrt(2)*|0>/2 + sqrt(2)*|1>/2, |0>, sqrt(2)*|0>/2 + sqrt(2)*|1>/2, |1>, |0>, |1>, sqrt(2)*|0>/2 - sqrt(2)*|1>/2, |0>, |1>, sqrt(2)*|0>/2 + sqrt(2)*|1>/2, sqrt(2)*|0>/2 + sqrt(2)*|1>/2, |1>, sqrt(2)*|0>/2 - sqrt(2)*|1>/2, sqrt(2)*|0>/2 - sqrt(2)*|1>/2, |0>, sqrt(2)*|0>/2 + sqrt(2)*|1>/2, sqrt(2)*|0>/2 - sqrt(2)*|1>/2, |0>, sqrt(2)*|0>/2 + sqrt(2)*|1>/2, sqrt(2)*|0>/2 - sqrt(2)*|1>/2, sqrt(2)*|0>/2 + sqrt(2)*|1>/2, sqrt(2)*|0>/2 - sqrt(2)*|1>/2, |0>, |0>, sqrt(2)*|0>/2 + sqrt(2)*|1>/2, sqrt(2)*|0>/2 - sqrt(2)*|1>/2, sqrt(2)*|0>/2 + sqrt(2)*|1>/2, sqrt(2)*|0>/2 - sqrt(2)*|1>/2, |0>, |1>, sqrt(2)*|0>/2 + sqrt(2)*|1>/2, |0>, sqrt(2)*|0>/2 - sqrt(2)*|1>/2, sqrt(2)*|0>/2 + sqrt(2)*|1>/2, sqrt(2)*|0>/2 - sqrt(2)*|1>/2, sqrt(2)*|0>/2 + sqrt(2)*|1>/2, sqrt(2)*|0>/2 + sqrt(2)*|1>/2, sqrt(2)*|0>/2 - sqrt(2)*|1>/2, |0>, |0>, |1>, |1>, |1>, sqrt(2)*|0>/2 + sqrt(2)*|1>/2, |0>, |0>, |1>, |1>, |1>, sqrt(2)*|0>/2 - sqrt(2)*|1>/2, sqrt(2)*|0>/2 - sqrt(2)*|1>/2, sqrt(2)*|0>/2 - sqrt(2)*|1>/2, sqrt(2)*|0>/2 + sqrt(2)*|1>/2, |0>, |1>, |1>, |0>, sqrt(2)*|0>/2 + sqrt(2)*|1>/2, |1>, |1>, sqrt(2)*|0>/2 - sqrt(2)*|1>/2, sqrt(2)*|0>/2 - sqrt(2)*|1>/2, sqrt(2)*|0>/2 - sqrt(2)*|1>/2, |1>, sqrt(2)*|0>/2 - sqrt(2)*|1>/2, |1>, sqrt(2)*|0>/2 - sqrt(2)*|1>/2, |0>, sqrt(2)*|0>/2 + sqrt(2)*|1>/2, sqrt(2)*|0>/2 - sqrt(2)*|1>/2, |0>, |1>, |0>, |0>]\n",
      "Bob Measures: [|1>, |1>, |1>, |1>, |1>, |1>, |1>, |0>, |1>, |1>, |0>, |1>, |1>, |1>, |0>, |0>, |1>, |0>, |1>, |0>, |1>, |1>, |0>, |1>, |1>, |1>, |0>, |0>, |1>, |1>, |1>, |0>, |1>, |0>, |0>, |1>, |1>, |0>, |0>, |1>, |1>, |1>, |1>, |1>, |0>, |1>, |1>, |0>, |1>, |0>, |1>, |1>, |1>, |1>, |1>, |0>, |1>, |0>, |1>, |0>, |1>, |0>, |0>, |0>, |0>, |0>, |1>, |1>, |1>, |0>, |0>, |0>, |0>, |1>, |1>, |0>, |0>, |0>, |0>, |1>, |1>, |0>, |0>, |0>, |0>, |1>, |1>, |1>, |1>, |1>, |0>, |0>, |1>, |0>, |0>, |0>, |0>, |0>, |1>, |1>, |1>, |0>, |1>, |0>, |1>, |1>, |0>, |0>, |0>, |0>, |1>, |1>, |0>, |0>, |0>, |1>, |1>, |1>, |1>, |0>, |0>, |1>, |0>, |1>, |1>, |0>, |0>, |1>, |1>, |0>, |0>, |1>, |0>, |0>, |0>, |0>, |1>, |0>, |0>, |1>, |0>, |1>, |0>, |1>, |0>, |1>, |0>, |0>, |1>, |1>, |0>, |1>, |0>, |0>, |0>, |0>, |1>, |0>, |0>, |1>, |0>, |1>, |0>, |0>, |0>, |1>, |0>, |0>, |1>, |1>, |0>, |0>, |1>, |0>, |1>, |0>, |1>, |0>, |0>, |0>, |1>, |1>, |0>, |0>, |0>, |0>, |0>, |1>, |0>, |1>, |1>, |1>, |0>, |1>, |1>, |1>, |1>, |0>, |0>, |1>, |1>, |0>, |0>, |1>, |1>, |1>, |0>, |1>, |0>, |0>, |1>, |0>, |1>, |1>, |0>, |1>, |0>, |1>, |1>, |1>, |0>, |1>, |1>, |1>, |0>, |0>, |1>, |0>, |0>, |0>, |1>, |1>, |1>, |1>, |0>, |1>, |0>, |1>, |1>, |0>, |0>, |1>, |0>, |1>, |1>, |1>, |0>, |1>, |1>, |0>, |0>, |1>, |0>, |1>, |0>, |1>, |1>, |0>, |0>, |1>, |0>, |1>, |0>, |0>, |1>, |0>, |1>, |1>, |1>, |1>, |0>, |1>, |0>, |1>, |1>, |1>, |0>, |1>, |0>, |0>, |1>, |1>, |0>, |1>, |1>, |1>, |0>, |1>, |0>, |1>, |1>, |1>, |1>, |1>, |1>, |0>, |1>, |0>, |0>, |1>, |0>, |1>, |0>, |1>, |1>, |1>]\n",
      "Eavesdropped: True\n",
      "pk: ['-', '-', '-', '-', |1>, '-', |1>, |0>, '-', '-', '-', |1>, '-', |1>, |0>, '-', |1>, '-', '-', '-', |1>, |1>, '-', |1>, '-', |1>, '-', |0>, |1>, '-', |1>, |0>, |1>, |0>, '-', '-', |1>, |0>, '-', '-', '-', '-', |1>, '-', |0>, '-', |1>, |0>, '-', |0>, '-', '-', |1>, |1>, |1>, '-', '-', '-', '-', |0>, '-', |0>, '-', '-', |0>, '-', '-', |1>, '-', |0>, |0>, |0>, |0>, |1>, '-', |0>, '-', |0>, |0>, |1>, '-', |0>, '-', |0>, |0>, '-', '-', '-', |1>, '-', '-', |0>, |1>, '-', |0>, '-', |0>, |0>, |1>, '-', |1>, '-', '-', |0>, '-', '-', '-', |0>, |0>, |0>, |1>, '-', |0>, |0>, |0>, '-', |1>, '-', '-', '-', '-', '-', '-', |1>, |1>, |0>, |0>, |1>, '-', '-', |0>, |1>, |0>, |0>, '-', |0>, |1>, |0>, '-', '-', |0>, |1>, '-', |1>, |0>, '-', |0>, '-', '-', '-', '-', |1>, |0>, '-', |0>, '-', |1>, '-', |0>, '-', '-', '-', '-', '-', |0>, |1>, |0>, '-', '-', |1>, |0>, '-', '-', '-', '-', |0>, '-', |0>, '-', |0>, |1>, |1>, '-', |0>, |0>, |0>, |0>, '-', |0>, '-', '-', |1>, '-', '-', |1>, |1>, |1>, '-', '-', '-', '-', |0>, |0>, |1>, |1>, '-', |0>, '-', |0>, '-', |1>, '-', '-', |1>, '-', |1>, |0>, |1>, '-', '-', |0>, |1>, '-', '-', |0>, '-', '-', '-', |0>, '-', '-', |1>, |1>, |1>, '-', |1>, '-', |1>, '-', '-', |0>, '-', '-', |1>, |1>, |1>, '-', |1>, '-', '-', '-', '-', '-', '-', '-', '-', |1>, '-', '-', '-', |0>, '-', |0>, |0>, '-', '-', '-', '-', |1>, |1>, |0>, '-', '-', '-', '-', |1>, |0>, '-', |0>, '-', '-', |1>, |0>, '-', |1>, '-', |0>, |1>, '-', |1>, |1>, |1>, |1>, '-', |1>, '-', '-', '-', |0>, '-', '-', |1>, '-', |1>, |1>, '-']\n",
      "prob to catch Eve: 0.9999994336783435 with 50 bits\n",
      "Eve was caught 3 times\n",
      "Usable key len 150\n"
     ]
    }
   ],
   "source": [
    "def bb84_eavesdropping_probability_detection():\n",
    "    key_size = 256\n",
    "    check_size = 50\n",
    "    N = key_size + check_size\n",
    "\n",
    "    alice_bits = get_random_bits(N)\n",
    "    alice_bases = get_random_bases(N)\n",
    "    bob_bases = get_random_bases(N)\n",
    "\n",
    "    private_key, eavesdropped = bb84(alice_bits, alice_bases, bob_bases,\n",
    "                                     eavesdropping=True, check_size=check_size)\n",
    "    prob = 1. - (3 / 4) ** check_size\n",
    "    print(f\"prob to catch Eve: {prob} with {check_size} bits\")\n",
    "    print(f\"Eve was caught {eavesdropped} times\")\n",
    "\n",
    "    usable_pk = sum(1 if x != '-' else 0 for x in private_key)\n",
    "    print(f\"Usable key len {usable_pk}\")\n",
    "\n",
    "\n",
    "bb84_eavesdropping_probability_detection()\n"
   ]
  },
  {
   "cell_type": "markdown",
   "metadata": {},
   "source": [
    "## Tests"
   ]
  },
  {
   "cell_type": "code",
   "execution_count": 13,
   "metadata": {},
   "outputs": [
    {
     "name": "stdout",
     "output_type": "stream",
     "text": [
      "Alice Encoded: [|0>, |1>, sqrt(2)*|0>/2 + sqrt(2)*|1>/2, |1>, sqrt(2)*|0>/2 - sqrt(2)*|1>/2, sqrt(2)*|0>/2 + sqrt(2)*|1>/2, sqrt(2)*|0>/2 - sqrt(2)*|1>/2, |1>, |1>]\n",
      "Bob Measures: [|0>, |1>, |0>, |1>, |1>, |0>, |0>, |1>, |1>]\n",
      "pk: [|0>, '-', |0>, |1>, '-', |0>, '-', '-', |1>]\n"
     ]
    }
   ],
   "source": [
    "def test_0():\n",
    "    alice_bits = [0, 1, 0, 1, 1, 0, 1, 1, 1]\n",
    "\n",
    "    alice_bases = ['Z', 'Z', 'X', 'Z', 'X', 'X', 'X', 'Z', 'Z']\n",
    "\n",
    "    bob_bases = ['Z', 'X', 'X', 'Z', 'Z', 'X', 'Z', 'X', 'Z']\n",
    "\n",
    "    pk, _ = bb84(alice_bits, alice_bases, bob_bases)\n",
    "    truth = [zero, '-', zero, one, '-', zero, '-', '-', one]\n",
    "\n",
    "    assert pk == truth\n",
    "\n",
    "\n",
    "test_0()"
   ]
  },
  {
   "cell_type": "code",
   "execution_count": 14,
   "metadata": {},
   "outputs": [
    {
     "name": "stdout",
     "output_type": "stream",
     "text": [
      "Alice Encoded: [sqrt(2)*|0>/2 - sqrt(2)*|1>/2, |1>, |0>, sqrt(2)*|0>/2 - sqrt(2)*|1>/2, sqrt(2)*|0>/2 + sqrt(2)*|1>/2, |1>, sqrt(2)*|0>/2 - sqrt(2)*|1>/2, sqrt(2)*|0>/2 + sqrt(2)*|1>/2, sqrt(2)*|0>/2 - sqrt(2)*|1>/2, sqrt(2)*|0>/2 - sqrt(2)*|1>/2]\n",
      "Bob Measures: [|1>, |1>, |0>, |1>, |0>, |1>, |1>, |0>, |0>, |1>]\n",
      "pk: [|1>, |1>, '-', |1>, '-', |1>, |1>, |0>, '-', |1>]\n"
     ]
    }
   ],
   "source": [
    "def test_1():\n",
    "    np.random.seed(10)\n",
    "\n",
    "    N = 10\n",
    "    alice_bits = get_random_bits(N)\n",
    "    alice_bases = get_random_bases(N)\n",
    "    bob_bases = get_random_bases(N)\n",
    "\n",
    "    pk, _ = bb84(alice_bits, alice_bases, bob_bases)\n",
    "    truth = [one, one, '-', one, '-', one, one, zero, '-', one]\n",
    "    assert pk == truth\n",
    "\n",
    "\n",
    "test_1()"
   ]
  },
  {
   "cell_type": "code",
   "execution_count": 15,
   "metadata": {},
   "outputs": [
    {
     "name": "stdout",
     "output_type": "stream",
     "text": [
      "Alice Encoded: [|0>, |1>, sqrt(2)*|0>/2 - sqrt(2)*|1>/2, |0>, |1>, |1>, sqrt(2)*|0>/2 - sqrt(2)*|1>/2, |0>, sqrt(2)*|0>/2 - sqrt(2)*|1>/2, sqrt(2)*|0>/2 + sqrt(2)*|1>/2, sqrt(2)*|0>/2 - sqrt(2)*|1>/2, |0>]\n",
      "Bob Measures: [|0>, |1>, |1>, |0>, |1>, |0>, |1>, |0>, |1>, |0>, |1>, |0>]\n",
      "pk: ['-', |1>, |1>, '-', |1>, '-', '-', |0>, |1>, |0>, |1>, |0>]\n"
     ]
    }
   ],
   "source": [
    "def test_2():\n",
    "    alice_bits = [0, 1, 1,\n",
    "                  0, 1, 1,\n",
    "                  1, 0, 1,\n",
    "                  0, 1, 0]\n",
    "\n",
    "    alice_bases = ['Z', 'Z', 'X',\n",
    "                   'Z', 'Z', 'Z',\n",
    "                   'X', 'Z', 'X',\n",
    "                   'X', 'X', 'Z']\n",
    "\n",
    "    bob_bases = ['X', 'Z', 'X',\n",
    "                 'X', 'Z', 'X',\n",
    "                 'Z', 'Z', 'X',\n",
    "                 'X', 'X', 'Z']\n",
    "\n",
    "    pk, _ = bb84(alice_bits, alice_bases, bob_bases)\n",
    "    truth = ['-', one, one,\n",
    "             '-', one, '-',\n",
    "             '-', zero, one,\n",
    "             zero, one, zero]\n",
    "    assert pk == truth\n",
    "\n",
    "\n",
    "test_2()"
   ]
  },
  {
   "cell_type": "code",
   "execution_count": 16,
   "metadata": {},
   "outputs": [
    {
     "name": "stdout",
     "output_type": "stream",
     "text": [
      "Alice Encoded: [sqrt(2)*|0>/2 + sqrt(2)*|1>/2, sqrt(2)*|0>/2 - sqrt(2)*|1>/2, |0>, sqrt(2)*|0>/2 - sqrt(2)*|1>/2, |0>, |1>, sqrt(2)*|0>/2 - sqrt(2)*|1>/2, sqrt(2)*|0>/2 + sqrt(2)*|1>/2, |1>]\n",
      "Bob Measures: [|0>, |0>, |0>, |0>, |0>, |1>, |1>, |0>, |1>]\n",
      "pk: ['-', '-', |0>, '-', |0>, '-', |1>, '-', |1>]\n"
     ]
    }
   ],
   "source": [
    "def test_3():\n",
    "    alice_bits = [0, 1, 0, 1, 0, 1, 1, 0, 1]\n",
    "\n",
    "    alice_bases = ['X', 'X', 'Z', 'X', 'Z', 'Z', 'X', 'X', 'Z']\n",
    "\n",
    "    bob_bases = ['Z', 'Z', 'Z', 'Z', 'Z', 'X', 'X', 'Z', 'Z']\n",
    "\n",
    "    pk, _ = bb84(alice_bits, alice_bases, bob_bases)\n",
    "    truth = ['-', '-', zero, '-', zero, '-', one, '-', one]\n",
    "    assert pk == truth\n",
    "\n",
    "\n",
    "test_3()"
   ]
  },
  {
   "cell_type": "code",
   "execution_count": 17,
   "metadata": {},
   "outputs": [
    {
     "name": "stdout",
     "output_type": "stream",
     "text": [
      "Alice Encoded: [sqrt(2)*|0>/2 + sqrt(2)*|1>/2, sqrt(2)*|0>/2 - sqrt(2)*|1>/2, |0>, sqrt(2)*|0>/2 - sqrt(2)*|1>/2, |0>, |1>, sqrt(2)*|0>/2 - sqrt(2)*|1>/2, sqrt(2)*|0>/2 + sqrt(2)*|1>/2, |1>]\n",
      "Bob Measures: [|0>, |0>, |0>, |1>, |0>, |1>, |1>, |1>, |1>]\n",
      "pk: ['-', '-', |0>, '-', |0>, '-', |1>, '-', |1>]\n"
     ]
    }
   ],
   "source": [
    "def test_4():\n",
    "    alice_bits = [0, 1, 0, 1, 0, 1, 1, 0, 1]\n",
    "\n",
    "    alice_bases = ['X', 'X', 'Z', 'X', 'Z', 'Z', 'X', 'X', 'Z']\n",
    "\n",
    "    bob_bases = ['Z', 'Z', 'Z', 'Z', 'Z', 'X', 'X', 'Z', 'Z']\n",
    "\n",
    "    pk, _ = bb84(alice_bits, alice_bases, bob_bases)\n",
    "    truth = ['-', '-', zero, '-', zero, '-', one, '-', one]\n",
    "    assert pk == truth\n",
    "\n",
    "\n",
    "test_4()"
   ]
  }
 ],
 "metadata": {
  "kernelspec": {
   "display_name": ".venv",
   "language": "python",
   "name": "python3"
  },
  "language_info": {
   "codemirror_mode": {
    "name": "ipython",
    "version": 3
   },
   "file_extension": ".py",
   "mimetype": "text/x-python",
   "name": "python",
   "nbconvert_exporter": "python",
   "pygments_lexer": "ipython3",
   "version": "3.10.12"
  }
 },
 "nbformat": 4,
 "nbformat_minor": 2
}
