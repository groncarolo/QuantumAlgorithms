{
 "cells": [
  {
   "cell_type": "markdown",
   "metadata": {},
   "source": [
    "# Deutsch Algorithm"
   ]
  },
  {
   "cell_type": "markdown",
   "metadata": {},
   "source": [
    "Import needed modules"
   ]
  },
  {
   "cell_type": "code",
   "execution_count": 42,
   "metadata": {},
   "outputs": [],
   "source": [
    "from sympy.physics.quantum.qapply import qapply\n",
    "from sympy.physics.quantum.qubit import Qubit, matrix_to_qubit\n",
    "from sympy.physics.quantum import TensorProduct\n",
    "from sympy.physics.quantum.gate import HadamardGate\n",
    "from sympy.physics.quantum.represent import represent\n",
    "from sympy import sqrt\n",
    "\n",
    "from oracle import oracle"
   ]
  },
  {
   "cell_type": "markdown",
   "metadata": {},
   "source": [
    "## The problem:\n",
    "Given a function `f {0, 1} -> {0, 1}` that we can evaluate but is unknown to us determine if it is balanced or constant \n",
    "\n",
    "The oracle takes as input Qubits `|x>` and `|y>` and returns `|x, y XOR f(x)>`\n",
    "\n",
    "## The Solution:\n",
    "```\n",
    "                 +-----------------+\n",
    "  |x>  |0>---H---|                 |---H--M |x>\n",
    "                 |       U_f       |\n",
    "  |y>  |1>---H---|                 |------   |y XOR f(x)>\n",
    "                 +-----------------+\n",
    "```\n",
    "```\n",
    "Constant zero -> +|0>*|->\n",
    "Constant  one -> -|0>*|->\n",
    "Balanced 0->1 -> +|1>*|->\n",
    "Balanced 1->0 -> -|1>*|->\n",
    "```"
   ]
  },
  {
   "cell_type": "markdown",
   "metadata": {},
   "source": [
    " $ R = 1/2*((-1)^{f(0)} + (-1)^{f(1)})|0> + 1/2*((-1)^{f(0)} - (-1)^{f(1)})|1>  $\n"
   ]
  },
  {
   "cell_type": "code",
   "execution_count": 43,
   "metadata": {},
   "outputs": [],
   "source": [
    "def deutsch(f):\n",
    "    \"\"\"\n",
    "    Run Deutsch algorithm and return |x>*|y XOR f(x)>\n",
    "    :param func f: oracle function\n",
    "    \"\"\"\n",
    "\n",
    "    # apply H gate to both inputs\n",
    "    x = qapply(HadamardGate(0) * Qubit(0))\n",
    "    print(f\"|x>={x}\")\n",
    "    y = qapply(HadamardGate(0) * Qubit(1))\n",
    "    print(f\"|y>={y}\")\n",
    "\n",
    "    # calculate the Tensor Product of the inputs\n",
    "    xy = TensorProduct(x, y)\n",
    "    xy = matrix_to_qubit(represent(xy))\n",
    "    print(f\"|xy>={xy}\")\n",
    "\n",
    "    # apply oracle\n",
    "    r = oracle(x, y, f)\n",
    "\n",
    "    # apply H on top Qubit\n",
    "    return qapply(HadamardGate(1) * r)"
   ]
  },
  {
   "cell_type": "markdown",
   "metadata": {},
   "source": [
    "## Tests"
   ]
  },
  {
   "cell_type": "markdown",
   "metadata": {},
   "source": [
    "### Test const zero function\n",
    " $ R = 1/2*((-1)^{f(0)} + (-1)^{f(1)})|0> + 1/2*((-1)^{f(0)} - (-1)^{f(1)})|1>  $\n",
    "\n",
    "- Constant Zero $ f(0) = f(1) = 0 $\n",
    "\n",
    "$|\\psi> = |0> $\n",
    "\n",
    "Note the second output is not shown here"
   ]
  },
  {
   "cell_type": "code",
   "execution_count": 44,
   "metadata": {},
   "outputs": [
    {
     "name": "stdout",
     "output_type": "stream",
     "text": [
      "|x>=sqrt(2)*|0>/2 + sqrt(2)*|1>/2\n",
      "|y>=sqrt(2)*|0>/2 - sqrt(2)*|1>/2\n",
      "|xy>=|00>/2 - |01>/2 + |10>/2 - |11>/2\n",
      "\n",
      "Result const zero function: sqrt(2)*|00>/2 - sqrt(2)*|01>/2\n"
     ]
    }
   ],
   "source": [
    "def test_0():\n",
    "\n",
    "    def f(x, *args):\n",
    "        return 0\n",
    "\n",
    "    r = deutsch(f)\n",
    "    print(f\"\\nResult const zero function: {r}\")\n",
    "\n",
    "    truth = TensorProduct(Qubit(0), ((Qubit(0) - Qubit(1)) / sqrt(2)))\n",
    "    truth = matrix_to_qubit(represent(truth))\n",
    "    assert truth == r\n",
    "\n",
    "\n",
    "test_0()"
   ]
  },
  {
   "cell_type": "markdown",
   "metadata": {},
   "source": [
    "### Test const one function\n",
    " $ R = 1/2*((-1)^{f(0)} + (-1)^{f(1)})|0> + 1/2*((-1)^{f(0)} - (-1)^{f(1)})|1>  $\n",
    "\n",
    "- Constant Zero $ f(0) = f(1) = 1 $\n",
    "\n",
    "$|\\psi> = -|0> $\n",
    "\n",
    "Note the second output is not shown here"
   ]
  },
  {
   "cell_type": "code",
   "execution_count": 49,
   "metadata": {},
   "outputs": [
    {
     "name": "stdout",
     "output_type": "stream",
     "text": [
      "\n",
      "|x>=sqrt(2)*|0>/2 + sqrt(2)*|1>/2\n",
      "|y>=sqrt(2)*|0>/2 - sqrt(2)*|1>/2\n",
      "|xy>=|00>/2 - |01>/2 + |10>/2 - |11>/2\n",
      "\n",
      "Result const one function: -sqrt(2)*|00>/2 + sqrt(2)*|01>/2\n"
     ]
    }
   ],
   "source": [
    "def test_1():\n",
    "    print()\n",
    "\n",
    "    def f(x, *args):\n",
    "        return 1\n",
    "\n",
    "    r = deutsch(f)\n",
    "    print(f\"\\nResult const one function: {r}\")\n",
    "\n",
    "    truth = TensorProduct(-Qubit(0), ((Qubit(0) - Qubit(1)) / sqrt(2)))\n",
    "    truth = matrix_to_qubit(represent(truth))\n",
    "    assert truth == r\n",
    "\n",
    "\n",
    "test_1()"
   ]
  },
  {
   "cell_type": "markdown",
   "metadata": {},
   "source": [
    "### Test balanced 0->1\n",
    " $ R = 1/2*((-1)^{f(0)} + (-1)^{f(1)})|0> + 1/2*((-1)^{f(0)} - (-1)^{f(1)})|1>  $\n",
    "\n",
    "- Balanced Zero $ f(0) = 1 , f(1) = 0 $\n",
    "\n",
    "$|\\psi> = -|1> $\n",
    "\n",
    "Note the second output is not shown here"
   ]
  },
  {
   "cell_type": "code",
   "execution_count": 30,
   "metadata": {},
   "outputs": [
    {
     "name": "stdout",
     "output_type": "stream",
     "text": [
      "|x>=sqrt(2)*|0>/2 + sqrt(2)*|1>/2\n",
      "|y>=sqrt(2)*|0>/2 - sqrt(2)*|1>/2\n",
      "|xy>=|00>/2 - |01>/2 + |10>/2 - |11>/2\n",
      "\n",
      "Result balanced 0->1 function: -sqrt(2)*|10>/2 + sqrt(2)*|11>/2\n"
     ]
    }
   ],
   "source": [
    "def test_2():\n",
    "\n",
    "    def f(x, *args):\n",
    "        if x[0] == 0:\n",
    "            return 1\n",
    "        else:\n",
    "            return 0\n",
    "\n",
    "    r = deutsch(f)\n",
    "    print(f\"\\nResult balanced 0->1 function: {r}\")\n",
    "\n",
    "    truth = TensorProduct(-Qubit(1), ((Qubit(0) - Qubit(1)) / sqrt(2)))\n",
    "    truth = matrix_to_qubit(represent(truth))\n",
    "    assert truth == r\n",
    "\n",
    "\n",
    "test_2()"
   ]
  },
  {
   "cell_type": "markdown",
   "metadata": {},
   "source": [
    "### Test balanced 1->0\n",
    " $ R = 1/2*((-1)^{f(0)} + (-1)^{f(1)})|0> + 1/2*((-1)^{f(0)} - (-1)^{f(1)})|1>  $\n",
    "\n",
    "- Balanced Zero $ f(0) = 0 , f(1) = 1 $\n",
    "\n",
    "$|\\psi> = |1> $\n",
    "\n",
    "Note the second output is not shown here"
   ]
  },
  {
   "cell_type": "code",
   "execution_count": 31,
   "metadata": {},
   "outputs": [
    {
     "name": "stdout",
     "output_type": "stream",
     "text": [
      "|x>=sqrt(2)*|0>/2 + sqrt(2)*|1>/2\n",
      "|y>=sqrt(2)*|0>/2 - sqrt(2)*|1>/2\n",
      "|xy>=|00>/2 - |01>/2 + |10>/2 - |11>/2\n",
      "\n",
      "Result balanced 1->0 function: sqrt(2)*|10>/2 - sqrt(2)*|11>/2\n"
     ]
    }
   ],
   "source": [
    "def test_3():\n",
    "\n",
    "    def f(x, *args):\n",
    "        if x[0] == 0:\n",
    "            return 0\n",
    "        else:\n",
    "            return 1\n",
    "\n",
    "    r = deutsch(f)\n",
    "    print(f\"\\nResult balanced 1->0 function: {r}\")\n",
    "\n",
    "    truth = TensorProduct(Qubit(1), ((Qubit(0) - Qubit(1)) / sqrt(2)))\n",
    "    truth = matrix_to_qubit(represent(truth))\n",
    "    assert truth == r\n",
    "\n",
    "\n",
    "test_3()"
   ]
  }
 ],
 "metadata": {
  "kernelspec": {
   "display_name": ".venv",
   "language": "python",
   "name": "python3"
  },
  "language_info": {
   "codemirror_mode": {
    "name": "ipython",
    "version": 3
   },
   "file_extension": ".py",
   "mimetype": "text/x-python",
   "name": "python",
   "nbconvert_exporter": "python",
   "pygments_lexer": "ipython3",
   "version": "3.10.12"
  }
 },
 "nbformat": 4,
 "nbformat_minor": 2
}
