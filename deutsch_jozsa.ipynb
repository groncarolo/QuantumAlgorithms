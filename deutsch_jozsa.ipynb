{
 "cells": [
  {
   "cell_type": "markdown",
   "metadata": {},
   "source": [
    "# Deutsch Jozsa Algorithm"
   ]
  },
  {
   "cell_type": "markdown",
   "metadata": {},
   "source": [
    "Import needed modules"
   ]
  },
  {
   "cell_type": "code",
   "execution_count": 1,
   "metadata": {},
   "outputs": [],
   "source": [
    "\"\"\" This module implements Deutch_Jozsa algorithm \"\"\"\n",
    "from sympy.physics.quantum.qapply import qapply\n",
    "from sympy.physics.quantum.qubit import Qubit, IntQubit, matrix_to_qubit\n",
    "from sympy.physics.quantum import TensorProduct\n",
    "from sympy.physics.quantum.gate import HadamardGate\n",
    "from sympy.physics.quantum.represent import represent\n",
    "\n",
    "from oracle import oracle\n",
    "from util.util import hn\n",
    "\n",
    "from sympy import sqrt"
   ]
  },
  {
   "cell_type": "markdown",
   "metadata": {},
   "source": [
    "## The problem:\n",
    "This is a generalization of Deutsch algorithm consider `f {0,1}^n  -> f {0, 1}^n` that is not known determine if f is balanced or constant where f is balanced if exactly half of the input go to zero ( and the other half to one) constant if all input go to zero OR all got to one\n",
    "\n",
    "## The Solution:\n",
    "```                         \n",
    "                     +-----------------+\n",
    "  |x>  |0>-/n--H*n---|                 |--/n--H*n---M |x>\n",
    "                     |       U_f       |\n",
    "  |y>  |1>---H-------|                 |------------  |y XOR f(x)>\n",
    "                     +-----------------+\n",
    "```\n",
    "```\n",
    "Constant zero -> +|0*n>*|->\n",
    "Constant  one -> -|0*n>*|->\n",
    "Balanced 0->1 ->  NOT (+|0*n>*|->) and NOT (-|0*n>*|->)\n",
    "```"
   ]
  },
  {
   "cell_type": "code",
   "execution_count": 2,
   "metadata": {},
   "outputs": [],
   "source": [
    "def deutsch_jozsa(f, n):\n",
    "    \"\"\"\n",
    "    Run  Deutsch Jozsa algorithm and return |x>*|y XOR f(x)>\n",
    "    :param func f: oracle function\n",
    "    :param int n: string length\n",
    "\n",
    "    \"\"\"\n",
    "    x = qapply(hn(n) * Qubit('0' * n))\n",
    "    print(f\"|x>: {x}\")\n",
    "    y = qapply(HadamardGate(0) * Qubit(1))\n",
    "    print(f\"|y>: {y}\")\n",
    "\n",
    "    # calculate the Tensor Product of the inputs\n",
    "    xy = TensorProduct(x, y)\n",
    "    xy = matrix_to_qubit(represent(xy))\n",
    "    print(f\"|xy>: {xy}\")\n",
    "\n",
    "    # apply oracle\n",
    "    r = oracle(x, y, f)\n",
    "\n",
    "    # apply H*n on top Qubits\n",
    "    r = qapply(hn(n, start=1) * r)\n",
    "    return r"
   ]
  },
  {
   "cell_type": "markdown",
   "metadata": {},
   "source": [
    "## Tests"
   ]
  },
  {
   "cell_type": "markdown",
   "metadata": {},
   "source": [
    "Test Const zero function"
   ]
  },
  {
   "cell_type": "code",
   "execution_count": 3,
   "metadata": {},
   "outputs": [
    {
     "name": "stdout",
     "output_type": "stream",
     "text": [
      "|x>: sqrt(2)*|000>/4 + sqrt(2)*|001>/4 + sqrt(2)*|010>/4 + sqrt(2)*|011>/4 + sqrt(2)*|100>/4 + sqrt(2)*|101>/4 + sqrt(2)*|110>/4 + sqrt(2)*|111>/4\n",
      "|y>: sqrt(2)*|0>/2 - sqrt(2)*|1>/2\n",
      "|xy>: |0000>/4 - |0001>/4 + |0010>/4 - |0011>/4 + |0100>/4 - |0101>/4 + |0110>/4 - |0111>/4 + |1000>/4 - |1001>/4 + |1010>/4 - |1011>/4 + |1100>/4 - |1101>/4 + |1110>/4 - |1111>/4\n",
      "\n",
      "Result const zero function: sqrt(2)*|0000>/2 - sqrt(2)*|0001>/2\n"
     ]
    }
   ],
   "source": [
    "def test_0():\n",
    "\n",
    "    def f(x, *args):\n",
    "        return 0\n",
    "\n",
    "    n = 3\n",
    "    r = deutsch_jozsa(f, n)\n",
    "    print(f'\\nResult const zero function: {r}')\n",
    "\n",
    "    truth = TensorProduct(Qubit('0' * n), 1 / sqrt(2) * (Qubit(0) - Qubit(1)))\n",
    "    truth = matrix_to_qubit(represent((truth)))\n",
    "    assert truth == r\n",
    "\n",
    "\n",
    "test_0()"
   ]
  },
  {
   "cell_type": "markdown",
   "metadata": {},
   "source": [
    "Test Const one function"
   ]
  },
  {
   "cell_type": "code",
   "execution_count": null,
   "metadata": {},
   "outputs": [
    {
     "name": "stdout",
     "output_type": "stream",
     "text": [
      "|x>: sqrt(2)*|000>/4 + sqrt(2)*|001>/4 + sqrt(2)*|010>/4 + sqrt(2)*|011>/4 + sqrt(2)*|100>/4 + sqrt(2)*|101>/4 + sqrt(2)*|110>/4 + sqrt(2)*|111>/4\n",
      "|y>: sqrt(2)*|0>/2 - sqrt(2)*|1>/2\n",
      "|xy>: |0000>/4 - |0001>/4 + |0010>/4 - |0011>/4 + |0100>/4 - |0101>/4 + |0110>/4 - |0111>/4 + |1000>/4 - |1001>/4 + |1010>/4 - |1011>/4 + |1100>/4 - |1101>/4 + |1110>/4 - |1111>/4\n",
      "\n",
      "Result const one function: -sqrt(2)*|0000>/2 + sqrt(2)*|0001>/2\n"
     ]
    }
   ],
   "source": [
    "def test_1():\n",
    "\n",
    "    def f(x, *args):\n",
    "        return 1\n",
    "\n",
    "    n = 3\n",
    "    r = deutsch_jozsa(f, n)\n",
    "    print(f'\\nResult const one function: {r}')\n",
    "\n",
    "    truth = TensorProduct(-1 * Qubit('0' * n),\n",
    "                          1 / sqrt(2) * (Qubit(0) - Qubit(1)))\n",
    "    truth = matrix_to_qubit(represent(truth))\n",
    "    assert truth == r\n",
    "\n",
    "\n",
    "test_1()"
   ]
  },
  {
   "cell_type": "markdown",
   "metadata": {},
   "source": [
    "Test balanced function"
   ]
  },
  {
   "cell_type": "code",
   "execution_count": null,
   "metadata": {},
   "outputs": [
    {
     "name": "stdout",
     "output_type": "stream",
     "text": [
      "|x>: sqrt(2)*|000>/4 + sqrt(2)*|001>/4 + sqrt(2)*|010>/4 + sqrt(2)*|011>/4 + sqrt(2)*|100>/4 + sqrt(2)*|101>/4 + sqrt(2)*|110>/4 + sqrt(2)*|111>/4\n",
      "|y>: sqrt(2)*|0>/2 - sqrt(2)*|1>/2\n",
      "|xy>: |0000>/4 - |0001>/4 + |0010>/4 - |0011>/4 + |0100>/4 - |0101>/4 + |0110>/4 - |0111>/4 + |1000>/4 - |1001>/4 + |1010>/4 - |1011>/4 + |1100>/4 - |1101>/4 + |1110>/4 - |1111>/4\n",
      "\n",
      "Result balanced zero function: -sqrt(2)*|0010>/2 + sqrt(2)*|0011>/2\n"
     ]
    }
   ],
   "source": [
    "def test_2():\n",
    "\n",
    "    def f(x, *args):\n",
    "        q = IntQubit(*x)\n",
    "        if q.as_int() % 2 == 0:\n",
    "            return 1\n",
    "        else:\n",
    "            return 0\n",
    "\n",
    "    n = 3\n",
    "    r = deutsch_jozsa(f, n)\n",
    "    print(f'\\nResult balanced zero function: {r}')\n",
    "    truth_0 = TensorProduct(Qubit('0' * n),\n",
    "                            1 / sqrt(2) * (Qubit(0) - Qubit(1)))\n",
    "    truth_0 = matrix_to_qubit(represent((truth_0)))\n",
    "    truth_1 = TensorProduct(-1 * Qubit('0' * n),\n",
    "                            1 / sqrt(2) * (Qubit(0) - Qubit(1)))\n",
    "    truth_1 = matrix_to_qubit(represent(truth_1))\n",
    "\n",
    "    assert r != truth_0 and r != truth_1\n",
    "\n",
    "\n",
    "test_2()"
   ]
  }
 ],
 "metadata": {
  "kernelspec": {
   "display_name": ".venv",
   "language": "python",
   "name": "python3"
  },
  "language_info": {
   "codemirror_mode": {
    "name": "ipython",
    "version": 3
   },
   "file_extension": ".py",
   "mimetype": "text/x-python",
   "name": "python",
   "nbconvert_exporter": "python",
   "pygments_lexer": "ipython3",
   "version": "3.10.12"
  }
 },
 "nbformat": 4,
 "nbformat_minor": 2
}
