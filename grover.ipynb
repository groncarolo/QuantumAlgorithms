{
 "cells": [
  {
   "cell_type": "markdown",
   "metadata": {},
   "source": [
    "# Grover Algorithm"
   ]
  },
  {
   "cell_type": "markdown",
   "metadata": {},
   "source": [
    "Import needed modules"
   ]
  },
  {
   "cell_type": "code",
   "execution_count": 6,
   "metadata": {},
   "outputs": [],
   "source": [
    "\"\"\"This module implements Grover algorithm\"\"\"\n",
    "\n",
    "from sympy import sqrt, Mul\n",
    "from sympy.physics.quantum.qapply import qapply\n",
    "from sympy.physics.quantum.qubit import (\n",
    "    Qubit,\n",
    "    IntQubit,\n",
    "    matrix_to_qubit,\n",
    "    measure_partial,\n",
    ")\n",
    "from sympy.physics.quantum import TensorProduct\n",
    "from sympy.physics.quantum.gate import HadamardGate\n",
    "from sympy.physics.quantum.represent import represent\n",
    "\n",
    "from util.util import hn, get_sub_state\n",
    "from oracle import oracle"
   ]
  },
  {
   "cell_type": "code",
   "execution_count": 7,
   "metadata": {},
   "outputs": [],
   "source": [
    "def inversion_about_mean(state):\n",
    "    \"\"\"\n",
    "    calculate inversion about mean of input state\n",
    "\n",
    "    :param state state: state for which we want the inversion\n",
    "    \"\"\"\n",
    "    factors = []\n",
    "    # get avg\n",
    "    mean = 0\n",
    "    for e in state.args:\n",
    "        aa = [e for e in e.args if isinstance(e, Qubit) is False]\n",
    "        factors.append(Mul(*aa))\n",
    "        mean += Mul(*aa)\n",
    "    mean = (mean / len(factors)).doit()\n",
    "\n",
    "    # apply inversion about mean\n",
    "    r = 0\n",
    "    for s, f in zip(state.args, factors):\n",
    "        aa = [e for e in s.args if isinstance(e, Qubit)]\n",
    "        r += Mul(*aa, -f + 2 * mean)\n",
    "\n",
    "    return r"
   ]
  },
  {
   "cell_type": "markdown",
   "metadata": {},
   "source": [
    "## The problem:\n",
    "Given a function `f {0, 1}^n -> {0, 1}` that we can evaluate \n",
    "\n",
    "The oracle takes as input Qubits |x> and|y> and returns |x, y XOR f(x)>\n",
    "\n",
    "## The solution:\n",
    "```\n",
    "                    +--------------------------------------------------------+\n",
    "                    |   sqrt(2**n) times                                     |\n",
    "                    |            +-----------------+         +---------+     |\n",
    "  |x>  |0>-/n--H*n--|------------|                 |---\\n----| -I - 2A |--\\n-|----M\n",
    "                    |            |       U_f       |         +---------+     |\n",
    "  |y>               |  |1>---H---|                 |------- |y XOR f(x)>     |\n",
    "                    |            +-----------------+                         |\n",
    "                    +--------------------------------------------------------+\n",
    "```                    \n",
    "We obtain a high probability on the input chosen by f\n"
   ]
  },
  {
   "cell_type": "code",
   "execution_count": 8,
   "metadata": {},
   "outputs": [],
   "source": [
    "def grover(f, n):\n",
    "    \"\"\"\n",
    "    Run Grover algorithm and return |x>*|y XOR f(x)>\n",
    "    :param func f: oracle function\n",
    "    :param int n: string length\n",
    "\n",
    "    \"\"\"\n",
    "    # apply H*n gate to |x>\n",
    "    x = qapply(hn(n) * Qubit(\"0\" * n))\n",
    "    print(f\"|x>: {x}\")\n",
    "\n",
    "    # iterate over phase inversion block\n",
    "    for i in range(int(sqrt(2**n))):\n",
    "        print(f\"\\nIter {i}\")\n",
    "        y = qapply(HadamardGate(0) * Qubit(1))\n",
    "        print(f\"|y>: {y}\")\n",
    "\n",
    "        xy = TensorProduct(x, y)\n",
    "        xy = matrix_to_qubit(represent(xy))\n",
    "        print(f\"|xy>: {xy}\")\n",
    "\n",
    "        # apply oracle\n",
    "        state = oracle(x, y, f)\n",
    "\n",
    "        # we measure the y bit\n",
    "        measure = measure_partial(state, (0,))\n",
    "\n",
    "        # get x component of the tensor product, remove y\n",
    "        x = get_sub_state(measure[0][0], 0, n)\n",
    "\n",
    "        x = inversion_about_mean(x)\n",
    "        print(f\"|x>: {x}\")\n",
    "    return x"
   ]
  },
  {
   "cell_type": "markdown",
   "metadata": {},
   "source": [
    "## Test"
   ]
  },
  {
   "cell_type": "code",
   "execution_count": null,
   "metadata": {},
   "outputs": [
    {
     "name": "stdout",
     "output_type": "stream",
     "text": [
      "|x>: sqrt(2)*|000>/4 + sqrt(2)*|001>/4 + sqrt(2)*|010>/4 + sqrt(2)*|011>/4 + sqrt(2)*|100>/4 + sqrt(2)*|101>/4 + sqrt(2)*|110>/4 + sqrt(2)*|111>/4\n",
      "\n",
      "Iter 0\n",
      "|y>: sqrt(2)*|0>/2 - sqrt(2)*|1>/2\n",
      "|xy>: |0000>/4 - |0001>/4 + |0010>/4 - |0011>/4 + |0100>/4 - |0101>/4 + |0110>/4 - |0111>/4 + |1000>/4 - |1001>/4 + |1010>/4 - |1011>/4 + |1100>/4 - |1101>/4 + |1110>/4 - |1111>/4\n",
      "|x>: sqrt(2)*|000>/8 + sqrt(2)*|001>/8 + sqrt(2)*|010>/8 + sqrt(2)*|011>/8 + sqrt(2)*|100>/8 + 5*sqrt(2)*|101>/8 + sqrt(2)*|110>/8 + sqrt(2)*|111>/8\n",
      "\n",
      "Iter 1\n",
      "|y>: sqrt(2)*|0>/2 - sqrt(2)*|1>/2\n",
      "|xy>: |0000>/8 - |0001>/8 + |0010>/8 - |0011>/8 + |0100>/8 - |0101>/8 + |0110>/8 - |0111>/8 + |1000>/8 - |1001>/8 + 5*|1010>/8 - 5*|1011>/8 + |1100>/8 - |1101>/8 + |1110>/8 - |1111>/8\n",
      "|x>: -sqrt(2)*|000>/16 - sqrt(2)*|001>/16 - sqrt(2)*|010>/16 - sqrt(2)*|011>/16 - sqrt(2)*|100>/16 + 11*sqrt(2)*|101>/16 - sqrt(2)*|110>/16 - sqrt(2)*|111>/16\n"
     ]
    }
   ],
   "source": [
    "def test_0():\n",
    "    def f(x, *args):\n",
    "        x = IntQubit(Qubit(*x)).as_int()\n",
    "        match x:\n",
    "            case 0b101:\n",
    "                return 1\n",
    "            case _:\n",
    "                return 0\n",
    "\n",
    "    n = 3\n",
    "    r = grover(f, n)\n",
    "    truth = (\n",
    "        -sqrt(2) * Qubit(\"000\") / 16\n",
    "        - sqrt(2) * Qubit(\"001\") / 16\n",
    "        - sqrt(2) * Qubit(\"010\") / 16\n",
    "        - sqrt(2) * Qubit(\"011\") / 16\n",
    "        - sqrt(2) * Qubit(\"100\") / 16\n",
    "        + 11 * sqrt(2) * Qubit(\"101\") / 16\n",
    "        - sqrt(2) * Qubit(\"110\") / 16\n",
    "        - sqrt(2) * Qubit(\"111\") / 16\n",
    "    )\n",
    "    assert r == truth\n",
    "\n",
    "\n",
    "test_0()"
   ]
  },
  {
   "cell_type": "code",
   "execution_count": 10,
   "metadata": {},
   "outputs": [
    {
     "name": "stdout",
     "output_type": "stream",
     "text": [
      "|x>: |0000>/4 + |0001>/4 + |0010>/4 + |0011>/4 + |0100>/4 + |0101>/4 + |0110>/4 + |0111>/4 + |1000>/4 + |1001>/4 + |1010>/4 + |1011>/4 + |1100>/4 + |1101>/4 + |1110>/4 + |1111>/4\n",
      "\n",
      "Iter 0\n",
      "|y>: sqrt(2)*|0>/2 - sqrt(2)*|1>/2\n",
      "|xy>: sqrt(2)*|00000>/8 - sqrt(2)*|00001>/8 + sqrt(2)*|00010>/8 - sqrt(2)*|00011>/8 + sqrt(2)*|00100>/8 - sqrt(2)*|00101>/8 + sqrt(2)*|00110>/8 - sqrt(2)*|00111>/8 + sqrt(2)*|01000>/8 - sqrt(2)*|01001>/8 + sqrt(2)*|01010>/8 - sqrt(2)*|01011>/8 + sqrt(2)*|01100>/8 - sqrt(2)*|01101>/8 + sqrt(2)*|01110>/8 - sqrt(2)*|01111>/8 + sqrt(2)*|10000>/8 - sqrt(2)*|10001>/8 + sqrt(2)*|10010>/8 - sqrt(2)*|10011>/8 + sqrt(2)*|10100>/8 - sqrt(2)*|10101>/8 + sqrt(2)*|10110>/8 - sqrt(2)*|10111>/8 + sqrt(2)*|11000>/8 - sqrt(2)*|11001>/8 + sqrt(2)*|11010>/8 - sqrt(2)*|11011>/8 + sqrt(2)*|11100>/8 - sqrt(2)*|11101>/8 + sqrt(2)*|11110>/8 - sqrt(2)*|11111>/8\n",
      "|x>: 3*|0000>/16 + 3*|0001>/16 + 3*|0010>/16 + 3*|0011>/16 + 3*|0100>/16 + 3*|0101>/16 + 3*|0110>/16 + 3*|0111>/16 + 3*|1000>/16 + 3*|1001>/16 + 3*|1010>/16 + 3*|1011>/16 + 3*|1100>/16 + 11*|1101>/16 + 3*|1110>/16 + 3*|1111>/16\n",
      "\n",
      "Iter 1\n",
      "|y>: sqrt(2)*|0>/2 - sqrt(2)*|1>/2\n",
      "|xy>: 3*sqrt(2)*|00000>/32 - 3*sqrt(2)*|00001>/32 + 3*sqrt(2)*|00010>/32 - 3*sqrt(2)*|00011>/32 + 3*sqrt(2)*|00100>/32 - 3*sqrt(2)*|00101>/32 + 3*sqrt(2)*|00110>/32 - 3*sqrt(2)*|00111>/32 + 3*sqrt(2)*|01000>/32 - 3*sqrt(2)*|01001>/32 + 3*sqrt(2)*|01010>/32 - 3*sqrt(2)*|01011>/32 + 3*sqrt(2)*|01100>/32 - 3*sqrt(2)*|01101>/32 + 3*sqrt(2)*|01110>/32 - 3*sqrt(2)*|01111>/32 + 3*sqrt(2)*|10000>/32 - 3*sqrt(2)*|10001>/32 + 3*sqrt(2)*|10010>/32 - 3*sqrt(2)*|10011>/32 + 3*sqrt(2)*|10100>/32 - 3*sqrt(2)*|10101>/32 + 3*sqrt(2)*|10110>/32 - 3*sqrt(2)*|10111>/32 + 3*sqrt(2)*|11000>/32 - 3*sqrt(2)*|11001>/32 + 11*sqrt(2)*|11010>/32 - 11*sqrt(2)*|11011>/32 + 3*sqrt(2)*|11100>/32 - 3*sqrt(2)*|11101>/32 + 3*sqrt(2)*|11110>/32 - 3*sqrt(2)*|11111>/32\n",
      "|x>: 5*|0000>/64 + 5*|0001>/64 + 5*|0010>/64 + 5*|0011>/64 + 5*|0100>/64 + 5*|0101>/64 + 5*|0110>/64 + 5*|0111>/64 + 5*|1000>/64 + 5*|1001>/64 + 5*|1010>/64 + 5*|1011>/64 + 5*|1100>/64 + 61*|1101>/64 + 5*|1110>/64 + 5*|1111>/64\n",
      "\n",
      "Iter 2\n",
      "|y>: sqrt(2)*|0>/2 - sqrt(2)*|1>/2\n",
      "|xy>: 5*sqrt(2)*|00000>/128 - 5*sqrt(2)*|00001>/128 + 5*sqrt(2)*|00010>/128 - 5*sqrt(2)*|00011>/128 + 5*sqrt(2)*|00100>/128 - 5*sqrt(2)*|00101>/128 + 5*sqrt(2)*|00110>/128 - 5*sqrt(2)*|00111>/128 + 5*sqrt(2)*|01000>/128 - 5*sqrt(2)*|01001>/128 + 5*sqrt(2)*|01010>/128 - 5*sqrt(2)*|01011>/128 + 5*sqrt(2)*|01100>/128 - 5*sqrt(2)*|01101>/128 + 5*sqrt(2)*|01110>/128 - 5*sqrt(2)*|01111>/128 + 5*sqrt(2)*|10000>/128 - 5*sqrt(2)*|10001>/128 + 5*sqrt(2)*|10010>/128 - 5*sqrt(2)*|10011>/128 + 5*sqrt(2)*|10100>/128 - 5*sqrt(2)*|10101>/128 + 5*sqrt(2)*|10110>/128 - 5*sqrt(2)*|10111>/128 + 5*sqrt(2)*|11000>/128 - 5*sqrt(2)*|11001>/128 + 61*sqrt(2)*|11010>/128 - 61*sqrt(2)*|11011>/128 + 5*sqrt(2)*|11100>/128 - 5*sqrt(2)*|11101>/128 + 5*sqrt(2)*|11110>/128 - 5*sqrt(2)*|11111>/128\n",
      "|x>: -13*|0000>/256 - 13*|0001>/256 - 13*|0010>/256 - 13*|0011>/256 - 13*|0100>/256 - 13*|0101>/256 - 13*|0110>/256 - 13*|0111>/256 - 13*|1000>/256 - 13*|1001>/256 - 13*|1010>/256 - 13*|1011>/256 - 13*|1100>/256 + 251*|1101>/256 - 13*|1110>/256 - 13*|1111>/256\n",
      "\n",
      "Iter 3\n",
      "|y>: sqrt(2)*|0>/2 - sqrt(2)*|1>/2\n",
      "|xy>: -13*sqrt(2)*|00000>/512 + 13*sqrt(2)*|00001>/512 - 13*sqrt(2)*|00010>/512 + 13*sqrt(2)*|00011>/512 - 13*sqrt(2)*|00100>/512 + 13*sqrt(2)*|00101>/512 - 13*sqrt(2)*|00110>/512 + 13*sqrt(2)*|00111>/512 - 13*sqrt(2)*|01000>/512 + 13*sqrt(2)*|01001>/512 - 13*sqrt(2)*|01010>/512 + 13*sqrt(2)*|01011>/512 - 13*sqrt(2)*|01100>/512 + 13*sqrt(2)*|01101>/512 - 13*sqrt(2)*|01110>/512 + 13*sqrt(2)*|01111>/512 - 13*sqrt(2)*|10000>/512 + 13*sqrt(2)*|10001>/512 - 13*sqrt(2)*|10010>/512 + 13*sqrt(2)*|10011>/512 - 13*sqrt(2)*|10100>/512 + 13*sqrt(2)*|10101>/512 - 13*sqrt(2)*|10110>/512 + 13*sqrt(2)*|10111>/512 - 13*sqrt(2)*|11000>/512 + 13*sqrt(2)*|11001>/512 + 251*sqrt(2)*|11010>/512 - 251*sqrt(2)*|11011>/512 - 13*sqrt(2)*|11100>/512 + 13*sqrt(2)*|11101>/512 - 13*sqrt(2)*|11110>/512 + 13*sqrt(2)*|11111>/512\n",
      "|x>: -171*|0000>/1024 - 171*|0001>/1024 - 171*|0010>/1024 - 171*|0011>/1024 - 171*|0100>/1024 - 171*|0101>/1024 - 171*|0110>/1024 - 171*|0111>/1024 - 171*|1000>/1024 - 171*|1001>/1024 - 171*|1010>/1024 - 171*|1011>/1024 - 171*|1100>/1024 + 781*|1101>/1024 - 171*|1110>/1024 - 171*|1111>/1024\n"
     ]
    }
   ],
   "source": [
    "def test_1():\n",
    "    def f(x, *args):\n",
    "        x = IntQubit(Qubit(*x)).as_int()\n",
    "        match x:\n",
    "            case 0b1101:\n",
    "                return 1\n",
    "            case _:\n",
    "                return 0\n",
    "\n",
    "    n = 4\n",
    "    r = grover(f, n)\n",
    "    truth = (\n",
    "        -171 * Qubit(\"0000\") / 1024\n",
    "        - 171 * Qubit(\"0001\") / 1024\n",
    "        - 171 * Qubit(\"0010\") / 1024\n",
    "        - 171 * Qubit(\"0011\") / 1024\n",
    "        - 171 * Qubit(\"0100\") / 1024\n",
    "        - 171 * Qubit(\"0101\") / 1024\n",
    "        - 171 * Qubit(\"0110\") / 1024\n",
    "        - 171 * Qubit(\"0111\") / 1024\n",
    "        - 171 * Qubit(\"1000\") / 1024\n",
    "        - 171 * Qubit(\"1001\") / 1024\n",
    "        - 171 * Qubit(\"1010\") / 1024\n",
    "        - 171 * Qubit(\"1011\") / 1024\n",
    "        - 171 * Qubit(\"1100\") / 1024\n",
    "        + 781 * Qubit(\"1101\") / 1024\n",
    "        - 171 * Qubit(\"1110\") / 1024\n",
    "        - 171 * Qubit(\"1111\") / 1024\n",
    "    )\n",
    "    assert r == truth\n",
    "\n",
    "\n",
    "test_1()"
   ]
  }
 ],
 "metadata": {
  "kernelspec": {
   "display_name": ".venv",
   "language": "python",
   "name": "python3"
  },
  "language_info": {
   "codemirror_mode": {
    "name": "ipython",
    "version": 3
   },
   "file_extension": ".py",
   "mimetype": "text/x-python",
   "name": "python",
   "nbconvert_exporter": "python",
   "pygments_lexer": "ipython3",
   "version": "3.10.12"
  }
 },
 "nbformat": 4,
 "nbformat_minor": 2
}
