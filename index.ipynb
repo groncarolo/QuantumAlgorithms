{
 "cells": [
  {
   "cell_type": "markdown",
   "metadata": {},
   "source": [
    "# Index"
   ]
  },
  {
   "cell_type": "markdown",
   "metadata": {},
   "source": [
    "[B92 Algorithm](b92.ipynb)\n",
    "\n",
    "[BB94 Algorithm](bb94.ipynb)\n",
    "\n",
    "[Berstein Vazirani_Algorithm](berstein_vazirani.ipynb)\n",
    "\n",
    "[Deutsch Algorithm](deutsch.ipynb)\n",
    "\n",
    "[Deutsch Jozsa Algorithm](deutsch_jozsa.ipynb)\n",
    "\n",
    "[Grover Algorithm](grover.ipynb)\n",
    "\n",
    "[No Cloning Theorem](no_cloning_theorem.ipynb)\n",
    "\n",
    "[Oracles](oracles.ipynb)\n",
    "\n",
    "[Quantum Fourier Transform](qft.ipynb)\n",
    "\n",
    "[Shor Factorization Algorithm](shor.ipynb)\n",
    "\n",
    "[Simon](simon.ipynb)\n",
    "\n",
    "[Quantum-Teleportation](teleportation.ipynb)"
   ]
  }
 ],
 "metadata": {
  "kernelspec": {
   "display_name": ".venv",
   "language": "python",
   "name": "python3"
  },
  "language_info": {
   "codemirror_mode": {
    "name": "ipython",
    "version": 3
   },
   "file_extension": ".py",
   "mimetype": "text/x-python",
   "name": "python",
   "nbconvert_exporter": "python",
   "pygments_lexer": "ipython3",
   "version": "3.10.12"
  }
 },
 "nbformat": 4,
 "nbformat_minor": 2
}
