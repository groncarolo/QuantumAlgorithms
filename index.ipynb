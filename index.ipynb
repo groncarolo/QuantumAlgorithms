{
 "cells": [
  {
   "cell_type": "markdown",
   "metadata": {},
   "source": [
    "# Index"
   ]
  },
  {
   "cell_type": "code",
   "execution_count": null,
   "metadata": {
    "vscode": {
     "languageId": "plaintext"
    }
   },
   "outputs": [],
   "source": [
    "[B92 Algorithm](b92.ipynb)\n",
    "[BB94 Algorithm](bb94.ipynb)\n",
    "[Berstein-Vazirani Algorithm](berstein_vazirani.ipynb)\n",
    "[Deutsch Algorithm](deutsch.ipynb)\n",
    "[Deutsch-Jozsa Algorithm](deutsch_jozsa.ipynb)\n",
    "[Grover Algorithm](grover.ipynb)\n",
    "[No Cloning Theorem](no_cloning_theorem.ipynb)\n",
    "[Oracles](oracles.ipynb)\n",
    "[Quantum Fourier Transform](qft.ipynb)\n",
    "[Shor factorization Algorithm](shor.ipynb)\n",
    "[Simon](simon.ipynb)\n",
    "[Quantum Teleportation](teleportation.ipynb)"
   ]
  }
 ],
 "metadata": {
  "language_info": {
   "name": "python"
  }
 },
 "nbformat": 4,
 "nbformat_minor": 2
}
