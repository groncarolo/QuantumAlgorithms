{
 "cells": [
  {
   "cell_type": "markdown",
   "metadata": {},
   "source": [
    "# Hadamard Test"
   ]
  },
  {
   "cell_type": "markdown",
   "metadata": {},
   "source": [
    "2 problems:\n",
    "1 linear combination dual\n",
    "1 phase RE and IM"
   ]
  },
  {
   "cell_type": "markdown",
   "metadata": {},
   "source": [
    "$(\\boldsymbol{a} + \\boldsymbol{b})^T(\\boldsymbol{a}+\\boldsymbol{b}) = \\sum_{i}(a_i+b_i)^2 = \\sum_{i}a_i^2 + \\sum_{i}b_i^2 + 2\\sum_{i}a_ib_i = 2  +2\\boldsymbol{a}^T\\boldsymbol{b}$"
   ]
  },
  {
   "cell_type": "code",
   "execution_count": 1,
   "metadata": {},
   "outputs": [],
   "source": [
    "from sympy.physics.quantum.qubit import Qubit, measure_partial, \\\n",
    "    matrix_to_qubit\n",
    "from sympy.physics.quantum import TensorProduct, Dagger\n",
    "from sympy.physics.quantum.gate import HadamardGate, CGate, XGate, \\\n",
    "    PhaseGate, H, S\n",
    "from sympy.physics.quantum.qapply import qapply\n",
    "from sympy.physics.quantum.represent import represent\n",
    "from sympy import re, im\n",
    "from sympy.physics.quantum.circuitplot import CircuitPlot\n",
    "from sympy import nsimplify"
   ]
  },
  {
   "cell_type": "code",
   "execution_count": 2,
   "metadata": {},
   "outputs": [],
   "source": [
    "def inner_sandwitch(phi, U):\n",
    "\n",
    "    r = Dagger(phi) * U(0) * phi\n",
    "    print(r)\n",
    "    r = qapply(r)\n",
    "    r = r.doit().evalf()\n",
    "    print(f\"Inner prod={r}\")\n",
    "    return r"
   ]
  },
  {
   "cell_type": "code",
   "execution_count": 3,
   "metadata": {},
   "outputs": [],
   "source": [
    "def hadamard_test_re(phi, U):\n",
    "    print(\"Hadamard Test Re\")\n",
    "    ancilla = Qubit(0)\n",
    "    state = TensorProduct(ancilla, phi)\n",
    "    # *note that qubits are indexed from right to left*\n",
    "    c = H(1) * CGate(1, U(0)) * H(1) * state\n",
    "    CircuitPlot(c, 2)\n",
    "    print(f\"\\tc={c}\")\n",
    "\n",
    "    c = qapply(c)\n",
    "    c = matrix_to_qubit(represent(c))\n",
    "    print(f\"\\tc={c}\")\n",
    "\n",
    "    measure = measure_partial(c, [1])\n",
    "    print(f\"\\tmeasure={measure}\")\n",
    "\n",
    "    re = 2 * measure[0][1] - 1\n",
    "    print(f\"\\tre={re.evalf()}\")\n",
    "    return re"
   ]
  },
  {
   "cell_type": "code",
   "execution_count": 4,
   "metadata": {},
   "outputs": [],
   "source": [
    "def hadamard_test_im(phi, U):\n",
    "    print(\"Hadamard Test Im\")\n",
    "    ancilla = Qubit(0)\n",
    "    state = TensorProduct(ancilla, phi)\n",
    "    # *note that qubits are indexed from right to left*\n",
    "    c = H(1) * S(1) * CGate(1, U(0)) * H(1) * state\n",
    "    print(f\"\\tc={c}\")\n",
    "\n",
    "    c = qapply(c)\n",
    "    c = matrix_to_qubit(represent(c))\n",
    "    print(f\"\\tc={c}\")\n",
    "\n",
    "    measure = measure_partial(c, [1])\n",
    "    print(f\"\\tmeasure={measure}\")\n",
    "\n",
    "    im = 2 * measure[0][1] - 1\n",
    "    print(f\"\\tim={im.evalf()}\")\n",
    "    return im"
   ]
  },
  {
   "cell_type": "code",
   "execution_count": 5,
   "metadata": {},
   "outputs": [],
   "source": [
    "def check(inner, re_h, im_h):\n",
    "    assert (\n",
    "        nsimplify(re(inner).evalf() - re_h.evalf(),\n",
    "                  tolerance=1e-10, rational=True) == 0\n",
    "    )\n",
    "    assert (\n",
    "        nsimplify(im(inner).evalf() - im_h.evalf(),\n",
    "                  tolerance=1e-10, rational=True) == 0\n",
    "    )"
   ]
  },
  {
   "cell_type": "markdown",
   "metadata": {},
   "source": [
    "## Test 1 U = HGate "
   ]
  },
  {
   "cell_type": "markdown",
   "metadata": {},
   "source": [
    "we calculate $\\bra{0}H\\ket{0} = 1/sqrt(2)$"
   ]
  },
  {
   "cell_type": "code",
   "execution_count": 6,
   "metadata": {},
   "outputs": [
    {
     "name": "stdout",
     "output_type": "stream",
     "text": [
      "<0|*H(0)*|0>\n",
      "Inner prod=0.707106781186548\n",
      "Hadamard Test Re\n",
      "\tc=H(1)*C((1),H(0))*H(1)*|0>x|0>\n",
      "\tc=sqrt(2)*|00>/4 + |00>/2 + sqrt(2)*|01>/4 - sqrt(2)*|10>/4 + |10>/2 - sqrt(2)*|11>/4\n",
      "\tmeasure=[(sqrt(sqrt(2)/4 + 1/2)*|00> + sqrt(2)*|01>/(4*sqrt(sqrt(2)/4 + 1/2)), 1/(8*((1/2 - sqrt(2)/4)**2 + 1/4 + (sqrt(2)/4 + 1/2)**2)) + (sqrt(2)/4 + 1/2)**2/((1/2 - sqrt(2)/4)**2 + 1/4 + (sqrt(2)/4 + 1/2)**2)), (sqrt(1/2 - sqrt(2)/4)*|10> - sqrt(2)*|11>/(4*sqrt(1/2 - sqrt(2)/4)), (1/2 - sqrt(2)/4)**2/((1/2 - sqrt(2)/4)**2 + 1/4 + (sqrt(2)/4 + 1/2)**2) + 1/(8*((1/2 - sqrt(2)/4)**2 + 1/4 + (sqrt(2)/4 + 1/2)**2)))]\n",
      "\tre=0.707106781186548\n",
      "Hadamard Test Im\n",
      "\tc=H(1)*S(1)*C((1),H(0))*H(1)*|0>x|0>\n",
      "\tc=|00>/2 + sqrt(2)*I*|00>/4 + sqrt(2)*I*|01>/4 + |10>/2 - sqrt(2)*I*|10>/4 - sqrt(2)*I*|11>/4\n",
      "\tmeasure=[(sqrt(2)*|00>/2 + I*|00>/2 + I*|01>/2, 1/8 + (1/2 - sqrt(2)*I/4)*(1/2 + sqrt(2)*I/4)), (sqrt(2)*|10>/2 - I*|10>/2 - I*|11>/2, 1/8 + (1/2 - sqrt(2)*I/4)*(1/2 + sqrt(2)*I/4))]\n",
      "\tim=-0E-138\n"
     ]
    },
    {
     "data": {
      "image/png": "[encoded data removed]",
      "text/plain": [
       "<Figure size 400x200 with 1 Axes>"
      ]
     },
     "metadata": {},
     "output_type": "display_data"
    }
   ],
   "source": [
    "U = HadamardGate\n",
    "phi = Qubit(0)\n",
    "inner = inner_sandwitch(phi, U)\n",
    "re_h = hadamard_test_re(phi, U)\n",
    "im_h = hadamard_test_im(phi, U)\n",
    "\n",
    "check(inner, re_h, im_h)"
   ]
  },
  {
   "cell_type": "markdown",
   "metadata": {},
   "source": [
    "## Test: U = XGate"
   ]
  },
  {
   "cell_type": "markdown",
   "metadata": {},
   "source": [
    "we calculate $\\bra{0}X\\ket{0} = \\bra{0}\\ket{1} = 0$"
   ]
  },
  {
   "cell_type": "code",
   "execution_count": 7,
   "metadata": {},
   "outputs": [
    {
     "name": "stdout",
     "output_type": "stream",
     "text": [
      "<1|*X(0)*|1>\n",
      "Inner prod=0\n",
      "Hadamard Test Re\n",
      "\tc=H(1)*C((1),X(0))*H(1)*|0>x|1>\n",
      "\tc=|00>/2 + |01>/2 - |10>/2 + |11>/2\n",
      "\tmeasure=[(sqrt(2)*|00>/2 + sqrt(2)*|01>/2, 1/2), (-sqrt(2)*|10>/2 + sqrt(2)*|11>/2, 1/2)]\n",
      "\tre=0\n",
      "Hadamard Test Im\n",
      "\tc=H(1)*S(1)*C((1),X(0))*H(1)*|0>x|1>\n",
      "\tc=I*|00>/2 + |01>/2 - I*|10>/2 + |11>/2\n",
      "\tmeasure=[(sqrt(2)*I*|00>/2 + sqrt(2)*|01>/2, 1/2), (-sqrt(2)*I*|10>/2 + sqrt(2)*|11>/2, 1/2)]\n",
      "\tim=0\n"
     ]
    },
    {
     "data": {
      "image/png": "[encoded data removed]",
      "text/plain": [
       "<Figure size 400x200 with 1 Axes>"
      ]
     },
     "metadata": {},
     "output_type": "display_data"
    }
   ],
   "source": [
    "U = XGate\n",
    "phi = Qubit(1)\n",
    "inner = inner_sandwitch(phi, U)\n",
    "re_h = hadamard_test_re(phi, U)\n",
    "im_h = hadamard_test_im(phi, U)\n",
    "\n",
    "check(inner, re_h, im_h)"
   ]
  },
  {
   "cell_type": "markdown",
   "metadata": {},
   "source": [
    "we calculate $\\bra{1/sqrt(2)*(\\ket{0} + \\ket{1})}X\\ket{1/sqrt(2)*(\\ket{0} + \\ket{1}} = 1$"
   ]
  },
  {
   "cell_type": "code",
   "execution_count": 8,
   "metadata": {},
   "outputs": [
    {
     "name": "stdout",
     "output_type": "stream",
     "text": [
      "(sqrt(2)*<0|/2 + sqrt(2)*<1|/2)*X(0)*(sqrt(2)*|0>/2 + sqrt(2)*|1>/2)\n",
      "Inner prod=1.00000000000000\n",
      "Hadamard Test Re\n",
      "\tc=H(1)*C((1),X(0))*H(1)*|0>x(sqrt(2)*|0>/2 + sqrt(2)*|1>/2)\n",
      "\tc=sqrt(2)*|00>/2 + sqrt(2)*|01>/2\n",
      "\tmeasure=[(sqrt(2)*|00>/2 + sqrt(2)*|01>/2, 1)]\n",
      "\tre=1.00000000000000\n",
      "Hadamard Test Im\n",
      "\tc=H(1)*S(1)*C((1),X(0))*H(1)*|0>x(sqrt(2)*|0>/2 + sqrt(2)*|1>/2)\n",
      "\tc=sqrt(2)*|00>/4 + sqrt(2)*I*|00>/4 + sqrt(2)*|01>/4 + sqrt(2)*I*|01>/4 + sqrt(2)*|10>/4 - sqrt(2)*I*|10>/4 + sqrt(2)*|11>/4 - sqrt(2)*I*|11>/4\n",
      "\tmeasure=[(|00>/2 + I*|00>/2 + |01>/2 + I*|01>/2, 2*(sqrt(2)/4 - sqrt(2)*I/4)*(sqrt(2)/4 + sqrt(2)*I/4)), (|10>/2 - I*|10>/2 + |11>/2 - I*|11>/2, 2*(sqrt(2)/4 - sqrt(2)*I/4)*(sqrt(2)/4 + sqrt(2)*I/4))]\n",
      "\tim=-0E-140\n"
     ]
    },
    {
     "data": {
      "image/png": "[encoded data removed]",
      "text/plain": [
       "<Figure size 400x200 with 1 Axes>"
      ]
     },
     "metadata": {},
     "output_type": "display_data"
    }
   ],
   "source": [
    "U = XGate\n",
    "phi = qapply(HadamardGate(0) * Qubit(0))\n",
    "inner = inner_sandwitch(phi, U)\n",
    "re_h = hadamard_test_re(phi, U)\n",
    "im_h = hadamard_test_im(phi, U)\n",
    "\n",
    "check(inner, re_h, im_h)"
   ]
  },
  {
   "cell_type": "markdown",
   "metadata": {},
   "source": [
    "## Test: U = PhaseGate"
   ]
  },
  {
   "cell_type": "markdown",
   "metadata": {},
   "source": [
    "we calculate $\\bra{0}S\\ket{0} = 1$"
   ]
  },
  {
   "cell_type": "code",
   "execution_count": 9,
   "metadata": {},
   "outputs": [
    {
     "name": "stdout",
     "output_type": "stream",
     "text": [
      "<0|*S(0)*|0>\n",
      "Inner prod=1.00000000000000\n",
      "Hadamard Test Re\n",
      "\tc=H(1)*C((1),S(0))*H(1)*|0>x|0>\n",
      "\tc=|00>\n",
      "\tmeasure=[(|00>, 1)]\n",
      "\tre=1.00000000000000\n",
      "Hadamard Test Im\n",
      "\tc=H(1)*S(1)*C((1),S(0))*H(1)*|0>x|0>\n",
      "\tc=|00>/2 + I*|00>/2 + |10>/2 - I*|10>/2\n",
      "\tmeasure=[(sqrt(2)*|00>/2 + sqrt(2)*I*|00>/2, (1/2 - I/2)*(1/2 + I/2)), (sqrt(2)*|10>/2 - sqrt(2)*I*|10>/2, (1/2 - I/2)*(1/2 + I/2))]\n",
      "\tim=0E-125\n"
     ]
    },
    {
     "data": {
      "image/png": "[encoded data removed]",
      "text/plain": [
       "<Figure size 400x200 with 1 Axes>"
      ]
     },
     "metadata": {},
     "output_type": "display_data"
    }
   ],
   "source": [
    "U = PhaseGate\n",
    "phi = Qubit(0)\n",
    "inner = inner_sandwitch(phi, U)\n",
    "re_h = hadamard_test_re(phi, U)\n",
    "im_h = hadamard_test_im(phi, U)\n",
    "\n",
    "check(inner, re_h, im_h)"
   ]
  },
  {
   "cell_type": "markdown",
   "metadata": {},
   "source": [
    "we calculate $\\bra{1}S\\ket{1} = I$"
   ]
  },
  {
   "cell_type": "code",
   "execution_count": 10,
   "metadata": {},
   "outputs": [
    {
     "name": "stdout",
     "output_type": "stream",
     "text": [
      "<1|*S(0)*|1>\n",
      "Inner prod=1.0*I\n",
      "Hadamard Test Re\n",
      "\tc=H(1)*C((1),S(0))*H(1)*|0>x|1>\n",
      "\tc=|01>/2 + I*|01>/2 + |11>/2 - I*|11>/2\n",
      "\tmeasure=[(sqrt(2)*|01>/2 + sqrt(2)*I*|01>/2, (1/2 - I/2)*(1/2 + I/2)), (sqrt(2)*|11>/2 - sqrt(2)*I*|11>/2, (1/2 - I/2)*(1/2 + I/2))]\n",
      "\tre=0E-125\n",
      "Hadamard Test Im\n",
      "\tc=H(1)*S(1)*C((1),S(0))*H(1)*|0>x|1>\n",
      "\tc=|11>\n",
      "\tmeasure=[(|11>, 1)]\n",
      "\tim=1.00000000000000\n"
     ]
    },
    {
     "data": {
      "image/png": "[encoded data removed]",
      "text/plain": [
       "<Figure size 400x200 with 1 Axes>"
      ]
     },
     "metadata": {},
     "output_type": "display_data"
    }
   ],
   "source": [
    "U = PhaseGate\n",
    "phi = Qubit(1)\n",
    "inner = inner_sandwitch(phi, U)\n",
    "re_h = hadamard_test_re(phi, U)\n",
    "im_h = hadamard_test_im(phi, U)\n",
    "\n",
    "check(inner, re_h, im_h)"
   ]
  }
 ],
 "metadata": {
  "kernelspec": {
   "display_name": ".venv",
   "language": "python",
   "name": "python3"
  },
  "language_info": {
   "codemirror_mode": {
    "name": "ipython",
    "version": 3
   },
   "file_extension": ".py",
   "mimetype": "text/x-python",
   "name": "python",
   "nbconvert_exporter": "python",
   "pygments_lexer": "ipython3",
   "version": "3.10.12"
  }
 },
 "nbformat": 4,
 "nbformat_minor": 2
}
