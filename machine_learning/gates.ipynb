{
 "cells": [
  {
   "cell_type": "code",
   "execution_count": 1,
   "metadata": {},
   "outputs": [],
   "source": [
    "from sympy import pprint, I, sqrt\n",
    "from sympy.physics.quantum.qubit import Qubit, qubit_to_matrix, QubitBra\n",
    "from sympy.physics.quantum.qapply import qapply\n",
    "from sympy.physics.quantum.gate import HadamardGate, CNOT, IdentityGate"
   ]
  },
  {
   "cell_type": "markdown",
   "metadata": {},
   "source": [
    "## X"
   ]
  },
  {
   "cell_type": "code",
   "execution_count": 2,
   "metadata": {},
   "outputs": [
    {
     "name": "stdout",
     "output_type": "stream",
     "text": [
      "X=|0><1| + |1><0|\n"
     ]
    }
   ],
   "source": [
    "X = Qubit(1) * QubitBra(0) + Qubit(0) * QubitBra(1)\n",
    "print(f\"X={X}\")"
   ]
  },
  {
   "cell_type": "code",
   "execution_count": 3,
   "metadata": {},
   "outputs": [
    {
     "name": "stdout",
     "output_type": "stream",
     "text": [
      "⎡0  1⎤\n",
      "⎢    ⎥\n",
      "⎣1  0⎦\n"
     ]
    }
   ],
   "source": [
    "pprint(qubit_to_matrix(X))"
   ]
  },
  {
   "cell_type": "markdown",
   "metadata": {},
   "source": [
    "## Y"
   ]
  },
  {
   "cell_type": "code",
   "execution_count": 4,
   "metadata": {},
   "outputs": [
    {
     "name": "stdout",
     "output_type": "stream",
     "text": [
      "Y=-I*|0>*<1| + I*|1>*<0|\n"
     ]
    }
   ],
   "source": [
    "Y = I * Qubit(1) * QubitBra(0) - I * Qubit(0) * QubitBra(1)\n",
    "print(f\"Y={Y}\")"
   ]
  },
  {
   "cell_type": "code",
   "execution_count": 5,
   "metadata": {},
   "outputs": [
    {
     "name": "stdout",
     "output_type": "stream",
     "text": [
      "⎡0  -ⅈ⎤\n",
      "⎢     ⎥\n",
      "⎣ⅈ  0 ⎦\n"
     ]
    }
   ],
   "source": [
    "pprint(qubit_to_matrix(Y))"
   ]
  },
  {
   "cell_type": "markdown",
   "metadata": {},
   "source": [
    "## Z"
   ]
  },
  {
   "cell_type": "code",
   "execution_count": 6,
   "metadata": {},
   "outputs": [
    {
     "name": "stdout",
     "output_type": "stream",
     "text": [
      "Z=|0><0| - |1><1|\n"
     ]
    }
   ],
   "source": [
    "Z = Qubit(0) * QubitBra(0) - Qubit(1) * QubitBra(1)\n",
    "print(f\"Z={Z}\")"
   ]
  },
  {
   "cell_type": "code",
   "execution_count": 7,
   "metadata": {},
   "outputs": [
    {
     "name": "stdout",
     "output_type": "stream",
     "text": [
      "❘0⟩⟨0❘ - ❘1⟩⟨1❘\n",
      "⎡1  0 ⎤\n",
      "⎢     ⎥\n",
      "⎣0  -1⎦\n"
     ]
    }
   ],
   "source": [
    "pprint(Z)\n",
    "pprint(qubit_to_matrix(Z))"
   ]
  },
  {
   "cell_type": "markdown",
   "metadata": {},
   "source": [
    "## H"
   ]
  },
  {
   "cell_type": "code",
   "execution_count": 8,
   "metadata": {},
   "outputs": [
    {
     "name": "stdout",
     "output_type": "stream",
     "text": [
      "Z=sqrt(2)*(|0> - |1>)*<1|/2 + sqrt(2)*(|0> + |1>)*<0|/2\n"
     ]
    }
   ],
   "source": [
    "H = 1 / sqrt(2) * (Qubit(0) + Qubit(1)) * QubitBra(0) + 1 / sqrt(2) * (\n",
    "    Qubit(0) - Qubit(1)\n",
    ") * QubitBra(1)\n",
    "print(f\"Z={H}\")"
   ]
  },
  {
   "cell_type": "code",
   "execution_count": 9,
   "metadata": {},
   "outputs": [
    {
     "name": "stdout",
     "output_type": "stream",
     "text": [
      "⎡√2   √2 ⎤\n",
      "⎢──   ── ⎥\n",
      "⎢2    2  ⎥\n",
      "⎢        ⎥\n",
      "⎢√2  -√2 ⎥\n",
      "⎢──  ────⎥\n",
      "⎣2    2  ⎦\n"
     ]
    }
   ],
   "source": [
    "pprint(qubit_to_matrix(H))"
   ]
  },
  {
   "cell_type": "markdown",
   "metadata": {},
   "source": [
    "## CNOT"
   ]
  },
  {
   "cell_type": "code",
   "execution_count": 10,
   "metadata": {},
   "outputs": [
    {
     "name": "stdout",
     "output_type": "stream",
     "text": [
      "CNOT(0,1)*|01>\n",
      "|11>\n"
     ]
    }
   ],
   "source": [
    "# *note that qubits are indexed from right to left*\n",
    "x = CNOT(0, 1) * Qubit(\"01\")\n",
    "print(x)\n",
    "r = qapply(x)\n",
    "print(r)"
   ]
  },
  {
   "cell_type": "markdown",
   "metadata": {},
   "source": [
    "## BELL State"
   ]
  },
  {
   "cell_type": "code",
   "execution_count": 11,
   "metadata": {},
   "outputs": [
    {
     "name": "stdout",
     "output_type": "stream",
     "text": [
      "CNOT(0,1)*H(0)*1(1)*|00>\n",
      "BELL State=sqrt(2)*|00>/2 + sqrt(2)*|11>/2\n"
     ]
    }
   ],
   "source": [
    "# note that qubits are indexed from right to left\n",
    "x = CNOT(0, 1) * HadamardGate(0) * IdentityGate(1) * Qubit(\"0\" * 2)\n",
    "print(x)\n",
    "\n",
    "r = qapply(x)\n",
    "print(f\"BELL State={r}\")"
   ]
  }
 ],
 "metadata": {
  "kernelspec": {
   "display_name": ".venv",
   "language": "python",
   "name": "python3"
  },
  "language_info": {
   "codemirror_mode": {
    "name": "ipython",
    "version": 3
   },
   "file_extension": ".py",
   "mimetype": "text/x-python",
   "name": "python",
   "nbconvert_exporter": "python",
   "pygments_lexer": "ipython3",
   "version": "3.10.12"
  }
 },
 "nbformat": 4,
 "nbformat_minor": 2
}
