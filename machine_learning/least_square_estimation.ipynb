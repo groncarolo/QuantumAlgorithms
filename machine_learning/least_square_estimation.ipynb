{
 "cells": [
  {
   "cell_type": "code",
   "execution_count": 3,
   "metadata": {},
   "outputs": [
    {
     "name": "stdout",
     "output_type": "stream",
     "text": [
      "w=[6 3]\n",
      "x_0=[7 4]\n",
      "x_1=[6 9]\n",
      "x_2=[2 6]\n",
      "y=[7 4 3]\n",
      "r1=2139.6666666666665\n",
      "[[7 4]\n",
      " [6 9]\n",
      " [2 6]]\n",
      "r2=2139.6666666666665\n"
     ]
    }
   ],
   "source": [
    "import numpy as np\n",
    "\n",
    "np.random.seed(42)\n",
    "\n",
    "M = 3\n",
    "N = 2\n",
    "w = np.random.randint(10, size=N)\n",
    "x = np.random.randint(10, size=(M, N))\n",
    "y = np.random.randint(10, size=M)\n",
    "\n",
    "print(f\"w={w}\")\n",
    "for i in range(M):\n",
    "    print(f\"x_{i}={x[i]}\")\n",
    "print(f\"y={y}\")\n",
    "\n",
    "r1 = 0\n",
    "for i in range(M):\n",
    "    r1 += (np.inner(w.T, x[i]) - y[i]) ** 2\n",
    "r1 = r1 / M\n",
    "print(f\"r1={r1}\")\n",
    "\n",
    "X = x\n",
    "print(X)\n",
    "\n",
    "r2 = np.inner((np.inner(X, w) - y).T, (np.inner(X, w) - y))\n",
    "r2 = r2 / M\n",
    "print(f\"r2={r2}\")\n",
    "\n",
    "assert r1 == r2"
   ]
  }
 ],
 "metadata": {
  "kernelspec": {
   "display_name": ".venv",
   "language": "python",
   "name": "python3"
  },
  "language_info": {
   "codemirror_mode": {
    "name": "ipython",
    "version": 3
   },
   "file_extension": ".py",
   "mimetype": "text/x-python",
   "name": "python",
   "nbconvert_exporter": "python",
   "pygments_lexer": "ipython3",
   "version": "3.10.12"
  }
 },
 "nbformat": 4,
 "nbformat_minor": 2
}
