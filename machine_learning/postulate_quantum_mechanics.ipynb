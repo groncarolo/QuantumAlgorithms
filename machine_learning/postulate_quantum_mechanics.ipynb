{
 "cells": [
  {
   "cell_type": "markdown",
   "metadata": {},
   "source": [
    "# The Postulate of quantum mechanics"
   ]
  },
  {
   "cell_type": "markdown",
   "metadata": {},
   "source": [
    "## State space \n",
    "\n",
    "A quantum mechanical state lives in a Hilbert space $\\mathcal{H}$\n",
    "\n",
    "Vectors in Hilbert space are denoted by $\\left|\\psi\\right\\rangle $ \n",
    "\n",
    "The inner product is denoted as $\\left\\langle \\centerdot\\right|\\left.\\centerdot\\right\\rangle $\n",
    "\n",
    "For two vectors $\\psi_1 $ and $ \\psi_2$ we have $\\left\\langle \\psi_2 \\right|\\left.\\psi_1 \\right\\rangle^*  = \\left\\langle \\psi_1\\right|\\left.\\psi_2\\right\\rangle $\n",
    "\n",
    "The Norm of a vector is defined as $  \\left\\Vert \\psi \\right\\Vert = \\sqrt{\\left\\langle \\psi\\right|\\left.\\psi\\right\\rangle }$"
   ]
  },
  {
   "cell_type": "markdown",
   "metadata": {},
   "source": [
    "For every vector in $\\mathcal{H}$ there is a complete orthonormal base $\\{ |\\left.e_i\\right\\rangle \\}$\n",
    "\n",
    " $\\left|\\psi\\right\\rangle =\\sum_{k}\\left|e_{k}\\right\\rangle \\left\\langle e_{k}|\\psi\\right\\rangle =\\sum_{k}\\left\\langle e_{k}|\\psi\\right\\rangle \\left|e_{k}\\right\\rangle $"
   ]
  },
  {
   "cell_type": "code",
   "execution_count": 1,
   "metadata": {},
   "outputs": [],
   "source": [
    "import numpy as np\n",
    "\n",
    "phi = np.array([0.4472136, 0.4472136, 0.4472136, 0.63245553])\n",
    "\n",
    "base = np.array([[1, 0, 0, 0], [0, 1, 0, 0], [0, 0, 1, 0], [0, 0, 0, 1]])\n",
    "\n",
    "r1 = 0\n",
    "for e in base:\n",
    "    r1 += np.outer(e.T, np.inner(e, phi))\n",
    "r1 = r1.flatten()\n",
    "assert np.allclose(phi, r1)\n",
    "\n",
    "r2 = 0\n",
    "for e in base:\n",
    "    r2 += np.outer(np.inner(e, phi), e.T)\n",
    "r2 = r2.flatten()\n",
    "assert np.allclose(phi, r2)"
   ]
  }
 ],
 "metadata": {
  "kernelspec": {
   "display_name": ".venv",
   "language": "python",
   "name": "python3"
  },
  "language_info": {
   "codemirror_mode": {
    "name": "ipython",
    "version": 3
   },
   "file_extension": ".py",
   "mimetype": "text/x-python",
   "name": "python",
   "nbconvert_exporter": "python",
   "pygments_lexer": "ipython3",
   "version": "3.10.12"
  }
 },
 "nbformat": 4,
 "nbformat_minor": 2
}
