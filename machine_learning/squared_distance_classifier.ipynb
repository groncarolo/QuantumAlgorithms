{
 "cells": [
  {
   "cell_type": "markdown",
   "metadata": {},
   "source": [
    "# Quantum Square Distance Classifier"
   ]
  },
  {
   "cell_type": "markdown",
   "metadata": {},
   "source": [
    "Importing what is needed"
   ]
  },
  {
   "cell_type": "code",
   "execution_count": 1,
   "metadata": {},
   "outputs": [],
   "source": [
    "import numpy as np\n",
    "\n",
    "from sympy.physics.quantum.qapply import qapply\n",
    "from sympy.physics.quantum.qubit import Qubit, measure_partial\n",
    "from sympy.physics.quantum.gate import HadamardGate, IdentityGate\n",
    "from sympy import sqrt, simplify, preorder_traversal\n"
   ]
  },
  {
   "cell_type": "markdown",
   "metadata": {},
   "source": [
    "We have two points"
   ]
  },
  {
   "cell_type": "code",
   "execution_count": 2,
   "metadata": {},
   "outputs": [
    {
     "data": {
      "text/plain": [
       "array([[0.921, 0.39 , 1.   ],\n",
       "       [0.141, 0.99 , 0.   ]])"
      ]
     },
     "execution_count": 2,
     "metadata": {},
     "output_type": "execute_result"
    }
   ],
   "source": [
    "# price, room , survival\n",
    "data = np.array([[0.921, 0.390, 1], [0.141, 0.990, 0]])\n",
    "data"
   ]
  },
  {
   "cell_type": "markdown",
   "metadata": {},
   "source": [
    "New passaenger we want to know the survival of"
   ]
  },
  {
   "cell_type": "code",
   "execution_count": 3,
   "metadata": {},
   "outputs": [
    {
     "data": {
      "text/plain": [
       "array([0.866, 0.5  ])"
      ]
     },
     "execution_count": 3,
     "metadata": {},
     "output_type": "execute_result"
    }
   ],
   "source": [
    "x_point = np.array([0.866, 0.500])\n",
    "x_point"
   ]
  },
  {
   "cell_type": "code",
   "execution_count": 4,
   "metadata": {},
   "outputs": [
    {
     "name": "stdout",
     "output_type": "stream",
     "text": [
      "[0.5537045 0.4462955]\n"
     ]
    }
   ],
   "source": [
    "# calculate the distance of the new point\n",
    "dists = []\n",
    "for i in range(2):\n",
    "    d = np.linalg.norm(x_point - data[i][0:2])\n",
    "    dists.append(1. - 0.25 * d)\n",
    "\n",
    "dists = dists / np.sum(dists)\n",
    "\n",
    "print (dists)\n"
   ]
  },
  {
   "cell_type": "code",
   "execution_count": null,
   "metadata": {},
   "outputs": [
    {
     "name": "stdout",
     "output_type": "stream",
     "text": [
      "sqrt(2)*(1.787*|0001> + 0.89*|0011> + 1.007*|0100> + 1.49*|0110> + 0.055*|1001> - 0.11*|1011> - 0.725*|1100> + 0.49*|1110>)/4\n",
      "(0.470275598868077*sqrt(2)*|0001> + 0.234216722435696*sqrt(2)*|0011> + 0.265007010666006*sqrt(2)*|0100> + 0.392115636437288*sqrt(2)*|0110>, 0.902399459631612)\n",
      "> \u001b[0;32m/tmp/ipykernel_154990/289825786.py\u001b[0m(41)\u001b[0;36m<module>\u001b[0;34m()\u001b[0m\n",
      "\u001b[0;32m     39 \u001b[0;31m    \u001b[0mprint\u001b[0m \u001b[0;34m(\u001b[0m\u001b[0marg\u001b[0m\u001b[0;34m)\u001b[0m\u001b[0;34m\u001b[0m\u001b[0;34m\u001b[0m\u001b[0m\n",
      "\u001b[0m\u001b[0;32m     40 \u001b[0;31m    \u001b[0mset_trace\u001b[0m\u001b[0;34m(\u001b[0m\u001b[0;34m)\u001b[0m\u001b[0;34m\u001b[0m\u001b[0;34m\u001b[0m\u001b[0m\n",
      "\u001b[0m\u001b[0;32m---> 41 \u001b[0;31m    \u001b[0;32mif\u001b[0m \u001b[0misinstance\u001b[0m\u001b[0;34m(\u001b[0m\u001b[0marg\u001b[0m\u001b[0;34m,\u001b[0m \u001b[0mQubit\u001b[0m\u001b[0;34m)\u001b[0m\u001b[0;34m:\u001b[0m\u001b[0;34m\u001b[0m\u001b[0;34m\u001b[0m\u001b[0m\n",
      "\u001b[0m\u001b[0;32m     42 \u001b[0;31m        \u001b[0mprint\u001b[0m\u001b[0;34m(\u001b[0m\u001b[0marg\u001b[0m\u001b[0;34m.\u001b[0m\u001b[0mqubit_values\u001b[0m\u001b[0;34m)\u001b[0m\u001b[0;34m\u001b[0m\u001b[0;34m\u001b[0m\u001b[0m\n",
      "\u001b[0m\u001b[0;32m     43 \u001b[0;31m        \u001b[0;32mif\u001b[0m \u001b[0marg\u001b[0m\u001b[0;34m.\u001b[0m\u001b[0mqubit_values\u001b[0m\u001b[0;34m[\u001b[0m\u001b[0;36m3\u001b[0m\u001b[0;34m]\u001b[0m \u001b[0;34m==\u001b[0m \u001b[0;36m0\u001b[0m\u001b[0;34m:\u001b[0m\u001b[0;34m\u001b[0m\u001b[0;34m\u001b[0m\u001b[0m\n",
      "\u001b[0m\n",
      "> \u001b[0;32m/tmp/ipykernel_154990/289825786.py\u001b[0m(38)\u001b[0;36m<module>\u001b[0;34m()\u001b[0m\n",
      "\u001b[0;32m     36 \u001b[0;31m\u001b[0mmeasure\u001b[0m \u001b[0;34m=\u001b[0m \u001b[0mmeasure_partial\u001b[0m\u001b[0;34m(\u001b[0m\u001b[0mx\u001b[0m\u001b[0;34m,\u001b[0m \u001b[0;34m(\u001b[0m\u001b[0;36m3\u001b[0m\u001b[0;34m,\u001b[0m\u001b[0;34m)\u001b[0m\u001b[0;34m)\u001b[0m\u001b[0;34m\u001b[0m\u001b[0;34m\u001b[0m\u001b[0m\n",
      "\u001b[0m\u001b[0;32m     37 \u001b[0;31m\u001b[0mmeasure\u001b[0m \u001b[0;34m=\u001b[0m \u001b[0mmeasure\u001b[0m\u001b[0;34m[\u001b[0m\u001b[0;36m0\u001b[0m\u001b[0;34m]\u001b[0m\u001b[0;34m\u001b[0m\u001b[0;34m\u001b[0m\u001b[0m\n",
      "\u001b[0m\u001b[0;32m---> 38 \u001b[0;31m\u001b[0;32mfor\u001b[0m \u001b[0marg\u001b[0m \u001b[0;32min\u001b[0m \u001b[0mpreorder_traversal\u001b[0m\u001b[0;34m(\u001b[0m\u001b[0mmeasure\u001b[0m\u001b[0;34m)\u001b[0m\u001b[0;34m:\u001b[0m\u001b[0;34m\u001b[0m\u001b[0;34m\u001b[0m\u001b[0m\n",
      "\u001b[0m\u001b[0;32m     39 \u001b[0;31m    \u001b[0mprint\u001b[0m \u001b[0;34m(\u001b[0m\u001b[0marg\u001b[0m\u001b[0;34m)\u001b[0m\u001b[0;34m\u001b[0m\u001b[0;34m\u001b[0m\u001b[0m\n",
      "\u001b[0m\u001b[0;32m     40 \u001b[0;31m    \u001b[0mset_trace\u001b[0m\u001b[0;34m(\u001b[0m\u001b[0;34m)\u001b[0m\u001b[0;34m\u001b[0m\u001b[0;34m\u001b[0m\u001b[0m\n",
      "\u001b[0m\n",
      "0.470275598868077*sqrt(2)*|0001> + 0.234216722435696*sqrt(2)*|0011> + 0.265007010666006*sqrt(2)*|0100> + 0.392115636437288*sqrt(2)*|0110>\n",
      "> \u001b[0;32m/tmp/ipykernel_154990/289825786.py\u001b[0m(41)\u001b[0;36m<module>\u001b[0;34m()\u001b[0m\n",
      "\u001b[0;32m     39 \u001b[0;31m    \u001b[0mprint\u001b[0m \u001b[0;34m(\u001b[0m\u001b[0marg\u001b[0m\u001b[0;34m)\u001b[0m\u001b[0;34m\u001b[0m\u001b[0;34m\u001b[0m\u001b[0m\n",
      "\u001b[0m\u001b[0;32m     40 \u001b[0;31m    \u001b[0mset_trace\u001b[0m\u001b[0;34m(\u001b[0m\u001b[0;34m)\u001b[0m\u001b[0;34m\u001b[0m\u001b[0;34m\u001b[0m\u001b[0m\n",
      "\u001b[0m\u001b[0;32m---> 41 \u001b[0;31m    \u001b[0;32mif\u001b[0m \u001b[0misinstance\u001b[0m\u001b[0;34m(\u001b[0m\u001b[0marg\u001b[0m\u001b[0;34m,\u001b[0m \u001b[0mQubit\u001b[0m\u001b[0;34m)\u001b[0m\u001b[0;34m:\u001b[0m\u001b[0;34m\u001b[0m\u001b[0;34m\u001b[0m\u001b[0m\n",
      "\u001b[0m\u001b[0;32m     42 \u001b[0;31m        \u001b[0mprint\u001b[0m\u001b[0;34m(\u001b[0m\u001b[0marg\u001b[0m\u001b[0;34m.\u001b[0m\u001b[0mqubit_values\u001b[0m\u001b[0;34m)\u001b[0m\u001b[0;34m\u001b[0m\u001b[0;34m\u001b[0m\u001b[0m\n",
      "\u001b[0m\u001b[0;32m     43 \u001b[0;31m        \u001b[0;32mif\u001b[0m \u001b[0marg\u001b[0m\u001b[0;34m.\u001b[0m\u001b[0mqubit_values\u001b[0m\u001b[0;34m[\u001b[0m\u001b[0;36m3\u001b[0m\u001b[0;34m]\u001b[0m \u001b[0;34m==\u001b[0m \u001b[0;36m0\u001b[0m\u001b[0;34m:\u001b[0m\u001b[0;34m\u001b[0m\u001b[0;34m\u001b[0m\u001b[0m\n",
      "\u001b[0m\n"
     ]
    }
   ],
   "source": [
    "# this is the quantum state where we have:\n",
    "# Passenger 1 features\n",
    "# Passenger 2 features\n",
    "# Passenger 3 features   TWICE!\n",
    "# Passenger 3 features\n",
    "# and add a forth qubit that pads the amplitude vecrtors with some zeros\n",
    "\n",
    "s = 1/sqrt(4)*(0.921*Qubit(0, 0, 0, 1) +\n",
    "               0.390*Qubit(0, 0, 1, 1) +\n",
    "               0.141*Qubit(0, 1, 0, 0) +\n",
    "               0.99*Qubit(0, 1, 1, 0) +\n",
    "               0.866*Qubit(1, 0, 0, 1) +\n",
    "               0.500*Qubit(1, 0, 1, 1) +\n",
    "               0.866*Qubit(1, 1, 0, 0) +\n",
    "               0.500*Qubit(1, 1, 1, 0))\n",
    "s\n",
    "\n",
    "# we apply Hadamard to the first qubit\n",
    "g = IdentityGate(0)*IdentityGate(1)*IdentityGate(2)*HadamardGate(3)\n",
    "x = qapply(g*s)\n",
    "x\n",
    "\n",
    "truth = 1/sqrt(8)*((0.921 + 0.866)*Qubit(0, 0, 0, 1) +\n",
    "                   (0.390 + 0.500)*Qubit(0, 0, 1, 1) +\n",
    "                   (0.141 + 0.866)*Qubit(0, 1, 0, 0) +\n",
    "                   (0.990 + 0.500)*Qubit(0, 1, 1, 0) +\n",
    "                   (0.921 - 0.866)*Qubit(1, 0, 0, 1) +\n",
    "                   (0.390 - 0.500)*Qubit(1, 0, 1, 1) +\n",
    "                   (0.141 - 0.866)*Qubit(1, 1, 0, 0) +\n",
    "                   (0.990 - 0.500)*Qubit(1, 1, 1, 0))\n",
    "print(truth)\n",
    "\n",
    "assert simplify(x - truth) == 0\n",
    "\n",
    "# measure the first qubit\n",
    "measure = measure_partial(x, (3,))\n",
    "measure = measure[0]\n",
    "for arg in preorder_traversal(measure):\n",
    "    print (arg)\n",
    "    if isinstance(arg, Qubit):\n",
    "        print(arg.qubit_values)\n",
    "        if arg.qubit_values[3] == 0:\n",
    "            print (\"YES\")\n",
    "        \n",
    "\n",
    "\n",
    "# p(q4 == 1 )\n",
    "p0 = 0.470275598868077*sqrt(2)*0.470275598868077*sqrt(2) + 0.234216722435696*sqrt(2)*0.234216722435696*sqrt(2)\n",
    "print(p0)\n",
    "\n",
    "# p(q4 == 0 )\n",
    "p1 = 0.265007010666006*sqrt(2)*0.265007010666006*sqrt(2) + 0.392115636437288*sqrt(2)*0.392115636437288*sqrt(2)\n",
    "print(p1)\n",
    "\n",
    "# matching results we found classicaly\n",
    "assert np.abs(p0 - dists[0]) < 1e-2\n",
    "assert np.abs(p1 - dists[1]) < 1e-2"
   ]
  }
 ],
 "metadata": {
  "kernelspec": {
   "display_name": ".venv",
   "language": "python",
   "name": "python3"
  },
  "language_info": {
   "codemirror_mode": {
    "name": "ipython",
    "version": 3
   },
   "file_extension": ".py",
   "mimetype": "text/x-python",
   "name": "python",
   "nbconvert_exporter": "python",
   "pygments_lexer": "ipython3",
   "version": "3.10.12"
  }
 },
 "nbformat": 4,
 "nbformat_minor": 2
}
