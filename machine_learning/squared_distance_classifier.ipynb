{
 "cells": [
  {
   "cell_type": "markdown",
   "metadata": {},
   "source": [
    "# Quantum Square Distance Classifier"
   ]
  },
  {
   "cell_type": "markdown",
   "metadata": {},
   "source": [
    "Importing what is needed"
   ]
  },
  {
   "cell_type": "code",
   "execution_count": 1,
   "metadata": {},
   "outputs": [],
   "source": [
    "import numpy as np\n",
    "\n",
    "from sympy.physics.quantum.qapply import qapply\n",
    "from sympy.physics.quantum.qubit import Qubit, measure_partial\n",
    "from sympy.physics.quantum.gate import HadamardGate, IdentityGate\n",
    "from sympy import sqrt, simplify"
   ]
  },
  {
   "cell_type": "markdown",
   "metadata": {},
   "source": [
    "We have two points from Titanic dataset, normalized to one"
   ]
  },
  {
   "cell_type": "code",
   "execution_count": 2,
   "metadata": {},
   "outputs": [
    {
     "data": {
      "text/plain": [
       "array([[0.921, 0.39 , 1.   ],\n",
       "       [0.141, 0.99 , 0.   ]])"
      ]
     },
     "execution_count": 2,
     "metadata": {},
     "output_type": "execute_result"
    }
   ],
   "source": [
    "# price, room , survival\n",
    "data = np.array([[0.921, 0.390, 1], [0.141, 0.990, 0]])\n",
    "data"
   ]
  },
  {
   "cell_type": "markdown",
   "metadata": {},
   "source": [
    "New passaenger, we want to estimate the survival of"
   ]
  },
  {
   "cell_type": "code",
   "execution_count": 3,
   "metadata": {},
   "outputs": [
    {
     "data": {
      "text/plain": [
       "array([0.866, 0.5  ])"
      ]
     },
     "execution_count": 3,
     "metadata": {},
     "output_type": "execute_result"
    }
   ],
   "source": [
    "x_point = np.array([0.866, 0.500])\n",
    "x_point"
   ]
  },
  {
   "cell_type": "markdown",
   "metadata": {},
   "source": [
    "calculate the distance of the new point from the two existing one"
   ]
  },
  {
   "cell_type": "code",
   "execution_count": 4,
   "metadata": {},
   "outputs": [
    {
     "name": "stdout",
     "output_type": "stream",
     "text": [
      "[0.5537045 0.4462955]\n"
     ]
    }
   ],
   "source": [
    "dists = []\n",
    "for i in range(2):\n",
    "    d = np.linalg.norm(x_point - data[i][0:2])\n",
    "    dists.append(1.0 - 0.25 * d)\n",
    "\n",
    "dists = dists / np.sum(dists)\n",
    "print(dists)"
   ]
  },
  {
   "cell_type": "markdown",
   "metadata": {},
   "source": [
    "Create a state concatenating the values of the passengers plus twice the unknown one\n",
    "each feature is the phase of one qubit from zero to seven\n",
    "then we concatenate zero or one if the passenger survived or not"
   ]
  },
  {
   "cell_type": "code",
   "execution_count": 5,
   "metadata": {},
   "outputs": [
    {
     "name": "stdout",
     "output_type": "stream",
     "text": [
      "s=0.4605*|0001> + 0.195*|0011> + 0.0705*|0100> + 0.495*|0110> + 0.433*|1001> + 0.25*|1011> + 0.433*|1100> + 0.25*|1110>\n",
      "s=0.4605*|0001> + 0.195*|0011> + 0.0705*|0100> + 0.495*|0110> + 0.433*|1001> + 0.25*|1011> + 0.433*|1100> + 0.25*|1110>\n"
     ]
    }
   ],
   "source": [
    "# this is the quantum state where we have:\n",
    "# Passenger 1 f1 f2 living\n",
    "# Passenger 2 f1 f2 dead\n",
    "# Passenger 3 f1 f2 living\n",
    "# Passenger 3 f1 f2 dead\n",
    "\n",
    "data = np.array(\n",
    "    [[0.921, 0.390, 1], [0.141, 0.990, 0], [0.866, 0.500, 1], [0.866, 0.500, 0]]\n",
    ")\n",
    "\n",
    "s = 0\n",
    "for i in range(4):\n",
    "    for j in range(2):\n",
    "        # assigning a number between 0 and 7 to each\n",
    "        b = \"{0:03b}\".format(i * 2 + j)\n",
    "        # put one or zero if the passenger survived or not\n",
    "        b += str(int(data[i][2]))\n",
    "        s += 1 / sqrt(4) * Qubit(b) * data[i][j]\n",
    "\n",
    "print(f\"s={s}\")\n",
    "\n",
    "data = np.array(\n",
    "    [[0.921, 0.390, 1], [0.141, 0.990, 0], [0.866, 0.500, 1], [0.866, 0.500, 0]]\n",
    ")\n",
    "\n",
    "s = 0\n",
    "for i in range(4):\n",
    "    for j in range(2):\n",
    "        # assigning a number between 0 and 7 to each\n",
    "        b = \"{0:03b}\".format(i * 2 + j)\n",
    "        # put one or zero if the passenger survived or not\n",
    "        b += str(int(data[i][2]))\n",
    "        s += 1 / sqrt(4) * Qubit(b) * data[i][j]\n",
    "\n",
    "print(f\"s={s}\")"
   ]
  },
  {
   "cell_type": "markdown",
   "metadata": {},
   "source": [
    "Check our calculation"
   ]
  },
  {
   "cell_type": "code",
   "execution_count": 6,
   "metadata": {},
   "outputs": [
    {
     "name": "stdout",
     "output_type": "stream",
     "text": [
      "t=(0.921*|0001> + 0.39*|0011> + 0.141*|0100> + 0.99*|0110> + 0.866*|1001> + 0.5*|1011> + 0.866*|1100> + 0.5*|1110>)/2\n"
     ]
    }
   ],
   "source": [
    "s_truth = (\n",
    "    1\n",
    "    / sqrt(4)\n",
    "    * (\n",
    "        0.921 * Qubit(0, 0, 0, 1)\n",
    "        + 0.390 * Qubit(0, 0, 1, 1)\n",
    "        + 0.141 * Qubit(0, 1, 0, 0)\n",
    "        + 0.99 * Qubit(0, 1, 1, 0)\n",
    "        + 0.866 * Qubit(1, 0, 0, 1)\n",
    "        + 0.500 * Qubit(1, 0, 1, 1)\n",
    "        + 0.866 * Qubit(1, 1, 0, 0)\n",
    "        + 0.500 * Qubit(1, 1, 1, 0)\n",
    "    )\n",
    ")\n",
    "print(f\"t={s_truth}\")\n",
    "\n",
    "assert simplify(s - s_truth) == 0"
   ]
  },
  {
   "cell_type": "markdown",
   "metadata": {},
   "source": [
    "Apply Hadamar to the fist qubit, quantum equivalent to coin flipping"
   ]
  },
  {
   "cell_type": "code",
   "execution_count": 7,
   "metadata": {},
   "outputs": [
    {
     "name": "stdout",
     "output_type": "stream",
     "text": [
      "sqrt(2)*(1.787*|0001> + 0.89*|0011> + 1.007*|0100> + 1.49*|0110> + 0.055*|1001> - 0.11*|1011> - 0.725*|1100> + 0.49*|1110>)/4\n"
     ]
    }
   ],
   "source": [
    "# we apply Hadamard to the first qubit\n",
    "g = IdentityGate(0) * IdentityGate(1) * IdentityGate(2) * HadamardGate(3)\n",
    "x = qapply(g * s)\n",
    "x\n",
    "\n",
    "truth = (\n",
    "    1\n",
    "    / sqrt(8)\n",
    "    * (\n",
    "        (0.921 + 0.866) * Qubit(0, 0, 0, 1)\n",
    "        + (0.390 + 0.500) * Qubit(0, 0, 1, 1)\n",
    "        + (0.141 + 0.866) * Qubit(0, 1, 0, 0)\n",
    "        + (0.990 + 0.500) * Qubit(0, 1, 1, 0)\n",
    "        + (0.921 - 0.866) * Qubit(1, 0, 0, 1)\n",
    "        + (0.390 - 0.500) * Qubit(1, 0, 1, 1)\n",
    "        + (0.141 - 0.866) * Qubit(1, 1, 0, 0)\n",
    "        + (0.990 - 0.500) * Qubit(1, 1, 1, 0)\n",
    "    )\n",
    ")\n",
    "print(truth)\n",
    "assert simplify(x - truth) == 0"
   ]
  },
  {
   "cell_type": "markdown",
   "metadata": {},
   "source": [
    "Measure first qubit, and keep measure where first qubit is zero"
   ]
  },
  {
   "cell_type": "code",
   "execution_count": 8,
   "metadata": {},
   "outputs": [
    {
     "name": "stdout",
     "output_type": "stream",
     "text": [
      "0.470275598868077*sqrt(2)*|0001> + 0.234216722435696*sqrt(2)*|0011> + 0.265007010666006*sqrt(2)*|0100> + 0.392115636437288*sqrt(2)*|0110>\n"
     ]
    }
   ],
   "source": [
    "# measure the first qubit\n",
    "measure = measure_partial(x, (3,))\n",
    "measure = measure[0][0]  # get measure where first qubit is zero\n",
    "print(measure)"
   ]
  },
  {
   "cell_type": "markdown",
   "metadata": {},
   "source": [
    "Calculate probabilities p0, p1"
   ]
  },
  {
   "cell_type": "code",
   "execution_count": 9,
   "metadata": {},
   "outputs": [
    {
     "name": "stdout",
     "output_type": "stream",
     "text": [
      "0.552033223918495\n",
      "0.447966776081505\n"
     ]
    }
   ],
   "source": [
    "# p(q4 == 1 )\n",
    "_, a = measure.as_independent(Qubit(\"0001\"), as_Mul=True)\n",
    "_, b = measure.as_independent(Qubit(\"0011\"), as_Mul=True)\n",
    "a = a / Qubit(\"0001\")\n",
    "b = b / Qubit(\"0011\")\n",
    "\n",
    "p0 = a * a + b * b\n",
    "print(p0)\n",
    "\n",
    "# p(q4 == 0 )\n",
    "_, a = measure.as_independent(Qubit(\"0100\"), as_Mul=True)\n",
    "_, b = measure.as_independent(Qubit(\"0110\"), as_Mul=True)\n",
    "a = a / Qubit(\"0100\")\n",
    "b = b / Qubit(\"0110\")\n",
    "\n",
    "p1 = a * a + b * b\n",
    "print(p1)\n",
    "\n",
    "# matching results we found classicaly\n",
    "assert np.abs(p0 - dists[0]) < 1e-2\n",
    "assert np.abs(p1 - dists[1]) < 1e-2"
   ]
  }
 ],
 "metadata": {
  "kernelspec": {
   "display_name": ".venv",
   "language": "python",
   "name": "python3"
  },
  "language_info": {
   "codemirror_mode": {
    "name": "ipython",
    "version": 3
   },
   "file_extension": ".py",
   "mimetype": "text/x-python",
   "name": "python",
   "nbconvert_exporter": "python",
   "pygments_lexer": "ipython3",
   "version": "3.10.12"
  }
 },
 "nbformat": 4,
 "nbformat_minor": 2
}
