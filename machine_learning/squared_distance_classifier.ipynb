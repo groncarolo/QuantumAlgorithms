{
 "cells": [
  {
   "cell_type": "markdown",
   "metadata": {},
   "source": [
    "# Quantum Square Distance Classifier"
   ]
  },
  {
   "cell_type": "markdown",
   "metadata": {},
   "source": [
    "Importing what is needed"
   ]
  },
  {
   "cell_type": "code",
   "execution_count": 1,
   "metadata": {},
   "outputs": [],
   "source": [
    "import numpy as np\n",
    "\n",
    "from sympy.physics.quantum.qapply import qapply\n",
    "from sympy.physics.quantum.qubit import IntQubit, Qubit, measure_partial, matrix_to_qubit\n",
    "from sympy.physics.quantum import TensorProduct\n",
    "from sympy.physics.quantum.gate import HadamardGate, IdentityGate\n",
    "from sympy.physics.quantum.represent import represent\n",
    "from sympy import sqrt, simplify, preorder_traversal\n"
   ]
  },
  {
   "cell_type": "markdown",
   "metadata": {},
   "source": [
    "We have two points"
   ]
  },
  {
   "cell_type": "code",
   "execution_count": 2,
   "metadata": {},
   "outputs": [
    {
     "data": {
      "text/plain": [
       "array([[0.921, 0.39 , 1.   ],\n",
       "       [0.141, 0.99 , 0.   ]])"
      ]
     },
     "execution_count": 2,
     "metadata": {},
     "output_type": "execute_result"
    }
   ],
   "source": [
    "# price, room , survival\n",
    "data = np.array([[0.921, 0.390, 1], [0.141, 0.990, 0]])\n",
    "data"
   ]
  },
  {
   "cell_type": "markdown",
   "metadata": {},
   "source": [
    "New passaenger we want to know the survival of"
   ]
  },
  {
   "cell_type": "code",
   "execution_count": 3,
   "metadata": {},
   "outputs": [
    {
     "data": {
      "text/plain": [
       "array([0.866, 0.5  ])"
      ]
     },
     "execution_count": 3,
     "metadata": {},
     "output_type": "execute_result"
    }
   ],
   "source": [
    "x_point = np.array([0.866, 0.500])\n",
    "x_point"
   ]
  },
  {
   "cell_type": "code",
   "execution_count": 4,
   "metadata": {},
   "outputs": [
    {
     "name": "stdout",
     "output_type": "stream",
     "text": [
      "[0.5537045 0.4462955]\n"
     ]
    }
   ],
   "source": [
    "# calculate the distance of the new point\n",
    "dists = []\n",
    "for i in range(2):\n",
    "    d = np.linalg.norm(x_point - data[i][0:2])\n",
    "    dists.append(1. - 0.25 * d)\n",
    "\n",
    "dists = dists / np.sum(dists)\n",
    "\n",
    "print (dists)\n"
   ]
  },
  {
   "cell_type": "code",
   "execution_count": 5,
   "metadata": {},
   "outputs": [
    {
     "name": "stdout",
     "output_type": "stream",
     "text": [
      "t=(0.921*|0001> + 0.39*|0011> + 0.141*|0100> + 0.99*|0110> + 0.866*|1001> + 0.5*|1011> + 0.866*|1100> + 0.5*|1110>)/2\n",
      "s=0.4605*|0001> + 0.195*|0011> + 0.0705*|0100> + 0.495*|0110> + 0.433*|1001> + 0.25*|1011> + 0.433*|1100> + 0.25*|1110>\n"
     ]
    }
   ],
   "source": [
    "# this is the quantum state where we have:\n",
    "# Passenger 1 features\n",
    "# Passenger 2 features\n",
    "# Passenger 3 features   TWICE!\n",
    "# Passenger 3 features\n",
    "\n",
    "s_truth = 1/sqrt(4)*(0.921*Qubit(0, 0, 0, 1) +\n",
    "                 0.390*Qubit(0, 0, 1, 1) +\n",
    "                 0.141*Qubit(0, 1, 0, 0) +\n",
    "                 0.99*Qubit(0, 1, 1, 0) +\n",
    "                 0.866*Qubit(1, 0, 0, 1) +\n",
    "                 0.500*Qubit(1, 0, 1, 1) +\n",
    "                 0.866*Qubit(1, 1, 0, 0) +\n",
    "                 0.500*Qubit(1, 1, 1, 0))\n",
    "print(f\"t={s_truth}\")\n",
    "\n",
    "data = np.array([[0.921, 0.390, 1], [0.141, 0.990, 0], [0.866, 0.500, 1], [0.866, 0.500, 0]])\n",
    "\n",
    "s = 0\n",
    "\n",
    "for i in range(4):\n",
    "    for j in range(2):\n",
    "        b = \"{0:03b}\".format(i*2+j)  # assigning a number between 0 and 7 to each \n",
    "        b += str(int(data[i][2])) # put one or zero if the passenger survived or not\n",
    "        s += 1/sqrt(4)*Qubit(b)*data[i][j]\n",
    "\n",
    "print(f\"s={s}\")\n",
    "assert simplify(s - s_truth) == 0"
   ]
  },
  {
   "cell_type": "code",
   "execution_count": 6,
   "metadata": {},
   "outputs": [
    {
     "name": "stdout",
     "output_type": "stream",
     "text": [
      "sqrt(2)*(1.787*|0001> + 0.89*|0011> + 1.007*|0100> + 1.49*|0110> + 0.055*|1001> - 0.11*|1011> - 0.725*|1100> + 0.49*|1110>)/4\n"
     ]
    }
   ],
   "source": [
    "# we apply Hadamard to the first qubit\n",
    "g = IdentityGate(0)*IdentityGate(1)*IdentityGate(2)*HadamardGate(3)\n",
    "x = qapply(g*s)\n",
    "x\n",
    "\n",
    "truth = 1/sqrt(8)*((0.921 + 0.866)*Qubit(0, 0, 0, 1) +\n",
    "                   (0.390 + 0.500)*Qubit(0, 0, 1, 1) +\n",
    "                   (0.141 + 0.866)*Qubit(0, 1, 0, 0) +\n",
    "                   (0.990 + 0.500)*Qubit(0, 1, 1, 0) +\n",
    "                   (0.921 - 0.866)*Qubit(1, 0, 0, 1) +\n",
    "                   (0.390 - 0.500)*Qubit(1, 0, 1, 1) +\n",
    "                   (0.141 - 0.866)*Qubit(1, 1, 0, 0) +\n",
    "                   (0.990 - 0.500)*Qubit(1, 1, 1, 0))\n",
    "print(truth)\n",
    "assert simplify(x - truth) == 0"
   ]
  },
  {
   "cell_type": "code",
   "execution_count": 7,
   "metadata": {},
   "outputs": [
    {
     "name": "stdout",
     "output_type": "stream",
     "text": [
      "(0.470275598868077*sqrt(2)*|0001> + 0.234216722435696*sqrt(2)*|0011> + 0.265007010666006*sqrt(2)*|0100> + 0.392115636437288*sqrt(2)*|0110>, 0.902399459631612)\n",
      "0.470275598868077*sqrt(2)*|0001> + 0.234216722435696*sqrt(2)*|0011> + 0.265007010666006*sqrt(2)*|0100> + 0.392115636437288*sqrt(2)*|0110>\n",
      "0.392115636437288*sqrt(2)*|0110>\n",
      "0.392115636437288\n",
      "sqrt(2)\n",
      "2\n",
      "1/2\n",
      "|0110>\n",
      "(0, 1, 1, 0)\n",
      "YES\n",
      "0\n",
      "1\n",
      "1\n",
      "0\n",
      "0.234216722435696*sqrt(2)*|0011>\n",
      "0.234216722435696\n",
      "sqrt(2)\n",
      "2\n",
      "1/2\n",
      "|0011>\n",
      "(0, 0, 1, 1)\n",
      "0\n",
      "0\n",
      "1\n",
      "1\n",
      "0.265007010666006*sqrt(2)*|0100>\n",
      "0.265007010666006\n",
      "sqrt(2)\n",
      "2\n",
      "1/2\n",
      "|0100>\n",
      "(0, 1, 0, 0)\n",
      "YES\n",
      "0\n",
      "1\n",
      "0\n",
      "0\n",
      "0.470275598868077*sqrt(2)*|0001>\n",
      "0.470275598868077\n",
      "sqrt(2)\n",
      "2\n",
      "1/2\n",
      "|0001>\n",
      "(0, 0, 0, 1)\n",
      "0\n",
      "0\n",
      "0\n",
      "1\n",
      "0.902399459631612\n",
      "0.552033223918497\n",
      "0.447966776081504\n"
     ]
    }
   ],
   "source": [
    "# measure the first qubit\n",
    "measure = measure_partial(x, (3,))\n",
    "measure = measure[0] # get measure where first qubit is zero\n",
    "\n",
    "p0 = 0\n",
    "p1 = 0\n",
    "\n",
    "for arg in preorder_traversal(measure):\n",
    "    print (arg)\n",
    "    if isinstance(arg, Qubit):\n",
    "        print(arg.qubit_values)\n",
    "        if arg.qubit_values[3] == 0:\n",
    "            print (\"YES\")\n",
    "        \n",
    "\n",
    "\n",
    "# p(q4 == 1 )\n",
    "p0 = 0.470275598868077*sqrt(2)*0.470275598868077*sqrt(2) + 0.234216722435696*sqrt(2)*0.234216722435696*sqrt(2)\n",
    "print(p0)\n",
    "\n",
    "# p(q4 == 0 )\n",
    "p1 = 0.265007010666006*sqrt(2)*0.265007010666006*sqrt(2) + 0.392115636437288*sqrt(2)*0.392115636437288*sqrt(2)\n",
    "print(p1)\n",
    "\n",
    "# matching results we found classicaly\n",
    "assert np.abs(p0 - dists[0]) < 1e-2\n",
    "assert np.abs(p1 - dists[1]) < 1e-2\n"
   ]
  }
 ],
 "metadata": {
  "kernelspec": {
   "display_name": ".venv",
   "language": "python",
   "name": "python3"
  },
  "language_info": {
   "codemirror_mode": {
    "name": "ipython",
    "version": 3
   },
   "file_extension": ".py",
   "mimetype": "text/x-python",
   "name": "python",
   "nbconvert_exporter": "python",
   "pygments_lexer": "ipython3",
   "version": "3.10.12"
  }
 },
 "nbformat": 4,
 "nbformat_minor": 2
}
