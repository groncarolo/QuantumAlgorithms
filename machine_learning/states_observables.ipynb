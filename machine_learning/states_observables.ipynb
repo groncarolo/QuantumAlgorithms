{
 "cells": [
  {
   "cell_type": "markdown",
   "metadata": {},
   "source": [
    "# State and Observables"
   ]
  },
  {
   "cell_type": "markdown",
   "metadata": {},
   "source": [
    "The expectation of a random variable is defined as \n",
    "\n",
    "$$\n",
    "\\left\\langle M\\right\\rangle =\\sum_{k=1}^{K}p_{k}\\mu_{k}\n",
    "$$"
   ]
  },
  {
   "cell_type": "markdown",
   "metadata": {},
   "source": [
    "Suppose we have a particle in a box divided in 4 portions with p probability to be in one of the secition\n",
    "\n",
    "Each section has a random value $M$ that can take values $ \\{\\mu_1, ..., \\mu_k\\} $ associated to it"
   ]
  },
  {
   "cell_type": "code",
   "execution_count": 36,
   "metadata": {},
   "outputs": [
    {
     "data": {
      "text/plain": [
       "2.8000000000000003"
      ]
     },
     "execution_count": 36,
     "metadata": {},
     "output_type": "execute_result"
    }
   ],
   "source": [
    "import numpy as np\n",
    "\n",
    "p = np.array([0.2, 0.2, 0.2, 0.4])\n",
    "\n",
    "ms = np.array([1, 2, 3, 4])\n",
    "\n",
    "M = sum(p * ms)\n",
    "M"
   ]
  },
  {
   "cell_type": "markdown",
   "metadata": {},
   "source": [
    "That shows that it is more probable to find the paritcle in the right portion of the box"
   ]
  },
  {
   "cell_type": "markdown",
   "metadata": {},
   "source": [
    "If we define  $\\boldsymbol{q}=\\left(\\begin{array}{c}\n",
    "\\sqrt{(p_{1})}\\\\\n",
    "\\vdots\\\\\n",
    "\\sqrt{(p_{k})}\n",
    "\\end{array}\\right)=\\sqrt{(p_{1})}\\left(\\begin{array}{c}\n",
    "1\\\\\n",
    "\\vdots\\\\\n",
    "0\n",
    "\\end{array}\\right)+...+\\sqrt{(p_{k})}\\left(\\begin{array}{c}\n",
    "0\\\\\n",
    "\\vdots\\\\\n",
    "1\n",
    "\\end{array}\\right)$\n",
    "\n",
    "and\n",
    "\n",
    "$\\boldsymbol{M=\\left(\\begin{array}{ccc}\n",
    "\\mu_{1} & ... & 0\\\\\n",
    "\\vdots & \\ddots & \\vdots\\\\\n",
    "0 & ... & \\mu_{k}\n",
    "\\end{array}\\right)}$\n",
    "\n",
    "we have\n",
    "\n",
    "$\\left\\langle \\boldsymbol{M}\\right\\rangle =\\boldsymbol{q^{T}Mq}=\\sum_{k=1}^{K}p_{k}\\mu_{k}$"
   ]
  },
  {
   "cell_type": "code",
   "execution_count": 41,
   "metadata": {},
   "outputs": [
    {
     "name": "stdout",
     "output_type": "stream",
     "text": [
      "[0.4472136  0.4472136  0.4472136  0.63245553]\n"
     ]
    },
    {
     "data": {
      "text/plain": [
       "2.8"
      ]
     },
     "execution_count": 41,
     "metadata": {},
     "output_type": "execute_result"
    }
   ],
   "source": [
    "q = np.sqrt(p)\n",
    "print(q)\n",
    "MS = np.diag(ms)\n",
    "\n",
    "M1 = q.T @ MS @ q\n",
    "M1"
   ]
  },
  {
   "cell_type": "code",
   "execution_count": 38,
   "metadata": {},
   "outputs": [],
   "source": [
    "assert np.allclose(M, M1)"
   ]
  },
  {
   "cell_type": "markdown",
   "metadata": {},
   "source": [
    "## Unitary Evolution"
   ]
  },
  {
   "cell_type": "markdown",
   "metadata": {},
   "source": [
    "Let's begin with a stochastic example\n",
    "\n",
    "We call transition matrix $\\boldsymbol S$ the matrix that contains the probabilities between objervations $s_{ij} $ and maps a discrete probability distribution into another discrete probability distribution, ensuring that the probability vectors remain nomalized "
   ]
  },
  {
   "cell_type": "markdown",
   "metadata": {},
   "source": [
    "$\\boldsymbol{\\left(\\begin{array}{ccc}\n",
    "s_{11} & ... & s_{1K}\\\\\n",
    "\\vdots & \\ddots & \\vdots\\\\\n",
    "s_{k1} & ... & s_{kk}\n",
    "\\end{array}\\right)}\\left(\\begin{array}{c}\n",
    "p_{1}\\\\\n",
    "\\vdots\\\\\n",
    "p_{k}\n",
    "\\end{array}\\right)=\\left(\\begin{array}{c}\n",
    "p_{1}^{'}\\\\\n",
    "\\vdots\\\\\n",
    "p_{k}^{'}\n",
    "\\end{array}\\right),\\sum_{k=1}^{K}p_{k}=\\sum_{k=1}^{K}p_{k}^{'}=1$"
   ]
  },
  {
   "cell_type": "markdown",
   "metadata": {},
   "source": [
    "Example: \n",
    "\n",
    "we have 60% probability that it will rain tomorrow if it rains today, and 40% it will be sunny\n",
    "we have 40% probability that it will be rain tomorrow if it is sunny, and 60^% it will stay sunny"
   ]
  },
  {
   "cell_type": "code",
   "execution_count": 39,
   "metadata": {},
   "outputs": [
    {
     "data": {
      "text/plain": [
       "array([0.4, 0.6])"
      ]
     },
     "execution_count": 39,
     "metadata": {},
     "output_type": "execute_result"
    }
   ],
   "source": [
    "s = np.array([[0.6, 0.4], [0.4, 0.6]])\n",
    "s\n",
    "# if it was sunny today\n",
    "p_tod = np.array([0, 1])\n",
    "\n",
    "# we have for tomorrow:\n",
    "p_tom = s @ p_tod\n",
    "p_tom"
   ]
  },
  {
   "cell_type": "markdown",
   "metadata": {},
   "source": [
    "In quantum world we use amplitude vectors whose norm squared is one, \n",
    "\n",
    "The evolution is described by a Unitary matrix "
   ]
  },
  {
   "cell_type": "markdown",
   "metadata": {},
   "source": [
    "$\\boldsymbol{\\left(\\begin{array}{ccc}\n",
    "u_{11} & ... & u_{1K}\\\\\n",
    "\\vdots & \\ddots & \\vdots\\\\\n",
    "u_{k1} & ... & u_{kk}\n",
    "\\end{array}\\right)}\\left(\\begin{array}{c}\n",
    "\\alpha_{1}\\\\\n",
    "\\vdots\\\\\n",
    "\\alpha_{k}\n",
    "\\end{array}\\right)=\\left(\\begin{array}{c}\n",
    "\\alpha_{1}^{'}\\\\\n",
    "\\vdots\\\\\n",
    "\\alpha_{k}^{'}\n",
    "\\end{array}\\right),\\sum_{k=1}^{K}\\left\\Vert \\alpha_{k}\\right\\Vert ^{2} = \\sum_{k=1}^{K}\\left\\Vert \\alpha_{k}^{'}\\right\\Vert ^{2}=1$"
   ]
  },
  {
   "cell_type": "markdown",
   "metadata": {},
   "source": [
    "A unitary matrix U has the property $U^{-1} = U^{\\dagger}$  where $ M^\\dagger = (M^*)^T$ also said Hermitian\n",
    "\n",
    "Being hermitian eigenvalues are always real hence with a physical sense"
   ]
  }
 ],
 "metadata": {
  "kernelspec": {
   "display_name": ".venv",
   "language": "python",
   "name": "python3"
  },
  "language_info": {
   "codemirror_mode": {
    "name": "ipython",
    "version": 3
   },
   "file_extension": ".py",
   "mimetype": "text/x-python",
   "name": "python",
   "nbconvert_exporter": "python",
   "pygments_lexer": "ipython3",
   "version": "3.10.12"
  }
 },
 "nbformat": 4,
 "nbformat_minor": 2
}
