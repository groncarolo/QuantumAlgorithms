{
 "cells": [
  {
   "cell_type": "markdown",
   "metadata": {},
   "source": [
    "# Swap Test"
   ]
  },
  {
   "cell_type": "markdown",
   "metadata": {},
   "source": [
    "We want to extract the quare of the inner product $|<a|b>|^2$"
   ]
  },
  {
   "cell_type": "code",
   "execution_count": 1,
   "metadata": {},
   "outputs": [],
   "source": [
    "from sympy import sqrt\n",
    "from sympy.physics.quantum.qubit import Qubit, measure_partial, matrix_to_qubit\n",
    "from sympy.physics.quantum import TensorProduct\n",
    "from sympy.physics.quantum.gate import HadamardGate, CGate, SwapGate\n",
    "from sympy.physics.quantum.qapply import qapply\n",
    "from sympy.physics.quantum.represent import represent"
   ]
  },
  {
   "cell_type": "code",
   "execution_count": 2,
   "metadata": {},
   "outputs": [
    {
     "name": "stdout",
     "output_type": "stream",
     "text": [
      "<0|1>**2\n",
      "0\n",
      "<0|0>**2\n",
      "1\n"
     ]
    }
   ],
   "source": [
    "# example of inner products\n",
    "a = Qubit(\"0\")\n",
    "b = Qubit(\"1\")\n",
    "\n",
    "r = (a.dual * b) ** 2\n",
    "print(r)\n",
    "r = r.doit()\n",
    "print(r)\n",
    "\n",
    "# example of inner products\n",
    "a = Qubit(\"0\")\n",
    "b = Qubit(\"0\")\n",
    "\n",
    "r = (a.dual * b) ** 2\n",
    "print(r)\n",
    "r = r.doit()\n",
    "print(r)"
   ]
  },
  {
   "cell_type": "code",
   "execution_count": 3,
   "metadata": {},
   "outputs": [
    {
     "name": "stdout",
     "output_type": "stream",
     "text": [
      "a=|0> b=|0>\n",
      "s=sqrt(2)*|000>/2 + sqrt(2)*|001>/2\n",
      "C((0),SWAP(1,2))*(sqrt(2)*|000>/2 + sqrt(2)*|001>/2)\n",
      "H(0)*C((0),SWAP(1,2))*(sqrt(2)*|000>/2 + sqrt(2)*|001>/2)\n",
      "measure=[(|000>, 1)]\n",
      "\n",
      "a=|1> b=|1>\n",
      "s=sqrt(2)*|110>/2 + sqrt(2)*|111>/2\n",
      "C((0),SWAP(1,2))*(sqrt(2)*|110>/2 + sqrt(2)*|111>/2)\n",
      "H(0)*C((0),SWAP(1,2))*(sqrt(2)*|110>/2 + sqrt(2)*|111>/2)\n",
      "measure=[(|110>, 1)]\n",
      "\n",
      "a=|1> b=|0>\n",
      "s=sqrt(2)*|100>/2 + sqrt(2)*|101>/2\n",
      "C((0),SWAP(1,2))*(sqrt(2)*|100>/2 + sqrt(2)*|101>/2)\n",
      "H(0)*C((0),SWAP(1,2))*(sqrt(2)*|100>/2 + sqrt(2)*|101>/2)\n",
      "measure=[(sqrt(2)*|010>/2 + sqrt(2)*|100>/2, 1/2), (-sqrt(2)*|011>/2 + sqrt(2)*|101>/2, 1/2)]\n",
      "\n",
      "a=|0> b=|1>\n",
      "s=sqrt(2)*|010>/2 + sqrt(2)*|011>/2\n",
      "C((0),SWAP(1,2))*(sqrt(2)*|010>/2 + sqrt(2)*|011>/2)\n",
      "H(0)*C((0),SWAP(1,2))*(sqrt(2)*|010>/2 + sqrt(2)*|011>/2)\n",
      "measure=[(sqrt(2)*|010>/2 + sqrt(2)*|100>/2, 1/2), (sqrt(2)*|011>/2 - sqrt(2)*|101>/2, 1/2)]\n",
      "\n"
     ]
    }
   ],
   "source": [
    "def SwapTest(a, b):\n",
    "    print(f\"a={a} b={b}\")\n",
    "    s = TensorProduct(TensorProduct(a, b), 1 / sqrt(2) * (Qubit(0) + Qubit(1)))\n",
    "    s = qapply(s)\n",
    "    s = matrix_to_qubit(represent(s))\n",
    "    print(f\"s={s}\")\n",
    "\n",
    "    # *note that qubits are indexed from right to left*\n",
    "    g = CGate(0, SwapGate(1, 2))\n",
    "    c = g * s\n",
    "    print(c)\n",
    "    c = HadamardGate(0) * c\n",
    "    print(c)\n",
    "    c = qapply(c)\n",
    "    measure = measure_partial(c, [0])\n",
    "    print(f\"measure={measure}\\n\")\n",
    "\n",
    "\n",
    "a = Qubit(\"0\")\n",
    "b = Qubit(\"0\")\n",
    "SwapTest(a, b)\n",
    "\n",
    "a = Qubit(\"1\")\n",
    "b = Qubit(\"1\")\n",
    "SwapTest(a, b)\n",
    "\n",
    "a = Qubit(\"1\")\n",
    "b = Qubit(\"0\")\n",
    "SwapTest(a, b)\n",
    "\n",
    "a = Qubit(\"0\")\n",
    "b = Qubit(\"1\")\n",
    "SwapTest(a, b)"
   ]
  },
  {
   "cell_type": "markdown",
   "metadata": {},
   "source": []
  }
 ],
 "metadata": {
  "kernelspec": {
   "display_name": ".venv",
   "language": "python",
   "name": "python3"
  },
  "language_info": {
   "codemirror_mode": {
    "name": "ipython",
    "version": 3
   },
   "file_extension": ".py",
   "mimetype": "text/x-python",
   "name": "python",
   "nbconvert_exporter": "python",
   "pygments_lexer": "ipython3",
   "version": "3.10.12"
  }
 },
 "nbformat": 4,
 "nbformat_minor": 2
}
