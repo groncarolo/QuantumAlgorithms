{
 "cells": [
  {
   "cell_type": "markdown",
   "metadata": {},
   "source": [
    "# No Cloning Theorem"
   ]
  },
  {
   "cell_type": "code",
   "execution_count": 2,
   "metadata": {},
   "outputs": [],
   "source": [
    "\"\"\"Module providing No Cloning Theorem demonstration\"\"\"\n",
    "\n",
    "from sympy.physics.quantum.qubit import Qubit, matrix_to_qubit\n",
    "from sympy import sqrt\n",
    "from sympy.physics.quantum import TensorProduct\n",
    "from sympy.physics.quantum.represent import represent\n",
    "\n",
    "# From Mathematics of Quantum Computing\n",
    "# 4.6.2 Perfect Quantum Copier\n"
   ]
  },
  {
   "cell_type": "code",
   "execution_count": 3,
   "metadata": {},
   "outputs": [],
   "source": [
    "def clone(q1, q2):\n",
    "    \"\"\"Function that returns a q1*q1 state\"\"\"\n",
    "    return TensorProduct(q1, q1)"
   ]
  },
  {
   "cell_type": "code",
   "execution_count": 4,
   "metadata": {},
   "outputs": [
    {
     "name": "stdout",
     "output_type": "stream",
     "text": [
      "1. clone should satisfy:\n",
      "clone(|0>*|x>) = |0>*|0>:\n",
      "r=|0>x|0>\n",
      "\n",
      "2. clone should satisfy:\n",
      "clone(|1>*|x>) = |1>*|1>:\n",
      "r=|1>x|1>\n",
      "\n",
      "3. clone should satisfy:\n",
      "clone([1/sqrt(2)(|0> + |1>)]*|x>) = [1/sqrt(2)[(|0> + |1>)]*[1/sqrt(2)(|0> + |1>)]\n",
      "r=(|0> + |1>)x(|0> + |1>)/2\n",
      "Equivalent to:\n",
      "|00>/2 + |01>/2 + |10>/2 + |11>/2\n",
      "\n",
      "4. clone is supposed to be linear so it must satisfy:\n",
      "1 / sqrt(2) * (clone(Qubit(0), x) + clone(Qubit(1), x))\n",
      "r=sqrt(2)*(|0>x|0> + |1>x|1>)/2\n",
      "Equivalent to:\n",
      "sqrt(2)*|00>/2 + sqrt(2)*|11>/2\n",
      "\n",
      "5. r and r1 are not the same => clone is not possible\n"
     ]
    }
   ],
   "source": [
    "x = 1\n",
    "r = clone(Qubit(0), x)\n",
    "print(f\"1. clone should satisfy:\\nclone(|0>*|x>) = |0>*|0>:\\nr={r}\")\n",
    "\n",
    "r = clone(Qubit(1), Qubit(x))\n",
    "print(f\"\\n2. clone should satisfy:\\nclone(|1>*|x>) = |1>*|1>:\\nr={r}\")\n",
    "\n",
    "q = 1 / sqrt(2) * (Qubit(0) + Qubit(1))\n",
    "r = clone(q, Qubit(x))\n",
    "print(\"\\n3. clone should satisfy:\")\n",
    "print(\"clone([1/sqrt(2)(|0> + |1>)]*|x>) = [1/sqrt(2)[(|0> + |1>)]*[1/sqrt(2)(|0> + |1>)]\")\n",
    "print(f\"r={r}\")\n",
    "r = matrix_to_qubit(represent(r))\n",
    "print(\"Equivalent to:\")\n",
    "print(r)\n",
    "\n",
    "print(\"\\n4. clone is supposed to be linear so it must satisfy:\")\n",
    "print(\"1 / sqrt(2) * (clone(Qubit(0), x) + clone(Qubit(1), x))\")\n",
    "r1 = 1 / sqrt(2) * (clone(Qubit(0), x) + clone(Qubit(1), x))\n",
    "print(f\"r={r1}\")\n",
    "r1 = matrix_to_qubit(represent(r1))\n",
    "print(\"Equivalent to:\")\n",
    "print(r1)\n",
    "\n",
    "print(\"\\n5. r and r1 are not the same => clone is not possible\")\n",
    "assert r != r1"
   ]
  }
 ],
 "metadata": {
  "kernelspec": {
   "display_name": ".venv",
   "language": "python",
   "name": "python3"
  },
  "language_info": {
   "codemirror_mode": {
    "name": "ipython",
    "version": 3
   },
   "file_extension": ".py",
   "mimetype": "text/x-python",
   "name": "python",
   "nbconvert_exporter": "python",
   "pygments_lexer": "ipython3",
   "version": "3.10.12"
  }
 },
 "nbformat": 4,
 "nbformat_minor": 2
}
