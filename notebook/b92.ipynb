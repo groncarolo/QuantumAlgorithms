{
 "cells": [
  {
   "cell_type": "markdown",
   "metadata": {},
   "source": [
    "# B92"
   ]
  },
  {
   "cell_type": "markdown",
   "metadata": {},
   "source": [
    "Import needed modules"
   ]
  },
  {
   "cell_type": "code",
   "execution_count": 1,
   "metadata": {},
   "outputs": [],
   "source": [
    "from sympy.physics.quantum import qapply\n",
    "from sympy.physics.quantum.gate import HadamardGate\n",
    "from sympy.physics.quantum.qubit import Qubit\n",
    "from random import getrandbits\n",
    "\n",
    "from util.measure_all import measure_all_oneshot\n",
    "from util.util import zero"
   ]
  },
  {
   "cell_type": "markdown",
   "metadata": {},
   "source": [
    "## Alice part"
   ]
  },
  {
   "cell_type": "markdown",
   "metadata": {},
   "source": [
    "\n",
    "Alice generates N random classical bits"
   ]
  },
  {
   "cell_type": "code",
   "execution_count": 2,
   "metadata": {},
   "outputs": [
    {
     "name": "stdout",
     "output_type": "stream",
     "text": [
      "Alice random bits = [0, 0, 1, 1, 0, 0, 0, 1, 0, 1, 1, 0, 0, 1, 0, 1, 0, 0, 1, 1, 1, 0, 1, 0, 1, 1, 1, 0, 0, 0, 1, 1]\n"
     ]
    }
   ],
   "source": [
    "def get_alice_bits(size):\n",
    "    bits = []\n",
    "    for i in range(size):\n",
    "        bits.append(getrandbits(1))\n",
    "    return bits\n",
    "\n",
    "N=32\n",
    "alice_bits = get_alice_bits(N)\n",
    "print (f\"Alice random bits = {alice_bits}\")"
   ]
  },
  {
   "cell_type": "markdown",
   "metadata": {},
   "source": [
    "Alice encodes the random bits she generated using  a non-orthogonal basis `{|→>, |↗>} = {zero, plus}`\n",
    "'''\n",
    "\n",
    "where\n",
    "\n",
    "    + = {|→>,|↑>} = {[1,0]T, [0,1]T}\n",
    "    X = {|↖>,|↗>} = {1/sqtr(2)[-1,1]T, 1/sqtr(2)[1,1]T}\n",
    "\n",
    "\n",
    "so that\n",
    "\n",
    "    state  +      X\n",
    "    |0>    |→>   |↖>\n",
    "    |1>    |↑>   |↗>\n"
   ]
  },
  {
   "cell_type": "code",
   "execution_count": 3,
   "metadata": {},
   "outputs": [
    {
     "name": "stdout",
     "output_type": "stream",
     "text": [
      "Alice encoded: [|0>, |0>, sqrt(2)*|0>/2 + sqrt(2)*|1>/2, sqrt(2)*|0>/2 + sqrt(2)*|1>/2, |0>, |0>, |0>, sqrt(2)*|0>/2 + sqrt(2)*|1>/2, |0>, sqrt(2)*|0>/2 + sqrt(2)*|1>/2, sqrt(2)*|0>/2 + sqrt(2)*|1>/2, |0>, |0>, sqrt(2)*|0>/2 + sqrt(2)*|1>/2, |0>, sqrt(2)*|0>/2 + sqrt(2)*|1>/2, |0>, |0>, sqrt(2)*|0>/2 + sqrt(2)*|1>/2, sqrt(2)*|0>/2 + sqrt(2)*|1>/2, sqrt(2)*|0>/2 + sqrt(2)*|1>/2, |0>, sqrt(2)*|0>/2 + sqrt(2)*|1>/2, |0>, sqrt(2)*|0>/2 + sqrt(2)*|1>/2, sqrt(2)*|0>/2 + sqrt(2)*|1>/2, sqrt(2)*|0>/2 + sqrt(2)*|1>/2, |0>, |0>, |0>, sqrt(2)*|0>/2 + sqrt(2)*|1>/2, sqrt(2)*|0>/2 + sqrt(2)*|1>/2]\n"
     ]
    }
   ],
   "source": [
    "def b92_alice_encoding(alice_bits):\n",
    "    \"\"\"\n",
    "    :param alice_bits: Alice bits\n",
    "    :return alice_encoded: alice encoded qubits\n",
    "    \"\"\"\n",
    "\n",
    "    # we use a non-orthogonal base\n",
    "    # {|→>, |↗>} = {zero, plus}\n",
    "    alice_encoded = [qapply(HadamardGate(0) * Qubit(0)) if b == 1 else zero for b in alice_bits]\n",
    "\n",
    "    return alice_encoded\n",
    "\n",
    "alice_encoded = b92_alice_encoding(alice_bits)\n",
    "print(f\"Alice encoded: {alice_encoded}\")"
   ]
  },
  {
   "cell_type": "markdown",
   "metadata": {},
   "source": [
    "## Bob part\n"
   ]
  },
  {
   "cell_type": "markdown",
   "metadata": {},
   "source": [
    "Bob generates N classical random bits"
   ]
  },
  {
   "cell_type": "code",
   "execution_count": 4,
   "metadata": {},
   "outputs": [
    {
     "name": "stdout",
     "output_type": "stream",
     "text": [
      "Bob random bits = [0, 1, 0, 1, 1, 0, 1, 0, 0, 0, 1, 0, 1, 1, 1, 1, 1, 1, 0, 0, 0, 0, 0, 0, 1, 1, 1, 1, 1, 0, 1, 0]\n"
     ]
    }
   ],
   "source": [
    "def get_bob_bits(size):\n",
    "    bits = []\n",
    "    for i in range(size):\n",
    "        bits.append(getrandbits(1))\n",
    "    return bits\n",
    "\n",
    "bob_bits = get_bob_bits(N)\n",
    "print (f\"Bob random bits = {bob_bits}\")"
   ]
  },
  {
   "cell_type": "markdown",
   "metadata": {},
   "source": [
    "For each bit he choses `Z` as a basis if the bit is zero or `X` if it is one"
   ]
  },
  {
   "cell_type": "code",
   "execution_count": 5,
   "metadata": {},
   "outputs": [
    {
     "name": "stdout",
     "output_type": "stream",
     "text": [
      "Bob basis: ['Z', 'X', 'Z', 'X', 'X', 'Z', 'X', 'Z', 'Z', 'Z', 'X', 'Z', 'X', 'X', 'X', 'X', 'X', 'X', 'Z', 'Z', 'Z', 'Z', 'Z', 'Z', 'X', 'X', 'X', 'X', 'X', 'Z', 'X', 'Z']\n"
     ]
    }
   ],
   "source": [
    "def b92_get_bob_basis(bits):\n",
    "    bob_basis = ['Z' if b == 0 else 'X' for b in bits]\n",
    "    return bob_basis\n",
    "\n",
    "bob_basis = b92_get_bob_basis(bob_bits)\n",
    "print(f\"Bob basis: {bob_basis}\")"
   ]
  },
  {
   "cell_type": "markdown",
   "metadata": {},
   "source": [
    "Bob measures in the random basis he picked"
   ]
  },
  {
   "cell_type": "code",
   "execution_count": 6,
   "metadata": {},
   "outputs": [
    {
     "name": "stdout",
     "output_type": "stream",
     "text": [
      "Bob measures: [|0>, |0>, |1>, |0>, |0>, |0>, |1>, |0>, |0>, |0>, |0>, |0>, |0>, |0>, |1>, |0>, |0>, |1>, |1>, |1>, |1>, |0>, |1>, |0>, |0>, |0>, |0>, |1>, |0>, |0>, |0>, |1>]\n"
     ]
    }
   ],
   "source": [
    "def b92_bob_measure(bob_basis, alice_encoded):\n",
    "    \"\"\"\n",
    "    :param func bob_bases: function Bob bases\n",
    "    :param qubit list alice_encoded: alice encoded qubits\n",
    "    return measures: bob measured bits\n",
    "    \"\"\"\n",
    "\n",
    "    measures = []\n",
    "    for q, bb in zip(alice_encoded, bob_basis):\n",
    "        qq = q\n",
    "        if bb == 'X':\n",
    "            # base change\n",
    "            qq = qapply(HadamardGate(0) * q)\n",
    "        m = measure_all_oneshot(qq)\n",
    "        measures.append(m)\n",
    "    return measures\n",
    "\n",
    "\n",
    "bob_measures = b92_bob_measure(bob_basis, alice_encoded)\n",
    "print(f\"Bob measures: {bob_measures}\")\n"
   ]
  },
  {
   "cell_type": "markdown",
   "metadata": {},
   "source": [
    "## Final Steps"
   ]
  },
  {
   "cell_type": "markdown",
   "metadata": {},
   "source": [
    "| Alice Basis | Alice Encoded | Bob Bits | Bob Bases| Result | Bob Measure | Matching | \n",
    "| ------------| ------------- | -------- | -------- | ------- | ------- | -------- |\n",
    "| 0 | &#124;0>| 0 | Z | &#124;0> with 100% probability |0| Y | \n",
    "| 1 | &#124;+>| 0 | Z | &#124;0> with 50% probability  |0| N |\n",
    "| 1 | &#124;+>| 0 | Z | &#124;1> with 50% probability  |1| N |\n",
    "| 0 | &#124;0>| 1 | X | &#124;+> with 50% probability  |0| **Y** |\n",
    "| 0 | &#124;0>| 1 | X | &#124;-> with 50% probability  |1| N |\n",
    "| 1 | &#124;+>| 1 | X | &#124;+> with 100% probability |0| **Y** |\n",
    "\n",
    "From this table we can see get an important point: if `Bob Measure` is 1 the corresponding bits in `Alice Basis` and `Bob Bases` do not match; this is not always true when `Bob Measure` is 0\n",
    "\n",
    "This is the key of the algorithm"
   ]
  },
  {
   "cell_type": "markdown",
   "metadata": {},
   "source": [
    "We look for ones in Bob measures"
   ]
  },
  {
   "cell_type": "code",
   "execution_count": 7,
   "metadata": {},
   "outputs": [
    {
     "name": "stdout",
     "output_type": "stream",
     "text": [
      "bob_one_indices=[2, 6, 14, 17, 18, 19, 20, 22, 27, 31]\n"
     ]
    }
   ],
   "source": [
    "def find_ones(bob_bits):\n",
    "    \"\"\"\n",
    "    :param bob_bits: Bob bits\n",
    "    :return list of indexes where bob_bits are one\n",
    "    \"\"\"\n",
    "    indices = []\n",
    "    for i in range(len(bob_bits)):\n",
    "        if bob_bits[i] == Qubit(1):\n",
    "            indices.append(i)\n",
    "    return indices\n",
    "\n",
    "bob_one_indices = find_ones(bob_measures)\n",
    "print(f\"bob_one_indices={bob_one_indices}\")\n"
   ]
  },
  {
   "cell_type": "markdown",
   "metadata": {},
   "source": [
    "And finally we generate the key\n",
    "For Alice it is `1-alice_bit` where bob_indexes are one\n",
    "For Bob it is bob_bit where bob_indexes are one"
   ]
  },
  {
   "cell_type": "code",
   "execution_count": 8,
   "metadata": {},
   "outputs": [
    {
     "name": "stdout",
     "output_type": "stream",
     "text": [
      "bob key=[0, 1, 1, 1, 0, 0, 0, 0, 1, 0]\n",
      "alice key=[0, 1, 1, 1, 0, 0, 0, 0, 1, 0]\n"
     ]
    }
   ],
   "source": [
    "def b92_generate_keys(alice_bits, bob_bits, bob_one_indices):\n",
    "    alice_key = []\n",
    "    for i in bob_one_indices:\n",
    "        alice_key.append(1 - alice_bits[i])\n",
    "    \n",
    "    bob_key = []\n",
    "    for i in bob_one_indices:\n",
    "        bob_key.append(bob_bits[i])\n",
    "    return alice_key, bob_key\n",
    "\n",
    "alice_key, bob_key = b92_generate_keys(alice_bits, bob_bits, bob_one_indices)\n",
    "\n",
    "print(f\"bob key={bob_key}\")\n",
    "print(f\"alice key={alice_key}\")"
   ]
  },
  {
   "cell_type": "markdown",
   "metadata": {},
   "source": [
    "Check that the keys match"
   ]
  },
  {
   "cell_type": "code",
   "execution_count": 9,
   "metadata": {},
   "outputs": [],
   "source": [
    "assert alice_key == bob_key"
   ]
  },
  {
   "cell_type": "markdown",
   "metadata": {},
   "source": [
    "## Tests"
   ]
  },
  {
   "cell_type": "code",
   "execution_count": 10,
   "metadata": {},
   "outputs": [
    {
     "name": "stdout",
     "output_type": "stream",
     "text": [
      "bob key=[0, 0, 0, 0, 0, 1]\n",
      "alice key=[0, 0, 0, 0, 0, 1]\n"
     ]
    }
   ],
   "source": [
    "def test_0():\n",
    "    alice_bits=[0, 1, 1, 0, 1, 1, 1, 1, 0, 1, 0, 1, 1, 0, 0, 1, 1, 1, 0, 1, 0, 1, 1, 0, 0, 1, 0, 1, 1, 0, 1, 1]\n",
    "    bob_bits=[1, 0, 0, 1, 1, 0, 1, 0, 0, 1, 0, 0, 0, 0, 1, 1, 0, 0, 0, 0, 1, 0, 0, 1, 1, 1, 1, 1, 1, 1, 1, 1]\n",
    "\n",
    "    bob_one_indices=[1, 2, 7, 12, 16, 23]\n",
    "    alice_key, bob_key = b92_generate_keys(alice_bits, bob_bits, bob_one_indices)\n",
    "    print(f\"bob key={bob_key}\")\n",
    "    print(f\"alice key={alice_key}\")\n",
    "    assert alice_key == bob_key\n",
    "test_0()"
   ]
  }
 ],
 "metadata": {
  "kernelspec": {
   "display_name": ".venv",
   "language": "python",
   "name": "python3"
  },
  "language_info": {
   "codemirror_mode": {
    "name": "ipython",
    "version": 3
   },
   "file_extension": ".py",
   "mimetype": "text/x-python",
   "name": "python",
   "nbconvert_exporter": "python",
   "pygments_lexer": "ipython3",
   "version": "3.10.12"
  }
 },
 "nbformat": 4,
 "nbformat_minor": 2
}
