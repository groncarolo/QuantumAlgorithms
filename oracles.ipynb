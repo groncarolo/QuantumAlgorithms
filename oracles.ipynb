{
 "cells": [
  {
   "cell_type": "markdown",
   "metadata": {},
   "source": [
    "# Oracles"
   ]
  },
  {
   "cell_type": "code",
   "execution_count": 1,
   "metadata": {},
   "outputs": [],
   "source": [
    "from sympy.physics.quantum.qapply import qapply\n",
    "from sympy.physics.quantum.qubit import Qubit, matrix_to_qubit\n",
    "from sympy import sqrt, simplify\n",
    "from sympy.physics.quantum import TensorProduct\n",
    "from sympy.physics.quantum.gate import HadamardGate\n",
    "from sympy.physics.quantum.represent import represent\n",
    "\n",
    "from oracle import oracle"
   ]
  },
  {
   "cell_type": "markdown",
   "metadata": {},
   "source": [
    "## Oracle sample code"
   ]
  },
  {
   "cell_type": "markdown",
   "metadata": {},
   "source": [
    "### Test 0\n",
    "From Introduction to classical and quantum computing Exercise 7.3"
   ]
  },
  {
   "cell_type": "markdown",
   "metadata": {},
   "source": [
    "Consider a superposed state"
   ]
  },
  {
   "cell_type": "code",
   "execution_count": 2,
   "metadata": {},
   "outputs": [
    {
     "name": "stdout",
     "output_type": "stream",
     "text": [
      "|x>=sqrt(3)*|0>/2 + 0.5*|1>\n",
      "|y>=sqrt(2)*|0>/2 - sqrt(2)*|1>/2\n",
      "|xy>=sqrt(6)*|00>/4 - sqrt(6)*|01>/4 + 0.25*sqrt(2)*|10> - 0.25*sqrt(2)*|11>\n",
      "Result for constant zero function: r=sqrt(2)*(sqrt(3)*|00> - sqrt(3)*|01> + |10> - 1.0*|11>)/4\n",
      "Result for constant one function: r=-sqrt(6)*|00>/4 + sqrt(6)*|01>/4 - 0.25*sqrt(2)*|10> + 0.25*sqrt(2)*|11>\n"
     ]
    }
   ],
   "source": [
    "def test_0():\n",
    "    x = sqrt(3) / 2 * Qubit(0) + 1 / 2 * Qubit(1)\n",
    "    print(f\"|x>={x}\")\n",
    "\n",
    "    y = qapply(HadamardGate(0) * Qubit(1))\n",
    "    print(f\"|y>={y}\")\n",
    "\n",
    "    xy = TensorProduct(x, y)\n",
    "    xy = matrix_to_qubit(represent(xy))\n",
    "    print(\"|xy>={xy}\".format(xy=xy))\n",
    "\n",
    "    # const function -> 0\n",
    "    def f0(x, *args):\n",
    "        return 0\n",
    "\n",
    "    r = simplify(oracle(x, y, f0))\n",
    "    print(f'Result for constant zero function: r={r}')\n",
    "    solution = simplify(sqrt(3) / (2 * sqrt(2)) * (Qubit('00') - Qubit('01'))\n",
    "                        + 1 / (2 * sqrt(2)) * (Qubit('10') - Qubit('11')))\n",
    "    assert simplify(r - solution) == 0\n",
    "\n",
    "    # const function -> 1\n",
    "    def f1(x, *args):\n",
    "        return 1\n",
    "\n",
    "    r = oracle(x, y, f1)\n",
    "    print(f'Result for constant one function: r={r}')\n",
    "    solution = simplify(sqrt(3) / (2 * sqrt(2)) * (Qubit('01') - Qubit('00'))\n",
    "                        + 1 / (2 * sqrt(2)) * (Qubit('11') - Qubit('10')))\n",
    "    assert simplify(r - solution) == 0\n",
    "\n",
    "\n",
    "test_0()"
   ]
  },
  {
   "cell_type": "markdown",
   "metadata": {},
   "source": [
    "### Test 1\n",
    "Phase test"
   ]
  },
  {
   "cell_type": "code",
   "execution_count": 3,
   "metadata": {},
   "outputs": [
    {
     "name": "stdout",
     "output_type": "stream",
     "text": [
      "|x>=|0>\n",
      "|y>=sqrt(2)*|0>/2 - sqrt(2)*|1>/2\n",
      "sqrt(2)*|00>/2 - sqrt(2)*|01>/2\n",
      "-sqrt(2)*|00>/2 + sqrt(2)*|01>/2\n"
     ]
    }
   ],
   "source": [
    "def test_1():\n",
    "    x = Qubit(0)\n",
    "    print(f\"|x>={x}\")\n",
    "\n",
    "    y = qapply(HadamardGate(0) * Qubit(1))\n",
    "    print(f\"|y>={y}\")\n",
    "\n",
    "    def f0(x, *args):\n",
    "        return 0\n",
    "\n",
    "    r = oracle(x, y, f0)\n",
    "    print(r)\n",
    "\n",
    "    truth = (-1) ** (f0(x)) * TensorProduct(x, y)\n",
    "    truth = matrix_to_qubit(represent(truth))\n",
    "    assert truth == r\n",
    "\n",
    "    def f1(x, *args):\n",
    "        return 1\n",
    "\n",
    "    r = oracle(x, y, f1)\n",
    "    print(r)\n",
    "\n",
    "    truth = (-1) ** (f1(x)) * TensorProduct(x, y)\n",
    "    truth = matrix_to_qubit(represent(truth))\n",
    "    assert truth == r\n",
    "\n",
    "\n",
    "test_1()"
   ]
  },
  {
   "cell_type": "markdown",
   "metadata": {},
   "source": [
    "Test 2\n",
    "f(0) where f is zero const"
   ]
  },
  {
   "cell_type": "code",
   "execution_count": 4,
   "metadata": {},
   "outputs": [
    {
     "name": "stdout",
     "output_type": "stream",
     "text": [
      "|x>=|0>\n",
      "|y>=|0>\n",
      "|00>\n"
     ]
    }
   ],
   "source": [
    "def test_2():\n",
    "    # consider a superposed state\n",
    "    x = Qubit(0)\n",
    "    print(f\"|x>={x}\")\n",
    "\n",
    "    y = Qubit(0)\n",
    "    print(f\"|y>={y}\")\n",
    "\n",
    "    def f(x, *args):\n",
    "        return 0\n",
    "\n",
    "    r = oracle(x, y, f)\n",
    "    print(r)\n",
    "\n",
    "    truth = TensorProduct(x, Qubit(f(0)))\n",
    "    truth = matrix_to_qubit(represent(truth))\n",
    "    assert truth == r\n",
    "\n",
    "\n",
    "test_2()\n"
   ]
  },
  {
   "cell_type": "markdown",
   "metadata": {},
   "source": [
    "### Test 3\n",
    "f(1) where f is one const"
   ]
  },
  {
   "cell_type": "code",
   "execution_count": null,
   "metadata": {},
   "outputs": [
    {
     "name": "stdout",
     "output_type": "stream",
     "text": [
      "|x>=|1>\n",
      "|y>=|0>\n",
      "|10>\n"
     ]
    }
   ],
   "source": [
    "def test_3():\n",
    "    # consider a superposed state\n",
    "    x = Qubit(1)\n",
    "    print(f\"|x>={x}\")\n",
    "\n",
    "    y = Qubit(0)\n",
    "    print(f\"|y>={y}\")\n",
    "\n",
    "    def f(x, *args):\n",
    "        return 0\n",
    "\n",
    "    r = oracle(x, y, f)\n",
    "    print(r)\n",
    "\n",
    "    truth = TensorProduct(x, Qubit(f(1)))\n",
    "    truth = matrix_to_qubit(represent(truth))\n",
    "    assert truth == r\n",
    "\n",
    "\n",
    "test_3()"
   ]
  },
  {
   "cell_type": "markdown",
   "metadata": {},
   "source": [
    "### Test 4\n",
    "f(0) where f is one const"
   ]
  },
  {
   "cell_type": "code",
   "execution_count": 6,
   "metadata": {},
   "outputs": [
    {
     "name": "stdout",
     "output_type": "stream",
     "text": [
      "|x>=|0>\n",
      "|y>=|0>\n",
      "|01>\n"
     ]
    }
   ],
   "source": [
    "def test_4():\n",
    "    # consider a superposed state\n",
    "    x = Qubit(0)\n",
    "    print(f\"|x>={x}\")\n",
    "\n",
    "    y = Qubit(0)\n",
    "    print(f\"|y>={y}\")\n",
    "\n",
    "    def f(x, *args):\n",
    "        return 1\n",
    "\n",
    "    r = oracle(x, y, f)\n",
    "    print(r)\n",
    "\n",
    "    truth = TensorProduct(x, Qubit(f(0)))\n",
    "    truth = matrix_to_qubit(represent(truth))\n",
    "    assert truth == r\n",
    "\n",
    "\n",
    "test_4()"
   ]
  },
  {
   "cell_type": "markdown",
   "metadata": {},
   "source": [
    "### Test 5\n",
    "f(1) where f is one const"
   ]
  },
  {
   "cell_type": "code",
   "execution_count": 7,
   "metadata": {},
   "outputs": [
    {
     "name": "stdout",
     "output_type": "stream",
     "text": [
      "|x>=|1>\n",
      "|y>=|0>\n",
      "|11>\n"
     ]
    }
   ],
   "source": [
    "def test_5():\n",
    "    # consider a superposed state\n",
    "    x = Qubit(1)\n",
    "    print(f\"|x>={x}\")\n",
    "\n",
    "    y = Qubit(0)\n",
    "    print(f\"|y>={y}\")\n",
    "\n",
    "    def f(x, *args):\n",
    "        return 1\n",
    "\n",
    "    r = oracle(x, y, f)\n",
    "    print(r)\n",
    "\n",
    "    truth = TensorProduct(x, Qubit(f(1)))\n",
    "    truth = matrix_to_qubit(represent(truth))\n",
    "    assert truth == r\n",
    "\n",
    "\n",
    "test_5()"
   ]
  },
  {
   "cell_type": "markdown",
   "metadata": {},
   "source": [
    "### Test 6\n",
    "Test unitariety of Oracle\n"
   ]
  },
  {
   "cell_type": "code",
   "execution_count": null,
   "metadata": {},
   "outputs": [
    {
     "name": "stdout",
     "output_type": "stream",
     "text": [
      "|x>=|1>\n",
      "|y>=|0>\n",
      "|11>\n",
      "|10>\n"
     ]
    }
   ],
   "source": [
    "def test_6():\n",
    "    x = Qubit(1)\n",
    "    print(f\"|x>={x}\")\n",
    "\n",
    "    y = Qubit(0)\n",
    "    print(f\"|y>={y}\")\n",
    "\n",
    "    def f(x, *args):\n",
    "        return 1\n",
    "\n",
    "    r = oracle(x, y, f)\n",
    "    print(r)\n",
    "\n",
    "    truth = TensorProduct(x, Qubit(f(1)))\n",
    "    truth = matrix_to_qubit(represent(truth))\n",
    "    assert truth == r\n",
    "\n",
    "    r = oracle(x, Qubit(f(1)), f)\n",
    "    print(r)\n",
    "    truth = TensorProduct(x, y)\n",
    "    truth = matrix_to_qubit(represent(truth))\n",
    "    assert truth == r\n",
    "\n",
    "\n",
    "test_6()"
   ]
  },
  {
   "cell_type": "markdown",
   "metadata": {},
   "source": [
    "### Test 7\n",
    "Test unitariety of Oracle\n"
   ]
  },
  {
   "cell_type": "code",
   "execution_count": 9,
   "metadata": {},
   "outputs": [
    {
     "name": "stdout",
     "output_type": "stream",
     "text": [
      "|x>=|0>\n",
      "|y>=sqrt(2)*|0>/2 - sqrt(2)*|1>/2\n",
      "-sqrt(2)*|00>/2 + sqrt(2)*|01>/2\n",
      "sqrt(2)*|00>/2 - sqrt(2)*|01>/2\n"
     ]
    }
   ],
   "source": [
    "def test_7():\n",
    "    x = Qubit(0)\n",
    "    print(f\"|x>={x}\")\n",
    "\n",
    "    y = qapply(HadamardGate(0) * Qubit(1))\n",
    "    print(f\"|y>={y}\")\n",
    "\n",
    "    def f(x, *args):\n",
    "        return 1\n",
    "\n",
    "    r = oracle(x, y, f)\n",
    "    print(r)\n",
    "\n",
    "    truth = TensorProduct((-1)**(f(x))*x, y)\n",
    "    truth = matrix_to_qubit(represent(truth))\n",
    "    assert truth == r\n",
    "\n",
    "    r = oracle((-1)**(f(x))*x, y, f)\n",
    "    print(r)\n",
    "    truth = TensorProduct(x, y)\n",
    "    truth = matrix_to_qubit(represent(truth))\n",
    "    assert truth == r\n",
    "\n",
    "\n",
    "test_7()"
   ]
  }
 ],
 "metadata": {
  "kernelspec": {
   "display_name": ".venv",
   "language": "python",
   "name": "python3"
  },
  "language_info": {
   "codemirror_mode": {
    "name": "ipython",
    "version": 3
   },
   "file_extension": ".py",
   "mimetype": "text/x-python",
   "name": "python",
   "nbconvert_exporter": "python",
   "pygments_lexer": "ipython3",
   "version": "3.10.12"
  }
 },
 "nbformat": 4,
 "nbformat_minor": 2
}
