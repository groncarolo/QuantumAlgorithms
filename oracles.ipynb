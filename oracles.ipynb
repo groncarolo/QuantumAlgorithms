{
 "cells": [
  {
   "cell_type": "code",
   "execution_count": 3,
   "metadata": {},
   "outputs": [],
   "source": [
    "from sympy.physics.quantum.qapply import qapply\n",
    "from sympy.physics.quantum.qubit import Qubit, matrix_to_qubit\n",
    "from sympy import sqrt, simplify\n",
    "from sympy.physics.quantum import TensorProduct\n",
    "from sympy.physics.quantum.gate import HadamardGate\n",
    "from sympy.physics.quantum.represent import represent\n",
    "\n",
    "from oracle import oracle"
   ]
  },
  {
   "cell_type": "code",
   "execution_count": 4,
   "metadata": {},
   "outputs": [
    {
     "name": "stdout",
     "output_type": "stream",
     "text": [
      "|x>=sqrt(3)*|0>/2 + 0.5*|1>\n",
      "|y>=sqrt(2)*|0>/2 - sqrt(2)*|1>/2\n",
      "|xy>=sqrt(6)*|00>/4 - sqrt(6)*|01>/4 + 0.25*sqrt(2)*|10> - 0.25*sqrt(2)*|11>\n",
      "Result for constant zero function: r=sqrt(2)*(sqrt(3)*|00> - sqrt(3)*|01> + 1.0*|10> - 1.0*|11>)/4\n",
      "Result for constant one function: r=-sqrt(6)*|00>/4 + sqrt(6)*|01>/4 - 0.25*sqrt(2)*|10> + 0.25*sqrt(2)*|11>\n"
     ]
    }
   ],
   "source": [
    "# Introduction to classical and quantum computing\n",
    "# Exercise 7.3\n",
    "\n",
    "def test_7_3():\n",
    "    # consider a superposed state\n",
    "    x = sqrt(3) / 2 * Qubit(0) + 1 / 2 * Qubit(1)\n",
    "    print(f\"|x>={x}\")\n",
    "\n",
    "    y = qapply(HadamardGate(0) * Qubit(1))\n",
    "    print(f\"|y>={y}\")\n",
    "\n",
    "    xy = TensorProduct(x, y)\n",
    "    xy = matrix_to_qubit(represent(xy))\n",
    "    print(\"|xy>={xy}\".format(xy=xy))\n",
    "\n",
    "    def f0(x, *args):\n",
    "        return 0\n",
    "\n",
    "    r = simplify(oracle(x, y, f0))\n",
    "    print(f'Result for constant zero function: r={r}')\n",
    "    solution = simplify(\n",
    "        sqrt(3) / (2 * sqrt(2)) * (Qubit('00') - Qubit('01')) + 1 / (2 * sqrt(2)) * (Qubit('10') - Qubit('11')))\n",
    "    assert simplify(r - solution) == 0\n",
    "\n",
    "    def f1(x, *args):\n",
    "        return 1\n",
    "\n",
    "    r = oracle(x, y, f1)\n",
    "    print(f'Result for constant one function: r={r}')\n",
    "    solution = simplify(\n",
    "        sqrt(3) / (2 * sqrt(2)) * (Qubit('01') - Qubit('00')) + 1 / (2 * sqrt(2)) * (Qubit('11') - Qubit('10')))\n",
    "    assert simplify(r - solution) == 0\n",
    "test_7_3()\n",
    "\n"
   ]
  },
  {
   "cell_type": "code",
   "execution_count": 5,
   "metadata": {},
   "outputs": [
    {
     "name": "stdout",
     "output_type": "stream",
     "text": [
      "|x>=|0>\n",
      "|y>=sqrt(2)*|0>/2 - sqrt(2)*|1>/2\n",
      "sqrt(2)*|00>/2 - sqrt(2)*|01>/2\n",
      "-sqrt(2)*|00>/2 + sqrt(2)*|01>/2\n"
     ]
    }
   ],
   "source": [
    "def test_phase():\n",
    "    x = Qubit(0)\n",
    "    print(f\"|x>={x}\")\n",
    "\n",
    "    y = qapply(HadamardGate(0) * Qubit(1))\n",
    "    print(f\"|y>={y}\")\n",
    "\n",
    "    def f0(x, *args):\n",
    "        return 0\n",
    "\n",
    "    r = oracle(x, y, f0)\n",
    "    print(r)\n",
    "\n",
    "    truth = (-1) ** (f0(x)) * TensorProduct(x, y)\n",
    "    truth = matrix_to_qubit(represent(truth))\n",
    "    assert truth == r\n",
    "\n",
    "    def f1(x, *args):\n",
    "        return 1\n",
    "\n",
    "    r = oracle(x, y, f1)\n",
    "    print(r)\n",
    "\n",
    "    truth = (-1) ** (f1(x)) * TensorProduct(x, y)\n",
    "    truth = matrix_to_qubit(represent(truth))\n",
    "    assert truth == r\n",
    "test_phase()\n",
    "\n"
   ]
  },
  {
   "cell_type": "code",
   "execution_count": 6,
   "metadata": {},
   "outputs": [
    {
     "name": "stdout",
     "output_type": "stream",
     "text": [
      "|x>=|0>\n",
      "|y>=|0>\n",
      "|00>\n"
     ]
    }
   ],
   "source": [
    "def test_find_f0_f_const_0():\n",
    "    # consider a superposed state\n",
    "    x = Qubit(0)\n",
    "    print(f\"|x>={x}\")\n",
    "\n",
    "    y = Qubit(0)\n",
    "    print(f\"|y>={y}\")\n",
    "\n",
    "    def f(x, *args):\n",
    "        return 0\n",
    "\n",
    "    r = oracle(x, y, f)\n",
    "    print(r)\n",
    "\n",
    "    truth = TensorProduct(x, Qubit(f(0)))\n",
    "    truth = matrix_to_qubit(represent(truth))\n",
    "    assert truth == r\n",
    "test_find_f0_f_const_0()\n"
   ]
  },
  {
   "cell_type": "code",
   "execution_count": 7,
   "metadata": {},
   "outputs": [
    {
     "name": "stdout",
     "output_type": "stream",
     "text": [
      "|x>=|1>\n",
      "|y>=|0>\n",
      "|10>\n"
     ]
    }
   ],
   "source": [
    "\n",
    "def test_find_f1_f_const_0():\n",
    "    # consider a superposed state\n",
    "    x = Qubit(1)\n",
    "    print(f\"|x>={x}\")\n",
    "\n",
    "    y = Qubit(0)\n",
    "    print(f\"|y>={y}\")\n",
    "\n",
    "    def f(x, *args):\n",
    "        return 0\n",
    "\n",
    "    r = oracle(x, y, f)\n",
    "    print(r)\n",
    "\n",
    "    truth = TensorProduct(x, Qubit(f(1)))\n",
    "    truth = matrix_to_qubit(represent(truth))\n",
    "    assert truth == r\n",
    "test_find_f1_f_const_0()\n",
    "\n"
   ]
  },
  {
   "cell_type": "code",
   "execution_count": 8,
   "metadata": {},
   "outputs": [
    {
     "name": "stdout",
     "output_type": "stream",
     "text": [
      "|x>=|0>\n",
      "|y>=|0>\n",
      "|01>\n"
     ]
    }
   ],
   "source": [
    "def test_find_f0_f_const_1():\n",
    "    # consider a superposed state\n",
    "    x = Qubit(0)\n",
    "    print(f\"|x>={x}\")\n",
    "\n",
    "    y = Qubit(0)\n",
    "    print(f\"|y>={y}\")\n",
    "\n",
    "    def f(x, *args):\n",
    "        return 1\n",
    "\n",
    "    r = oracle(x, y, f)\n",
    "    print(r)\n",
    "\n",
    "    truth = TensorProduct(x, Qubit(f(0)))\n",
    "    truth = matrix_to_qubit(represent(truth))\n",
    "    assert truth == r\n",
    "test_find_f0_f_const_1()\n",
    "\n"
   ]
  },
  {
   "cell_type": "code",
   "execution_count": 9,
   "metadata": {},
   "outputs": [
    {
     "name": "stdout",
     "output_type": "stream",
     "text": [
      "|x>=|1>\n",
      "|y>=|0>\n",
      "|11>\n"
     ]
    }
   ],
   "source": [
    "def test_find_f1_f_const_1():\n",
    "    # consider a superposed state\n",
    "    x = Qubit(1)\n",
    "    print(f\"|x>={x}\")\n",
    "\n",
    "    y = Qubit(0)\n",
    "    print(f\"|y>={y}\")\n",
    "\n",
    "    def f(x, *args):\n",
    "        return 1\n",
    "\n",
    "    r = oracle(x, y, f)\n",
    "    print(r)\n",
    "\n",
    "    truth = TensorProduct(x, Qubit(f(1)))\n",
    "    truth = matrix_to_qubit(represent(truth))\n",
    "    assert truth == r\n",
    "test_find_f1_f_const_1()\n",
    "\n"
   ]
  },
  {
   "cell_type": "code",
   "execution_count": 10,
   "metadata": {},
   "outputs": [
    {
     "name": "stdout",
     "output_type": "stream",
     "text": [
      "|x>=|1>\n",
      "|y>=|0>\n",
      "|11>\n",
      "|10>\n"
     ]
    }
   ],
   "source": [
    "def test_unitary_1():\n",
    "    # consider a superposed state\n",
    "    x = Qubit(1)\n",
    "    print(f\"|x>={x}\")\n",
    "\n",
    "    y = Qubit(0)\n",
    "    print(f\"|y>={y}\")\n",
    "\n",
    "    def f(x, *args):\n",
    "        return 1\n",
    "\n",
    "    r = oracle(x, y, f)\n",
    "    print(r)\n",
    "\n",
    "    truth = TensorProduct(x, Qubit(f(1)))\n",
    "    truth = matrix_to_qubit(represent(truth))\n",
    "    assert truth == r\n",
    "\n",
    "    r = oracle(x, Qubit(f(1)), f)\n",
    "    print(r)\n",
    "    truth = TensorProduct(x, y)\n",
    "    truth = matrix_to_qubit(represent(truth))\n",
    "    assert truth == r\n",
    "test_unitary_1()\n",
    "\n"
   ]
  },
  {
   "cell_type": "code",
   "execution_count": 11,
   "metadata": {},
   "outputs": [
    {
     "name": "stdout",
     "output_type": "stream",
     "text": [
      "|x>=|0>\n",
      "|y>=sqrt(2)*|0>/2 - sqrt(2)*|1>/2\n",
      "-sqrt(2)*|00>/2 + sqrt(2)*|01>/2\n",
      "sqrt(2)*|00>/2 - sqrt(2)*|01>/2\n"
     ]
    }
   ],
   "source": [
    "def test_unitary_2():\n",
    "    # consider a superposed state\n",
    "    x = Qubit(0)\n",
    "    print(f\"|x>={x}\")\n",
    "\n",
    "    y = qapply(HadamardGate(0) * Qubit(1))\n",
    "    print(f\"|y>={y}\")\n",
    "\n",
    "    def f(x, *args):\n",
    "        return 1\n",
    "\n",
    "    r = oracle(x, y, f)\n",
    "    print(r)\n",
    "\n",
    "    truth = TensorProduct((-1)**(f(x))*x, y)\n",
    "    truth = matrix_to_qubit(represent(truth))\n",
    "    assert truth == r\n",
    "\n",
    "    r = oracle((-1)**(f(x))*x, y, f)\n",
    "    print(r)\n",
    "    truth = TensorProduct(x, y)\n",
    "    truth = matrix_to_qubit(represent(truth))\n",
    "    assert truth == r\n",
    "test_unitary_2()\n"
   ]
  }
 ],
 "metadata": {
  "kernelspec": {
   "display_name": ".venv",
   "language": "python",
   "name": "python3"
  },
  "language_info": {
   "codemirror_mode": {
    "name": "ipython",
    "version": 3
   },
   "file_extension": ".py",
   "mimetype": "text/x-python",
   "name": "python",
   "nbconvert_exporter": "python",
   "pygments_lexer": "ipython3",
   "version": "3.10.12"
  }
 },
 "nbformat": 4,
 "nbformat_minor": 2
}
