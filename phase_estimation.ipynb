{
 "cells": [
  {
   "cell_type": "markdown",
   "metadata": {},
   "source": [
    "# Phase / Eigenvalues Estimation"
   ]
  },
  {
   "cell_type": "markdown",
   "metadata": {},
   "source": [
    "Import needed modules"
   ]
  },
  {
   "cell_type": "code",
   "execution_count": 2,
   "metadata": {},
   "outputs": [],
   "source": [
    "from sympy.physics.quantum import qapply\n",
    "from sympy.physics.quantum.qubit import Qubit\n",
    "from sympy.physics.quantum.gate import XGate, HadamardGate, UGate\n",
    "from sympy import sqrt, simplify\n",
    "\n",
    "from util.measure_all import measure_all_oneshot\n",
    "from sympy import Matrix, Symbol, eye\n",
    "from sympy.solvers import solve\n",
    "import numpy as np"
   ]
  },
  {
   "cell_type": "markdown",
   "metadata": {},
   "source": [
    "usually when we apply a gate we obtain different values as results, as in"
   ]
  },
  {
   "cell_type": "code",
   "execution_count": 3,
   "metadata": {},
   "outputs": [
    {
     "name": "stdout",
     "output_type": "stream",
     "text": [
      "0.5*|0> + sqrt(3)*|1>/2\n"
     ]
    }
   ],
   "source": [
    "a  = sqrt(3)/2*Qubit(0) + 1/2*Qubit(1)\n",
    "r = qapply(XGate(0)*a)\n",
    "print (r)"
   ]
  },
  {
   "cell_type": "markdown",
   "metadata": {},
   "source": [
    "there are vectors that, when we apply a certaing gate like before, we get the same vector multiplied by a number called eigenvalue, as in"
   ]
  },
  {
   "cell_type": "code",
   "execution_count": 4,
   "metadata": {},
   "outputs": [
    {
     "name": "stdout",
     "output_type": "stream",
     "text": [
      "sqrt(2)*|0>/2 + sqrt(2)*|1>/2\n"
     ]
    }
   ],
   "source": [
    "a  = 1/sqrt(2)*Qubit(0) + 1/sqrt(2)*Qubit(1)\n",
    "r = qapply(XGate(0)*a)\n",
    "print(r)\n",
    "p = 1\n",
    "assert simplify(r - p*a) == 0"
   ]
  },
  {
   "cell_type": "markdown",
   "metadata": {},
   "source": [
    "or as in"
   ]
  },
  {
   "cell_type": "code",
   "execution_count": 5,
   "metadata": {},
   "outputs": [
    {
     "name": "stdout",
     "output_type": "stream",
     "text": [
      "-sqrt(2)*|0>/2 + sqrt(2)*|1>/2\n"
     ]
    }
   ],
   "source": [
    "a  = 1/sqrt(2)*Qubit(0) - 1/sqrt(2)*Qubit(1)\n",
    "r = qapply(XGate(0)*a)\n",
    "print (r)\n",
    "p = -1\n",
    "assert simplify(r - p*a) == 0"
   ]
  },
  {
   "cell_type": "markdown",
   "metadata": {},
   "source": [
    "so \n",
    "\n",
    "`X|+> = |+>`\n",
    "\n",
    "and\n",
    "\n",
    "\n",
    "`X|-> = -|->`"
   ]
  },
  {
   "cell_type": "markdown",
   "metadata": {},
   "source": [
    "## Example 1"
   ]
  },
  {
   "cell_type": "code",
   "execution_count": 6,
   "metadata": {},
   "outputs": [
    {
     "name": "stdout",
     "output_type": "stream",
     "text": [
      "|0> + sqrt(2)*|0> + |1>\n"
     ]
    }
   ],
   "source": [
    "a  = (1 + sqrt(2))*Qubit(0) + Qubit(1)\n",
    "r = qapply(HadamardGate(0)*a)\n",
    "print (r)\n",
    "p = 1\n",
    "assert simplify(r - p*a) == 0\n"
   ]
  },
  {
   "cell_type": "code",
   "execution_count": 7,
   "metadata": {},
   "outputs": [
    {
     "name": "stdout",
     "output_type": "stream",
     "text": [
      "-|0> + sqrt(2)*|0> - |1>\n"
     ]
    }
   ],
   "source": [
    "a  = (1 - sqrt(2))*Qubit(0) + Qubit(1)\n",
    "r = qapply(HadamardGate(0)*a)\n",
    "print (r)\n",
    "p = -1\n",
    "assert simplify(r - p*a) == 0\n"
   ]
  },
  {
   "cell_type": "markdown",
   "metadata": {},
   "source": [
    "## Find the eigenvalues and eigenvectors of the Pauli matrixes"
   ]
  },
  {
   "cell_type": "markdown",
   "metadata": {},
   "source": [
    "The eigenvalues are given by the roots of $det(A- \\lambda I)$ where $v$ is called eigenvector such as $(A- \\lambda I)v = 0$"
   ]
  },
  {
   "cell_type": "code",
   "execution_count": null,
   "metadata": {},
   "outputs": [],
   "source": [
    "def find_eig(A):\n",
    "    l = Symbol('l')\n",
    "    lam=l*eye(2)\n",
    "    r = A-lam\n",
    "    det = r.det()\n",
    "    eigenvalues = solve(det)\n",
    "\n",
    "    eigenvectors = []\n",
    "\n",
    "    for i in eigenvalues:\n",
    "        charact_eqt = r.subs({l:i})\n",
    "        print(charact_eqt)\n",
    "\n",
    "    return eigenvalues\n",
    "    "
   ]
  },
  {
   "cell_type": "code",
   "execution_count": 11,
   "metadata": {},
   "outputs": [
    {
     "name": "stdout",
     "output_type": "stream",
     "text": [
      "Matrix([[1, 1], [1, 1]])\n",
      "Matrix([[-1, 1], [1, -1]])\n",
      "[-1, 1]\n",
      "eigenvalues={-1: 1, 1: 1}\n",
      "eigenvectors=[(-1, 1, [Matrix([\n",
      "[-1],\n",
      "[ 1]])]), (1, 1, [Matrix([\n",
      "[1],\n",
      "[1]])])]\n"
     ]
    }
   ],
   "source": [
    "X=Matrix([[0, 1], [1, 0]])\n",
    "\n",
    "eigenvalues = find_eig(X)\n",
    "print(eigenvalues)\n",
    "\n",
    "assert eigenvalues == [-1, 1]\n",
    "\n",
    "eigenvalues = X.eigenvals()\n",
    "print(f\"eigenvalues={eigenvalues}\")\n",
    "eigenvectors = X.eigenvects()\n",
    "print(f\"eigenvectors={eigenvectors}\")"
   ]
  }
 ],
 "metadata": {
  "kernelspec": {
   "display_name": ".venv",
   "language": "python",
   "name": "python3"
  },
  "language_info": {
   "codemirror_mode": {
    "name": "ipython",
    "version": 3
   },
   "file_extension": ".py",
   "mimetype": "text/x-python",
   "name": "python",
   "nbconvert_exporter": "python",
   "pygments_lexer": "ipython3",
   "version": "3.10.12"
  }
 },
 "nbformat": 4,
 "nbformat_minor": 2
}
