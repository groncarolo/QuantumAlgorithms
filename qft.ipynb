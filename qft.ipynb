{
 "cells": [
  {
   "cell_type": "markdown",
   "metadata": {},
   "source": [
    "# QFT"
   ]
  },
  {
   "cell_type": "markdown",
   "metadata": {},
   "source": [
    "Import need modules"
   ]
  },
  {
   "cell_type": "code",
   "execution_count": 1,
   "metadata": {},
   "outputs": [],
   "source": [
    "from sympy import I, pi, exp, ImmutableMatrix\n",
    "from sympy.physics.quantum.qapply import qapply\n",
    "from sympy.physics.quantum.qubit import Qubit\n",
    "\n",
    "from sympy.physics.quantum.gate import HadamardGate\n",
    "from sympy.physics.quantum.gate import UGate, SwapGate, CGate\n",
    "from sympy.physics.quantum.qft import QFT"
   ]
  },
  {
   "cell_type": "markdown",
   "metadata": {},
   "source": [
    "Quantum Fourier Transform example with 4 bits\n",
    "```\n",
    "l0---------------o-----------o-------o---H--x---\n",
    "l1-----------o---|--------o--|---H--R2------|--x\n",
    "l2--------o--|---|----H--R2--R3-------------|--x\n",
    "l3----H--R2--R3--R4-------------------------x---\n",
    "```\n",
    "Where $H = 1/\\sqrt{2}\\begin{bmatrix}1&1\\cr 1&-1\\end{bmatrix} $\n",
    "and   $R_k = \\begin{bmatrix}1&1\\cr 1&e^(i2\\pi/2^k)\\end{bmatrix} $\n",
    "\n",
    "The quantum Fourier transform is a unitary transformation $FF^\\dagger=I$\n"
   ]
  },
  {
   "cell_type": "code",
   "execution_count": null,
   "metadata": {},
   "outputs": [],
   "source": [
    "def qft(begin, end):\n",
    "    \"\"\"\n",
    "    QFT implementation\n",
    "    :param int begin: from bit begin\n",
    "    :param int end: to bit end\n",
    "    :return QFT circuit\n",
    "\n",
    "    \"\"\"\n",
    "    circuit = 1\n",
    "    # we iterate in reverse order\n",
    "    for line in reversed(range(begin, end)):\n",
    "        # add the H gate\n",
    "        circuit = HadamardGate(line) * circuit\n",
    "        # Add rotate gates\n",
    "        for i in range(line - begin):\n",
    "            # start at n = i+2\n",
    "            n = i + 2\n",
    "            # create a rotation gate\n",
    "            gate = UGate(line, ImmutableMatrix([[1, 0], [0, exp(2 * pi * I / (2**n))]]))\n",
    "            # gate added under Control on line -i -1\n",
    "            circuit = CGate(line - i - 1, gate) * circuit\n",
    "\n",
    "    #  add swap gates\n",
    "    for i in range((end - begin) // 2):\n",
    "        circuit = SwapGate(i + begin, end - i - 1) * circuit\n",
    "    return circuit"
   ]
  },
  {
   "cell_type": "markdown",
   "metadata": {},
   "source": [
    "Tests"
   ]
  },
  {
   "cell_type": "code",
   "execution_count": 3,
   "metadata": {},
   "outputs": [
    {
     "name": "stdout",
     "output_type": "stream",
     "text": [
      "\n",
      "QFT=SWAP(1,2)*SWAP(0,3)*H(0)*C((0),U((1,),Matrix([\n",
      "[1, 0],\n",
      "[0, I]])))*H(1)*C((0),U((2,),Matrix([\n",
      "[1,           0],\n",
      "[0, exp(I*pi/4)]])))*C((1),U((2,),Matrix([\n",
      "[1, 0],\n",
      "[0, I]])))*H(2)*C((0),U((3,),Matrix([\n",
      "[1,           0],\n",
      "[0, exp(I*pi/8)]])))*C((1),U((3,),Matrix([\n",
      "[1,           0],\n",
      "[0, exp(I*pi/4)]])))*C((2),U((3,),Matrix([\n",
      "[1, 0],\n",
      "[0, I]])))*H(3)\n"
     ]
    }
   ],
   "source": [
    "def test_0():\n",
    "    n = 4\n",
    "    circ = qft(0, n)\n",
    "    print(f\"\\nQFT={circ}\")\n",
    "\n",
    "    q = Qubit(\"0101\")\n",
    "    r = qapply(circ * q)\n",
    "\n",
    "    qft_ref = qapply(QFT(0, n).decompose() * q)\n",
    "\n",
    "    assert r == qft_ref\n",
    "\n",
    "\n",
    "test_0()"
   ]
  },
  {
   "cell_type": "code",
   "execution_count": 4,
   "metadata": {},
   "outputs": [
    {
     "name": "stdout",
     "output_type": "stream",
     "text": [
      "\n",
      "QFT=SWAP(2,3)*SWAP(1,4)*SWAP(0,5)*H(0)*C((0),U((1,),Matrix([\n",
      "[1, 0],\n",
      "[0, I]])))*H(1)*C((0),U((2,),Matrix([\n",
      "[1,           0],\n",
      "[0, exp(I*pi/4)]])))*C((1),U((2,),Matrix([\n",
      "[1, 0],\n",
      "[0, I]])))*H(2)*C((0),U((3,),Matrix([\n",
      "[1,           0],\n",
      "[0, exp(I*pi/8)]])))*C((1),U((3,),Matrix([\n",
      "[1,           0],\n",
      "[0, exp(I*pi/4)]])))*C((2),U((3,),Matrix([\n",
      "[1, 0],\n",
      "[0, I]])))*H(3)*C((0),U((4,),Matrix([\n",
      "[1,            0],\n",
      "[0, exp(I*pi/16)]])))*C((1),U((4,),Matrix([\n",
      "[1,           0],\n",
      "[0, exp(I*pi/8)]])))*C((2),U((4,),Matrix([\n",
      "[1,           0],\n",
      "[0, exp(I*pi/4)]])))*C((3),U((4,),Matrix([\n",
      "[1, 0],\n",
      "[0, I]])))*H(4)*C((0),U((5,),Matrix([\n",
      "[1,            0],\n",
      "[0, exp(I*pi/32)]])))*C((1),U((5,),Matrix([\n",
      "[1,            0],\n",
      "[0, exp(I*pi/16)]])))*C((2),U((5,),Matrix([\n",
      "[1,           0],\n",
      "[0, exp(I*pi/8)]])))*C((3),U((5,),Matrix([\n",
      "[1,           0],\n",
      "[0, exp(I*pi/4)]])))*C((4),U((5,),Matrix([\n",
      "[1, 0],\n",
      "[0, I]])))*H(5)\n"
     ]
    }
   ],
   "source": [
    "def test_1():\n",
    "    n = 6\n",
    "    circ = qft(0, n)\n",
    "    print(f\"\\nQFT={circ}\")\n",
    "\n",
    "    q = Qubit(\"010101\")\n",
    "    r = qapply(circ * q)\n",
    "\n",
    "    qft_ref = qapply(QFT(0, n).decompose() * q)\n",
    "\n",
    "    assert r == qft_ref\n",
    "\n",
    "\n",
    "test_1()"
   ]
  }
 ],
 "metadata": {
  "kernelspec": {
   "display_name": ".venv",
   "language": "python",
   "name": "python3"
  },
  "language_info": {
   "codemirror_mode": {
    "name": "ipython",
    "version": 3
   },
   "file_extension": ".py",
   "mimetype": "text/x-python",
   "name": "python",
   "nbconvert_exporter": "python",
   "pygments_lexer": "ipython3",
   "version": "3.10.12"
  }
 },
 "nbformat": 4,
 "nbformat_minor": 2
}
