{
 "cells": [
  {
   "cell_type": "code",
   "execution_count": 1,
   "metadata": {},
   "outputs": [],
   "source": [
    "\"\"\" This module implements Shor factorization algorithm\"\"\"\n",
    "import fractions\n",
    "import random\n",
    "\n",
    "from math import gcd\n",
    "from sympy import isprime\n",
    "from sympy.physics.quantum.qapply import qapply\n",
    "from sympy.physics.quantum.qubit import Qubit, matrix_to_qubit, IntQubit, measure_partial_oneshot, \\\n",
    "    measure_all_oneshot\n",
    "from sympy.physics.quantum import TensorProduct\n",
    "from sympy.physics.quantum.represent import represent\n",
    "from sympy.physics.quantum.qft import IQFT\n",
    "from oracle import oracle\n",
    "from util.util import hn"
   ]
  },
  {
   "cell_type": "code",
   "execution_count": 2,
   "metadata": {},
   "outputs": [],
   "source": [
    "def fan(x, N, a):\n",
    "    \"\"\"\n",
    "    Function to calculate a**x%N\n",
    "    :param x: |x> qubit\n",
    "    :param N: product we want to find the factors of\n",
    "    :param a: relatively prime number to N\n",
    "  \"\"\"\n",
    "    x = IntQubit(Qubit(*x)).as_int()\n",
    "    r = (a ** x) % N\n",
    "    return r"
   ]
  },
  {
   "cell_type": "code",
   "execution_count": 3,
   "metadata": {},
   "outputs": [],
   "source": [
    "def shor_period(f, m, n, N, a):\n",
    "    \"\"\"\n",
    "    Shor's algorithm, find the period quantumly\n",
    "    :param func f: fan function returning a**x%N\n",
    "    :param m: |x> bit number\n",
    "    :param n: |y> bit number\n",
    "    :param N: product we want to find the factors of\n",
    "    :param a: relatively prime number to N\n",
    "    :returns int period\n",
    "\n",
    "    The problem:\n",
    "    Factor an interger N into its prime components\n",
    "\n",
    "    The Solution:\n",
    "                         +-----------------+\n",
    "      |x>  |0>-/m-H*m----|                 |--/m--QFT+---M |x>\n",
    "                         |       U_f_a,N   |\n",
    "      |y>  |0>-/n--------|                 |--/n--------  |y XOR f(x, a, N)>\n",
    "                         +-----------------+\n",
    "    \"\"\"\n",
    "    # apply H gate to both inputs\n",
    "    x = qapply(hn(m) * Qubit('0' * m))\n",
    "    print(f\"|x>: {x}\")\n",
    "    y = Qubit('0' * n)\n",
    "    print(f\"|y>: {y}\")\n",
    "    xy = TensorProduct(x, y)\n",
    "    print(f\"|xy>: {xy}\")\n",
    "    xy = matrix_to_qubit(represent(xy))\n",
    "    print(f\"|xy>: {xy}\")\n",
    "\n",
    "    # apply oracle\n",
    "    xy_xor_fx = oracle(x, y, f, N, a)\n",
    "    print(f\"|xy_xor_fx>: {xy_xor_fx}\")\n",
    "\n",
    "    xy_xor_fx = measure_partial_oneshot(xy_xor_fx, range(n))\n",
    "    print(f\"|xy_xor_fx>: {xy_xor_fx} n = {n}\")\n",
    "\n",
    "    # create a new state without y qubit\n",
    "    y_xor_fx = 0\n",
    "    for expr in xy_xor_fx.args:\n",
    "        ee = 1\n",
    "        for e in expr.args:\n",
    "            if isinstance(e, Qubit):\n",
    "                qbit = e\n",
    "            else:\n",
    "                ee *= e\n",
    "        # throw y part and just keep x\n",
    "        y_xor_fx += ee * Qubit(*qbit.qubit_values[0:qbit.dimension - n])\n",
    "\n",
    "    print(f\"New state without y |y_xor_fx>: {y_xor_fx}\")\n",
    "\n",
    "    # apply QFT to\n",
    "    y_xor_fx = qapply(IQFT(0, m).decompose() * y_xor_fx)\n",
    "    print(f\"After IQFT |y_xor_fx>={y_xor_fx}\")\n",
    "\n",
    "    mea = measure_all_oneshot(y_xor_fx)\n",
    "    print(f\"measure(state) = {mea} as int = {IntQubit(mea).as_int()}\")\n",
    "\n",
    "    f = fractions.Fraction.from_float(float(IntQubit(mea).as_int() / 2 ** m)).limit_denominator(N)\n",
    "    r = f.denominator\n",
    "\n",
    "    if f.numerator == 0:\n",
    "        return None\n",
    "\n",
    "    if a ** r % N != 1:\n",
    "        return None\n",
    "\n",
    "    return r"
   ]
  },
  {
   "cell_type": "code",
   "execution_count": 4,
   "metadata": {},
   "outputs": [],
   "source": [
    "def shor(N, *args):\n",
    "    \"\"\"\n",
    "    Shor's algorithm, non-quantum part\n",
    "    :param N: product we want to find the factors of\n",
    "    :returns [int] factors\n",
    "    \"\"\"\n",
    "    if isprime(N):\n",
    "        print(f\"{N} is prime!\")\n",
    "        return None\n",
    "\n",
    "    r = None\n",
    "    max_tries = 30\n",
    "    i = 0\n",
    "    factors = []\n",
    "    while i < max_tries and r is None:\n",
    "        if args:\n",
    "            a = args[0]\n",
    "            assert a < N\n",
    "        else:\n",
    "            a = random.randint(2, N - 1)\n",
    "        m = n = len(bin(N)[2:]) + 1\n",
    "\n",
    "        if 1 < gcd(a, N) < N:\n",
    "            print(f\"a = {a} and N = {N} are not relatively prime\")\n",
    "            factors.append(gcd(a, N))\n",
    "            factors.append(int(N / gcd(a, N)))\n",
    "            return factors\n",
    "\n",
    "        print(f\"{'=' * 40}\")\n",
    "        print(f\"Shore N={N}, m={m}, n={n}, a={a} iter {i}\")\n",
    "        r = shor_period(fan, m, n, N, a)\n",
    "        i = i + 1\n",
    "    print(f\"period r = {r}\")\n",
    "    if r is None:\n",
    "        return factors\n",
    "\n",
    "    factors.append(gcd(int(a ** (r / 2)) - 1, N))\n",
    "    factors.append(gcd(int(a ** (r / 2)) + 1, N))\n",
    "    return factors\n"
   ]
  },
  {
   "cell_type": "markdown",
   "metadata": {},
   "source": [
    "## Tests"
   ]
  },
  {
   "cell_type": "code",
   "execution_count": 6,
   "metadata": {},
   "outputs": [
    {
     "name": "stdout",
     "output_type": "stream",
     "text": [
      "========================================\n",
      "Shore N=15, m=5, n=5, a=2 iter 0\n",
      "|x>: sqrt(2)*|00000>/8 + sqrt(2)*|00001>/8 + sqrt(2)*|00010>/8 + sqrt(2)*|00011>/8 + sqrt(2)*|00100>/8 + sqrt(2)*|00101>/8 + sqrt(2)*|00110>/8 + sqrt(2)*|00111>/8 + sqrt(2)*|01000>/8 + sqrt(2)*|01001>/8 + sqrt(2)*|01010>/8 + sqrt(2)*|01011>/8 + sqrt(2)*|01100>/8 + sqrt(2)*|01101>/8 + sqrt(2)*|01110>/8 + sqrt(2)*|01111>/8 + sqrt(2)*|10000>/8 + sqrt(2)*|10001>/8 + sqrt(2)*|10010>/8 + sqrt(2)*|10011>/8 + sqrt(2)*|10100>/8 + sqrt(2)*|10101>/8 + sqrt(2)*|10110>/8 + sqrt(2)*|10111>/8 + sqrt(2)*|11000>/8 + sqrt(2)*|11001>/8 + sqrt(2)*|11010>/8 + sqrt(2)*|11011>/8 + sqrt(2)*|11100>/8 + sqrt(2)*|11101>/8 + sqrt(2)*|11110>/8 + sqrt(2)*|11111>/8\n",
      "|y>: |00000>\n",
      "|xy>: (sqrt(2)*|00000>/8 + sqrt(2)*|00001>/8 + sqrt(2)*|00010>/8 + sqrt(2)*|00011>/8 + sqrt(2)*|00100>/8 + sqrt(2)*|00101>/8 + sqrt(2)*|00110>/8 + sqrt(2)*|00111>/8 + sqrt(2)*|01000>/8 + sqrt(2)*|01001>/8 + sqrt(2)*|01010>/8 + sqrt(2)*|01011>/8 + sqrt(2)*|01100>/8 + sqrt(2)*|01101>/8 + sqrt(2)*|01110>/8 + sqrt(2)*|01111>/8 + sqrt(2)*|10000>/8 + sqrt(2)*|10001>/8 + sqrt(2)*|10010>/8 + sqrt(2)*|10011>/8 + sqrt(2)*|10100>/8 + sqrt(2)*|10101>/8 + sqrt(2)*|10110>/8 + sqrt(2)*|10111>/8 + sqrt(2)*|11000>/8 + sqrt(2)*|11001>/8 + sqrt(2)*|11010>/8 + sqrt(2)*|11011>/8 + sqrt(2)*|11100>/8 + sqrt(2)*|11101>/8 + sqrt(2)*|11110>/8 + sqrt(2)*|11111>/8)x|00000>\n",
      "|xy>: sqrt(2)*|0000000000>/8 + sqrt(2)*|0000100000>/8 + sqrt(2)*|0001000000>/8 + sqrt(2)*|0001100000>/8 + sqrt(2)*|0010000000>/8 + sqrt(2)*|0010100000>/8 + sqrt(2)*|0011000000>/8 + sqrt(2)*|0011100000>/8 + sqrt(2)*|0100000000>/8 + sqrt(2)*|0100100000>/8 + sqrt(2)*|0101000000>/8 + sqrt(2)*|0101100000>/8 + sqrt(2)*|0110000000>/8 + sqrt(2)*|0110100000>/8 + sqrt(2)*|0111000000>/8 + sqrt(2)*|0111100000>/8 + sqrt(2)*|1000000000>/8 + sqrt(2)*|1000100000>/8 + sqrt(2)*|1001000000>/8 + sqrt(2)*|1001100000>/8 + sqrt(2)*|1010000000>/8 + sqrt(2)*|1010100000>/8 + sqrt(2)*|1011000000>/8 + sqrt(2)*|1011100000>/8 + sqrt(2)*|1100000000>/8 + sqrt(2)*|1100100000>/8 + sqrt(2)*|1101000000>/8 + sqrt(2)*|1101100000>/8 + sqrt(2)*|1110000000>/8 + sqrt(2)*|1110100000>/8 + sqrt(2)*|1111000000>/8 + sqrt(2)*|1111100000>/8\n",
      "|xy_xor_fx>: sqrt(2)*|0000000001>/8 + sqrt(2)*|0000100010>/8 + sqrt(2)*|0001000100>/8 + sqrt(2)*|0001101000>/8 + sqrt(2)*|0010000001>/8 + sqrt(2)*|0010100010>/8 + sqrt(2)*|0011000100>/8 + sqrt(2)*|0011101000>/8 + sqrt(2)*|0100000001>/8 + sqrt(2)*|0100100010>/8 + sqrt(2)*|0101000100>/8 + sqrt(2)*|0101101000>/8 + sqrt(2)*|0110000001>/8 + sqrt(2)*|0110100010>/8 + sqrt(2)*|0111000100>/8 + sqrt(2)*|0111101000>/8 + sqrt(2)*|1000000001>/8 + sqrt(2)*|1000100010>/8 + sqrt(2)*|1001000100>/8 + sqrt(2)*|1001101000>/8 + sqrt(2)*|1010000001>/8 + sqrt(2)*|1010100010>/8 + sqrt(2)*|1011000100>/8 + sqrt(2)*|1011101000>/8 + sqrt(2)*|1100000001>/8 + sqrt(2)*|1100100010>/8 + sqrt(2)*|1101000100>/8 + sqrt(2)*|1101101000>/8 + sqrt(2)*|1110000001>/8 + sqrt(2)*|1110100010>/8 + sqrt(2)*|1111000100>/8 + sqrt(2)*|1111101000>/8\n",
      "|xy_xor_fx>: sqrt(2)*|0000000001>/4 + sqrt(2)*|0010000001>/4 + sqrt(2)*|0100000001>/4 + sqrt(2)*|0110000001>/4 + sqrt(2)*|1000000001>/4 + sqrt(2)*|1010000001>/4 + sqrt(2)*|1100000001>/4 + sqrt(2)*|1110000001>/4 n = 5\n",
      "New state without y |y_xor_fx>: sqrt(2)*|00000>/4 + sqrt(2)*|00100>/4 + sqrt(2)*|01000>/4 + sqrt(2)*|01100>/4 + sqrt(2)*|10000>/4 + sqrt(2)*|10100>/4 + sqrt(2)*|11000>/4 + sqrt(2)*|11100>/4\n",
      "After IQFT |y_xor_fx>=|00000>/2 + |01000>/2 + |10000>/2 + |11000>/2\n",
      "measure(state) = |01000> as int = 8\n",
      "period r = 4\n",
      "factors = [3, 5]\n"
     ]
    }
   ],
   "source": [
    "def test_0():\n",
    "    N = 15\n",
    "    factors = shor(N, 2)\n",
    "    print(\"factors = {factors}\".format(factors=factors))\n",
    "    truth = [3, 5]\n",
    "    assert truth == sorted(factors)\n",
    "test_0()"
   ]
  },
  {
   "cell_type": "code",
   "execution_count": 7,
   "metadata": {},
   "outputs": [
    {
     "name": "stdout",
     "output_type": "stream",
     "text": [
      "========================================\n",
      "Shore N=15, m=5, n=5, a=7 iter 0\n",
      "|x>: sqrt(2)*|00000>/8 + sqrt(2)*|00001>/8 + sqrt(2)*|00010>/8 + sqrt(2)*|00011>/8 + sqrt(2)*|00100>/8 + sqrt(2)*|00101>/8 + sqrt(2)*|00110>/8 + sqrt(2)*|00111>/8 + sqrt(2)*|01000>/8 + sqrt(2)*|01001>/8 + sqrt(2)*|01010>/8 + sqrt(2)*|01011>/8 + sqrt(2)*|01100>/8 + sqrt(2)*|01101>/8 + sqrt(2)*|01110>/8 + sqrt(2)*|01111>/8 + sqrt(2)*|10000>/8 + sqrt(2)*|10001>/8 + sqrt(2)*|10010>/8 + sqrt(2)*|10011>/8 + sqrt(2)*|10100>/8 + sqrt(2)*|10101>/8 + sqrt(2)*|10110>/8 + sqrt(2)*|10111>/8 + sqrt(2)*|11000>/8 + sqrt(2)*|11001>/8 + sqrt(2)*|11010>/8 + sqrt(2)*|11011>/8 + sqrt(2)*|11100>/8 + sqrt(2)*|11101>/8 + sqrt(2)*|11110>/8 + sqrt(2)*|11111>/8\n",
      "|y>: |00000>\n",
      "|xy>: (sqrt(2)*|00000>/8 + sqrt(2)*|00001>/8 + sqrt(2)*|00010>/8 + sqrt(2)*|00011>/8 + sqrt(2)*|00100>/8 + sqrt(2)*|00101>/8 + sqrt(2)*|00110>/8 + sqrt(2)*|00111>/8 + sqrt(2)*|01000>/8 + sqrt(2)*|01001>/8 + sqrt(2)*|01010>/8 + sqrt(2)*|01011>/8 + sqrt(2)*|01100>/8 + sqrt(2)*|01101>/8 + sqrt(2)*|01110>/8 + sqrt(2)*|01111>/8 + sqrt(2)*|10000>/8 + sqrt(2)*|10001>/8 + sqrt(2)*|10010>/8 + sqrt(2)*|10011>/8 + sqrt(2)*|10100>/8 + sqrt(2)*|10101>/8 + sqrt(2)*|10110>/8 + sqrt(2)*|10111>/8 + sqrt(2)*|11000>/8 + sqrt(2)*|11001>/8 + sqrt(2)*|11010>/8 + sqrt(2)*|11011>/8 + sqrt(2)*|11100>/8 + sqrt(2)*|11101>/8 + sqrt(2)*|11110>/8 + sqrt(2)*|11111>/8)x|00000>\n",
      "|xy>: sqrt(2)*|0000000000>/8 + sqrt(2)*|0000100000>/8 + sqrt(2)*|0001000000>/8 + sqrt(2)*|0001100000>/8 + sqrt(2)*|0010000000>/8 + sqrt(2)*|0010100000>/8 + sqrt(2)*|0011000000>/8 + sqrt(2)*|0011100000>/8 + sqrt(2)*|0100000000>/8 + sqrt(2)*|0100100000>/8 + sqrt(2)*|0101000000>/8 + sqrt(2)*|0101100000>/8 + sqrt(2)*|0110000000>/8 + sqrt(2)*|0110100000>/8 + sqrt(2)*|0111000000>/8 + sqrt(2)*|0111100000>/8 + sqrt(2)*|1000000000>/8 + sqrt(2)*|1000100000>/8 + sqrt(2)*|1001000000>/8 + sqrt(2)*|1001100000>/8 + sqrt(2)*|1010000000>/8 + sqrt(2)*|1010100000>/8 + sqrt(2)*|1011000000>/8 + sqrt(2)*|1011100000>/8 + sqrt(2)*|1100000000>/8 + sqrt(2)*|1100100000>/8 + sqrt(2)*|1101000000>/8 + sqrt(2)*|1101100000>/8 + sqrt(2)*|1110000000>/8 + sqrt(2)*|1110100000>/8 + sqrt(2)*|1111000000>/8 + sqrt(2)*|1111100000>/8\n",
      "|xy_xor_fx>: sqrt(2)*|0000000001>/8 + sqrt(2)*|0000100111>/8 + sqrt(2)*|0001000100>/8 + sqrt(2)*|0001101101>/8 + sqrt(2)*|0010000001>/8 + sqrt(2)*|0010100111>/8 + sqrt(2)*|0011000100>/8 + sqrt(2)*|0011101101>/8 + sqrt(2)*|0100000001>/8 + sqrt(2)*|0100100111>/8 + sqrt(2)*|0101000100>/8 + sqrt(2)*|0101101101>/8 + sqrt(2)*|0110000001>/8 + sqrt(2)*|0110100111>/8 + sqrt(2)*|0111000100>/8 + sqrt(2)*|0111101101>/8 + sqrt(2)*|1000000001>/8 + sqrt(2)*|1000100111>/8 + sqrt(2)*|1001000100>/8 + sqrt(2)*|1001101101>/8 + sqrt(2)*|1010000001>/8 + sqrt(2)*|1010100111>/8 + sqrt(2)*|1011000100>/8 + sqrt(2)*|1011101101>/8 + sqrt(2)*|1100000001>/8 + sqrt(2)*|1100100111>/8 + sqrt(2)*|1101000100>/8 + sqrt(2)*|1101101101>/8 + sqrt(2)*|1110000001>/8 + sqrt(2)*|1110100111>/8 + sqrt(2)*|1111000100>/8 + sqrt(2)*|1111101101>/8\n",
      "|xy_xor_fx>: sqrt(2)*|0001000100>/4 + sqrt(2)*|0011000100>/4 + sqrt(2)*|0101000100>/4 + sqrt(2)*|0111000100>/4 + sqrt(2)*|1001000100>/4 + sqrt(2)*|1011000100>/4 + sqrt(2)*|1101000100>/4 + sqrt(2)*|1111000100>/4 n = 5\n",
      "New state without y |y_xor_fx>: sqrt(2)*|00010>/4 + sqrt(2)*|00110>/4 + sqrt(2)*|01010>/4 + sqrt(2)*|01110>/4 + sqrt(2)*|10010>/4 + sqrt(2)*|10110>/4 + sqrt(2)*|11010>/4 + sqrt(2)*|11110>/4\n",
      "After IQFT |y_xor_fx>=|00000>/2 - |01000>/2 + |10000>/2 - |11000>/2\n",
      "measure(state) = |11000> as int = 24\n",
      "period r = 4\n",
      "factors = [3, 5]\n"
     ]
    }
   ],
   "source": [
    "def test_1():\n",
    "    N = 15\n",
    "    factors = shor(N, 7)\n",
    "    print(\"factors = {factors}\".format(factors=factors))\n",
    "    truth = [3, 5]\n",
    "    assert truth == sorted(factors)\n",
    "test_1()"
   ]
  },
  {
   "cell_type": "code",
   "execution_count": 8,
   "metadata": {},
   "outputs": [
    {
     "name": "stdout",
     "output_type": "stream",
     "text": [
      "========================================\n",
      "Shore N=15, m=5, n=5, a=13 iter 0\n",
      "|x>: sqrt(2)*|00000>/8 + sqrt(2)*|00001>/8 + sqrt(2)*|00010>/8 + sqrt(2)*|00011>/8 + sqrt(2)*|00100>/8 + sqrt(2)*|00101>/8 + sqrt(2)*|00110>/8 + sqrt(2)*|00111>/8 + sqrt(2)*|01000>/8 + sqrt(2)*|01001>/8 + sqrt(2)*|01010>/8 + sqrt(2)*|01011>/8 + sqrt(2)*|01100>/8 + sqrt(2)*|01101>/8 + sqrt(2)*|01110>/8 + sqrt(2)*|01111>/8 + sqrt(2)*|10000>/8 + sqrt(2)*|10001>/8 + sqrt(2)*|10010>/8 + sqrt(2)*|10011>/8 + sqrt(2)*|10100>/8 + sqrt(2)*|10101>/8 + sqrt(2)*|10110>/8 + sqrt(2)*|10111>/8 + sqrt(2)*|11000>/8 + sqrt(2)*|11001>/8 + sqrt(2)*|11010>/8 + sqrt(2)*|11011>/8 + sqrt(2)*|11100>/8 + sqrt(2)*|11101>/8 + sqrt(2)*|11110>/8 + sqrt(2)*|11111>/8\n",
      "|y>: |00000>\n",
      "|xy>: (sqrt(2)*|00000>/8 + sqrt(2)*|00001>/8 + sqrt(2)*|00010>/8 + sqrt(2)*|00011>/8 + sqrt(2)*|00100>/8 + sqrt(2)*|00101>/8 + sqrt(2)*|00110>/8 + sqrt(2)*|00111>/8 + sqrt(2)*|01000>/8 + sqrt(2)*|01001>/8 + sqrt(2)*|01010>/8 + sqrt(2)*|01011>/8 + sqrt(2)*|01100>/8 + sqrt(2)*|01101>/8 + sqrt(2)*|01110>/8 + sqrt(2)*|01111>/8 + sqrt(2)*|10000>/8 + sqrt(2)*|10001>/8 + sqrt(2)*|10010>/8 + sqrt(2)*|10011>/8 + sqrt(2)*|10100>/8 + sqrt(2)*|10101>/8 + sqrt(2)*|10110>/8 + sqrt(2)*|10111>/8 + sqrt(2)*|11000>/8 + sqrt(2)*|11001>/8 + sqrt(2)*|11010>/8 + sqrt(2)*|11011>/8 + sqrt(2)*|11100>/8 + sqrt(2)*|11101>/8 + sqrt(2)*|11110>/8 + sqrt(2)*|11111>/8)x|00000>\n",
      "|xy>: sqrt(2)*|0000000000>/8 + sqrt(2)*|0000100000>/8 + sqrt(2)*|0001000000>/8 + sqrt(2)*|0001100000>/8 + sqrt(2)*|0010000000>/8 + sqrt(2)*|0010100000>/8 + sqrt(2)*|0011000000>/8 + sqrt(2)*|0011100000>/8 + sqrt(2)*|0100000000>/8 + sqrt(2)*|0100100000>/8 + sqrt(2)*|0101000000>/8 + sqrt(2)*|0101100000>/8 + sqrt(2)*|0110000000>/8 + sqrt(2)*|0110100000>/8 + sqrt(2)*|0111000000>/8 + sqrt(2)*|0111100000>/8 + sqrt(2)*|1000000000>/8 + sqrt(2)*|1000100000>/8 + sqrt(2)*|1001000000>/8 + sqrt(2)*|1001100000>/8 + sqrt(2)*|1010000000>/8 + sqrt(2)*|1010100000>/8 + sqrt(2)*|1011000000>/8 + sqrt(2)*|1011100000>/8 + sqrt(2)*|1100000000>/8 + sqrt(2)*|1100100000>/8 + sqrt(2)*|1101000000>/8 + sqrt(2)*|1101100000>/8 + sqrt(2)*|1110000000>/8 + sqrt(2)*|1110100000>/8 + sqrt(2)*|1111000000>/8 + sqrt(2)*|1111100000>/8\n",
      "|xy_xor_fx>: sqrt(2)*|0000000001>/8 + sqrt(2)*|0000101101>/8 + sqrt(2)*|0001000100>/8 + sqrt(2)*|0001100111>/8 + sqrt(2)*|0010000001>/8 + sqrt(2)*|0010101101>/8 + sqrt(2)*|0011000100>/8 + sqrt(2)*|0011100111>/8 + sqrt(2)*|0100000001>/8 + sqrt(2)*|0100101101>/8 + sqrt(2)*|0101000100>/8 + sqrt(2)*|0101100111>/8 + sqrt(2)*|0110000001>/8 + sqrt(2)*|0110101101>/8 + sqrt(2)*|0111000100>/8 + sqrt(2)*|0111100111>/8 + sqrt(2)*|1000000001>/8 + sqrt(2)*|1000101101>/8 + sqrt(2)*|1001000100>/8 + sqrt(2)*|1001100111>/8 + sqrt(2)*|1010000001>/8 + sqrt(2)*|1010101101>/8 + sqrt(2)*|1011000100>/8 + sqrt(2)*|1011100111>/8 + sqrt(2)*|1100000001>/8 + sqrt(2)*|1100101101>/8 + sqrt(2)*|1101000100>/8 + sqrt(2)*|1101100111>/8 + sqrt(2)*|1110000001>/8 + sqrt(2)*|1110101101>/8 + sqrt(2)*|1111000100>/8 + sqrt(2)*|1111100111>/8\n",
      "|xy_xor_fx>: sqrt(2)*|0000000001>/4 + sqrt(2)*|0010000001>/4 + sqrt(2)*|0100000001>/4 + sqrt(2)*|0110000001>/4 + sqrt(2)*|1000000001>/4 + sqrt(2)*|1010000001>/4 + sqrt(2)*|1100000001>/4 + sqrt(2)*|1110000001>/4 n = 5\n",
      "New state without y |y_xor_fx>: sqrt(2)*|00000>/4 + sqrt(2)*|00100>/4 + sqrt(2)*|01000>/4 + sqrt(2)*|01100>/4 + sqrt(2)*|10000>/4 + sqrt(2)*|10100>/4 + sqrt(2)*|11000>/4 + sqrt(2)*|11100>/4\n",
      "After IQFT |y_xor_fx>=|00000>/2 + |01000>/2 + |10000>/2 + |11000>/2\n",
      "measure(state) = |01000> as int = 8\n",
      "period r = 4\n",
      "factors = [3, 5]\n"
     ]
    }
   ],
   "source": [
    "def test_2():\n",
    "    N = 15\n",
    "    factors = shor(N, 13)\n",
    "    print(\"factors = {factors}\".format(factors=factors))\n",
    "    truth = [3, 5]\n",
    "    assert truth == sorted(factors)\n",
    "test_2()"
   ]
  },
  {
   "cell_type": "code",
   "execution_count": null,
   "metadata": {},
   "outputs": [],
   "source": [
    "def test_3():\n",
    "     N = 3*7\n",
    "     factors = shor(N, 13)\n",
    "     print(\"factors = {factors}\".format(factors=factors))\n",
    "     truth = [3, 7]\n",
    "     assert truth == sorted(factors)\n",
    "test_3()\n"
   ]
  }
 ],
 "metadata": {
  "kernelspec": {
   "display_name": ".venv",
   "language": "python",
   "name": "python3"
  },
  "language_info": {
   "codemirror_mode": {
    "name": "ipython",
    "version": 3
   },
   "file_extension": ".py",
   "mimetype": "text/x-python",
   "name": "python",
   "nbconvert_exporter": "python",
   "pygments_lexer": "ipython3",
   "version": "3.10.12"
  }
 },
 "nbformat": 4,
 "nbformat_minor": 2
}
