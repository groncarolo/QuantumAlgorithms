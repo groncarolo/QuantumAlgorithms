{
 "cells": [
  {
   "cell_type": "markdown",
   "metadata": {},
   "source": [
    "# Simons' Algorithm"
   ]
  },
  {
   "cell_type": "code",
   "execution_count": 1,
   "metadata": {},
   "outputs": [],
   "source": [
    "\"\"\" This module implements Simons periodicity algorithm\"\"\"\n",
    "from sympy.physics.quantum.qapply import qapply\n",
    "from sympy.physics.quantum.qubit import Qubit, matrix_to_qubit, \\\n",
    "     measure_partial, IntQubit\n",
    "from sympy import Symbol, preorder_traversal, Xor, Or, And, \\\n",
    "    satisfiable, Not, simplify\n",
    "from sympy.physics.quantum import TensorProduct\n",
    "from sympy.physics.quantum.represent import represent\n",
    "from oracle import oracle\n",
    "from util.util import hn"
   ]
  },
  {
   "cell_type": "code",
   "execution_count": 2,
   "metadata": {},
   "outputs": [],
   "source": [
    "def find_req_on_f(c, ys):\n",
    "    \"\"\"\n",
    "    Find requirements on f\n",
    "    :param int c: number c\n",
    "    :param tuple ys: range of values\n",
    "    :returns collection of [(val, req) ... ]\n",
    "    example:\n",
    "    c= 0b101 ys=[0,1,...,7]\n",
    "    returns  [(0, 5),(1, 4),...,(7, 2)]\n",
    "    \"\"\"\n",
    "    xs = [y ^ c for y in ys]\n",
    "    return zip(ys, xs)"
   ]
  },
  {
   "cell_type": "code",
   "execution_count": 3,
   "metadata": {},
   "outputs": [],
   "source": [
    "def find_c(constraints):\n",
    "    \"\"\"\n",
    "    Find c given the constraints\n",
    "    :param tuple collection constraints:\n",
    "    :returns int c\n",
    "    example\n",
    "    [(0, 0, 0), (0, 1, 0), (1, 0, 1), (1, 1, 1)]\n",
    "    we create the equivalent expression\n",
    "    ~b & ~(a ^ c) & (a | b | c) & ~(a ^ b ^ c)\n",
    "    and solve for it\n",
    "    \"\"\"\n",
    "    bit_num = len(constraints[0])\n",
    "\n",
    "    # limit to 16 bits\n",
    "    assert bit_num < 16\n",
    "    for i in range(bit_num):\n",
    "        Symbol(chr(ord('a') + i))\n",
    "\n",
    "    # create the equivalent expression NOT( c_1 XOR c_2 XOR ... c_n-1)\n",
    "    expressions = []\n",
    "    for elem in constraints:\n",
    "        expressions.append(Not(Xor(*[elem[i] *\n",
    "                                     Symbol(chr(ord('a') + i))\n",
    "                                     for i in range(bit_num)])))\n",
    "\n",
    "    # add final expression (c_1 OR c_2 OR ... c_n-1)\n",
    "    # as we do not want a solution where all Cs are zero\n",
    "    expressions.append(Or(*[Symbol(chr(ord('a') + i))\n",
    "                            for i in range(bit_num)]))\n",
    "\n",
    "    # put them in one\n",
    "    fe = And(*expressions)\n",
    "    # solve it\n",
    "    models = satisfiable(fe, all_models=True)\n",
    "\n",
    "    # find the equivalent number C (a collection of them)\n",
    "    ret = []\n",
    "    for model in models:\n",
    "        model = sorted(model.items(), key=lambda item: item[0].name)\n",
    "        r = 0\n",
    "        n = bit_num - 1\n",
    "        for d in model:\n",
    "            r = r + d[1] * 2 ** n\n",
    "            n = n - 1\n",
    "        ret.append(r)\n",
    "    # sort the results for ease of comparison\n",
    "    return sorted(ret)"
   ]
  },
  {
   "cell_type": "markdown",
   "metadata": {},
   "source": [
    "## The problem:\n",
    "Consider `f {0,1}^n  -> f {0, 1}^n` that is not known\n",
    "\n",
    "we are told that exists `c = c0c1c2...cn-1` such that for all string x, y belonging to `{0,1}^n`\n",
    "we have `f(x) == f(y)`  if and only if `x = y XOR c`\n",
    "\n",
    "## The Solution:\n",
    "```\n",
    "                     +-----------------+\n",
    "  |x>  |0>-/n--H*n---|                 |--/n--H*n---M |x>\n",
    "                     |       U_f       |\n",
    "  |y>  |0>-/n--------|                 |--/n--------  |y XOR f(x)>\n",
    "                     +-----------------+\n",
    "```"
   ]
  },
  {
   "cell_type": "code",
   "execution_count": 4,
   "metadata": {},
   "outputs": [],
   "source": [
    "def simon(f, n):\n",
    "    \"\"\"\n",
    "    Run Simon algorithm and return |x>*|y XOR f(x)>\n",
    "    :param func f: oracle function\n",
    "    :param int n: string length\n",
    "\n",
    "    \"\"\"\n",
    "    # apply H gate to both inputs\n",
    "    x = qapply(hn(n) * Qubit('0' * n))\n",
    "    print(f\"|x>: {x}\")\n",
    "    y = Qubit('0' * n)\n",
    "    print(f\"|y>: {y}\")\n",
    "    xy = TensorProduct(x, y)\n",
    "    print(f\"|xy>: {xy}\")\n",
    "    xy = matrix_to_qubit(represent(xy))\n",
    "    print(f\"|xy>: {xy}\")\n",
    "\n",
    "    # apply oracle\n",
    "    state = oracle(x, y, f)\n",
    "\n",
    "    # apply H*m to the top bits\n",
    "    state = simplify(qapply(hn(n, start=3) * state))\n",
    "    print(f'State: {state}')\n",
    "\n",
    "    # measure the first 3 bits\n",
    "    measures = measure_partial(state, range(n))\n",
    "    print(f'Measures: {measures}')\n",
    "\n",
    "    constraints = []\n",
    "    for m in measures:\n",
    "        m_contr = []\n",
    "        for arg in preorder_traversal(m[0]):\n",
    "            if isinstance(arg, Qubit):\n",
    "                m_contr.append(arg.qubit_values[:3])\n",
    "        constraints.append(m_contr)\n",
    "\n",
    "    # find c\n",
    "    c = find_c(constraints[0])\n",
    "    print(f'c: {c[0] :03b}')\n",
    "\n",
    "    #  Find requirements on f(x)\n",
    "    req = find_req_on_f(c[0], range(0, 2 ** 3))\n",
    "    print(f'Req: {list(req)}')\n",
    "\n",
    "    return state, measures, c, constraints[0], req"
   ]
  },
  {
   "cell_type": "markdown",
   "metadata": {},
   "source": [
    "## Tests"
   ]
  },
  {
   "cell_type": "markdown",
   "metadata": {},
   "source": [
    "Find requirements on f given binary string `0b101`"
   ]
  },
  {
   "cell_type": "code",
   "execution_count": 5,
   "metadata": {},
   "outputs": [],
   "source": [
    "def test_0():\n",
    "    r = find_req_on_f(0b101, range(0, 2 ** 3))\n",
    "    truth = [(0, 5), (1, 4), (2, 7), (3, 6), (4, 1), (5, 0), (6, 3), (7, 2)]\n",
    "\n",
    "    for k in zip(r, truth):\n",
    "        assert k[0] == k[1]\n",
    "\n",
    "\n",
    "test_0()"
   ]
  },
  {
   "cell_type": "markdown",
   "metadata": {},
   "source": [
    "Find requirements on f given binary string `0b011`"
   ]
  },
  {
   "cell_type": "code",
   "execution_count": 6,
   "metadata": {},
   "outputs": [],
   "source": [
    "def test_1():\n",
    "    r = find_req_on_f(0b011, range(0, 2 ** 3))\n",
    "\n",
    "    truth = [(0, 3), (1, 2), (2, 1), (3, 0), (4, 7), (5, 6), (6, 5), (7, 4)]\n",
    "    for k in zip(r, truth):\n",
    "        assert k[0] == k[1]\n",
    "\n",
    "\n",
    "test_1()"
   ]
  },
  {
   "cell_type": "markdown",
   "metadata": {},
   "source": [
    "Test finc C"
   ]
  },
  {
   "cell_type": "code",
   "execution_count": 7,
   "metadata": {},
   "outputs": [],
   "source": [
    "def test_2():\n",
    "    constraints = ((1, 1, 1), (1, 0, 1), (0, 1, 0))\n",
    "    r = find_c(constraints)\n",
    "\n",
    "    truth = [0b101]\n",
    "    assert truth == r\n",
    "\n",
    "\n",
    "test_2()"
   ]
  },
  {
   "cell_type": "markdown",
   "metadata": {},
   "source": [
    "Test finc C"
   ]
  },
  {
   "cell_type": "code",
   "execution_count": 8,
   "metadata": {},
   "outputs": [],
   "source": [
    "def test_3():\n",
    "    constraints = ((1, 0, 1, 0, 1, 1, 0),\n",
    "                   (0, 0, 1, 0, 0, 0, 1),\n",
    "                   (1, 1, 0, 0, 1, 0, 1),\n",
    "                   (0, 0, 1, 1, 0, 1, 1),\n",
    "                   (0, 1, 0, 1, 0, 0, 1),\n",
    "                   (0, 0, 1, 1, 0, 1, 0),\n",
    "                   (0, 1, 1, 0, 1, 1, 1))\n",
    "    r = find_c(constraints)\n",
    "\n",
    "    truth = [0b1101010]\n",
    "    assert truth == r\n",
    "\n",
    "\n",
    "test_3()"
   ]
  },
  {
   "cell_type": "markdown",
   "metadata": {},
   "source": [
    "Test Simon's algorithm"
   ]
  },
  {
   "cell_type": "code",
   "execution_count": null,
   "metadata": {},
   "outputs": [
    {
     "name": "stdout",
     "output_type": "stream",
     "text": [
      "|x>: sqrt(2)*|000>/4 + sqrt(2)*|001>/4 + sqrt(2)*|010>/4 + sqrt(2)*|011>/4 + sqrt(2)*|100>/4 + sqrt(2)*|101>/4 + sqrt(2)*|110>/4 + sqrt(2)*|111>/4\n",
      "|y>: |000>\n",
      "|xy>: (sqrt(2)*|000>/4 + sqrt(2)*|001>/4 + sqrt(2)*|010>/4 + sqrt(2)*|011>/4 + sqrt(2)*|100>/4 + sqrt(2)*|101>/4 + sqrt(2)*|110>/4 + sqrt(2)*|111>/4)x|000>\n",
      "|xy>: sqrt(2)*|000000>/4 + sqrt(2)*|001000>/4 + sqrt(2)*|010000>/4 + sqrt(2)*|011000>/4 + sqrt(2)*|100000>/4 + sqrt(2)*|101000>/4 + sqrt(2)*|110000>/4 + sqrt(2)*|111000>/4\n",
      "State: (|000001> + |000100> + |000101> + |000111> + |010001> + |010100> - |010101> - |010111> - |101001> + |101100> + |101101> - |101111> - |111001> + |111100> - |111101> + |111111>)/4\n",
      "Measures: [(|000001>/2 + |010001>/2 - |101001>/2 - |111001>/2, 1/4), (|000100>/2 + |010100>/2 + |101100>/2 + |111100>/2, 1/4), (|000101>/2 - |010101>/2 + |101101>/2 - |111101>/2, 1/4), (|000111>/2 - |010111>/2 - |101111>/2 + |111111>/2, 1/4)]\n",
      "c: 101\n",
      "Req: [(0, 5), (1, 4), (2, 7), (3, 6), (4, 1), (5, 0), (6, 3), (7, 2)]\n"
     ]
    }
   ],
   "source": [
    "def test_4():\n",
    "    def f(x, *args):\n",
    "        x = IntQubit(Qubit(*x)).as_int()\n",
    "        match x:\n",
    "            case 0b000:\n",
    "                return 0b100\n",
    "            case 0b101:\n",
    "                return 0b100\n",
    "            case 0b001:\n",
    "                return 0b001\n",
    "            case 0b100:\n",
    "                return 0b001\n",
    "            case 0b010:\n",
    "                return 0b101\n",
    "            case 0b111:\n",
    "                return 0b101\n",
    "            case 0b011:\n",
    "                return 0b111\n",
    "            case 0b110:\n",
    "                return 0b111\n",
    "\n",
    "    n = 3\n",
    "    truth_state = 1 / 4 * (TensorProduct(Qubit('000'), Qubit('100')\n",
    "                           + Qubit('001') + Qubit('101') + Qubit('111')) +\n",
    "                           TensorProduct(Qubit('010'), Qubit('100')\n",
    "                           + Qubit('001') - Qubit('101') - Qubit('111')) +\n",
    "                           TensorProduct(Qubit('101'), Qubit('100')\n",
    "                           - Qubit('001') + Qubit('101') - Qubit('111')) +\n",
    "                           TensorProduct(Qubit('111'), Qubit('100')\n",
    "                           - Qubit('001') - Qubit('101') + Qubit('111')))\n",
    "    truth_constraints = [(0, 0, 0), (0, 1, 0), (1, 0, 1), (1, 1, 1)]\n",
    "    truth_c = 0b101\n",
    "    state, measures, c, constraints, req = simon(f, n)\n",
    "    assert constraints == truth_constraints\n",
    "\n",
    "    truth_state = matrix_to_qubit(represent(truth_state))\n",
    "    assert simplify(truth_state - state) == 0\n",
    "    assert c[0] == truth_c\n",
    "\n",
    "\n",
    "test_4()"
   ]
  },
  {
   "cell_type": "code",
   "execution_count": null,
   "metadata": {},
   "outputs": [
    {
     "name": "stdout",
     "output_type": "stream",
     "text": [
      "|x>: sqrt(2)*|000>/4 + sqrt(2)*|001>/4 + sqrt(2)*|010>/4 + sqrt(2)*|011>/4 + sqrt(2)*|100>/4 + sqrt(2)*|101>/4 + sqrt(2)*|110>/4 + sqrt(2)*|111>/4\n",
      "|y>: |000>\n",
      "|xy>: (sqrt(2)*|000>/4 + sqrt(2)*|001>/4 + sqrt(2)*|010>/4 + sqrt(2)*|011>/4 + sqrt(2)*|100>/4 + sqrt(2)*|101>/4 + sqrt(2)*|110>/4 + sqrt(2)*|111>/4)x|000>\n",
      "|xy>: sqrt(2)*|000000>/4 + sqrt(2)*|001000>/4 + sqrt(2)*|010000>/4 + sqrt(2)*|011000>/4 + sqrt(2)*|100000>/4 + sqrt(2)*|101000>/4 + sqrt(2)*|110000>/4 + sqrt(2)*|111000>/4\n",
      "State: (|000000> + |000010> + |000100> + |000110> + |011000> + |011010> - |011100> - |011110> + |100000> - |100010> + |100100> - |100110> + |111000> - |111010> - |111100> + |111110>)/4\n",
      "Measures: [(|000000>/2 + |011000>/2 + |100000>/2 + |111000>/2, 1/4), (|000010>/2 + |011010>/2 - |100010>/2 - |111010>/2, 1/4), (|000100>/2 - |011100>/2 + |100100>/2 - |111100>/2, 1/4), (|000110>/2 - |011110>/2 - |100110>/2 + |111110>/2, 1/4)]\n",
      "c: 011\n",
      "Req: [(0, 3), (1, 2), (2, 1), (3, 0), (4, 7), (5, 6), (6, 5), (7, 4)]\n"
     ]
    }
   ],
   "source": [
    "def test_5():\n",
    "    def f(x, *args):\n",
    "        x = IntQubit(Qubit(*x)).as_int()\n",
    "        match x:\n",
    "            case 0b000:\n",
    "                return 0b000\n",
    "            case 0b001:\n",
    "                return 0b100\n",
    "            case 0b010:\n",
    "                return 0b100\n",
    "            case 0b011:\n",
    "                return 0b000\n",
    "            case 0b100:\n",
    "                return 0b010\n",
    "            case 0b101:\n",
    "                return 0b110\n",
    "            case 0b110:\n",
    "                return 0b110\n",
    "            case 0b111:\n",
    "                return 0b010\n",
    "\n",
    "    n = 3\n",
    "    truth_state = 1 / 4 * (TensorProduct(Qubit('000'), Qubit('000')\n",
    "                           + Qubit('010') + Qubit('100') + Qubit('110')) +\n",
    "                           TensorProduct(Qubit('011'), Qubit('000')\n",
    "                           + Qubit('010') - Qubit('100') - Qubit('110')) +\n",
    "                           TensorProduct(Qubit('100'), Qubit('000')\n",
    "                           - Qubit('010') + Qubit('100') - Qubit('110')) +\n",
    "                           TensorProduct(Qubit('111'), Qubit('000')\n",
    "                           - Qubit('010') - Qubit('100') + Qubit('110')))\n",
    "    truth_constraints = [(0, 0, 0), (0, 1, 1), (1, 0, 0), (1, 1, 1)]\n",
    "    truth_c = 0b011\n",
    "    state, measures, c, constraints, req = simon(f, n)\n",
    "\n",
    "    assert constraints == truth_constraints\n",
    "    truth_state = matrix_to_qubit(represent(truth_state))\n",
    "    assert simplify(truth_state - state) == 0\n",
    "    assert c[0] == truth_c\n",
    "\n",
    "\n",
    "test_5()"
   ]
  }
 ],
 "metadata": {
  "kernelspec": {
   "display_name": ".venv",
   "language": "python",
   "name": "python3"
  },
  "language_info": {
   "codemirror_mode": {
    "name": "ipython",
    "version": 3
   },
   "file_extension": ".py",
   "mimetype": "text/x-python",
   "name": "python",
   "nbconvert_exporter": "python",
   "pygments_lexer": "ipython3",
   "version": "3.10.12"
  }
 },
 "nbformat": 4,
 "nbformat_minor": 2
}
