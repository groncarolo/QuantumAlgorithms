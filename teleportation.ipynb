{
 "cells": [
  {
   "cell_type": "markdown",
   "metadata": {},
   "source": [
    "# Quantum Teleportation"
   ]
  },
  {
   "cell_type": "code",
   "execution_count": 1,
   "metadata": {},
   "outputs": [],
   "source": [
    "from sympy.physics.quantum.qapply import qapply\n",
    "from sympy.physics.quantum.qubit import Qubit, matrix_to_qubit\n",
    "from sympy import Symbol, sqrt, simplify\n",
    "from sympy.physics.quantum import TensorProduct\n",
    "from sympy.physics.quantum.gate import CNOT, XGate, ZGate, HadamardGate\n",
    "from sympy.physics.quantum.represent import represent"
   ]
  },
  {
   "cell_type": "markdown",
   "metadata": {},
   "source": [
    "The problem:\n",
    "Teleport a quantum state\n",
    "\n",
    "The Solution:\n",
    "```\n",
    "             SENDING   |  RECEIVING\n",
    "               --------|--X-Z\n",
    "     |PHI+>    ----X---|--o-|\n",
    "     a|0>+b|1> ----o-H-|----o\n",
    "```"
   ]
  },
  {
   "cell_type": "markdown",
   "metadata": {},
   "source": [
    "## Sending side"
   ]
  },
  {
   "cell_type": "markdown",
   "metadata": {},
   "source": [
    "Prepare `PHI+` state"
   ]
  },
  {
   "cell_type": "code",
   "execution_count": 2,
   "metadata": {},
   "outputs": [
    {
     "name": "stdout",
     "output_type": "stream",
     "text": [
      "|PHI+>: sqrt(2)*|00>/2 + sqrt(2)*|11>/2\n"
     ]
    }
   ],
   "source": [
    "phi_p = TensorProduct(Qubit(0), Qubit(0))\n",
    "phi_p = matrix_to_qubit(represent(phi_p))\n",
    "phi_p = qapply(HadamardGate(1) * phi_p)\n",
    "phi_p = qapply(CNOT(1, 0) * phi_p)\n",
    "phi_p = matrix_to_qubit(represent(phi_p))\n",
    "print(f\"|PHI+>: {phi_p}\")\n",
    "assert (simplify(phi_p - 1 / sqrt(2) * (Qubit('00') + Qubit('11'))) == 0)"
   ]
  },
  {
   "cell_type": "markdown",
   "metadata": {},
   "source": [
    "Prepare qubit to teleport"
   ]
  },
  {
   "cell_type": "code",
   "execution_count": 3,
   "metadata": {},
   "outputs": [
    {
     "name": "stdout",
     "output_type": "stream",
     "text": [
      "State to teleport: |q>=alpha*|0> + beta*|1>\n"
     ]
    }
   ],
   "source": [
    "alpha = Symbol('alpha', real=True)\n",
    "beta = Symbol('beta', real=True)\n",
    "q = alpha * Qubit(0) + beta * Qubit(1)\n",
    "print(f\"State to teleport: |q>={q}\")\n"
   ]
  },
  {
   "cell_type": "markdown",
   "metadata": {},
   "source": [
    "full input state is "
   ]
  },
  {
   "cell_type": "code",
   "execution_count": 4,
   "metadata": {},
   "outputs": [
    {
     "name": "stdout",
     "output_type": "stream",
     "text": [
      "|q>|PHI+>=sqrt(2)*alpha*|000>/2 + sqrt(2)*alpha*|011>/2 + sqrt(2)*beta*|100>/2 + sqrt(2)*beta*|111>/2\n"
     ]
    }
   ],
   "source": [
    "full_state = TensorProduct(q, phi_p)\n",
    "full_state = matrix_to_qubit(represent(full_state))\n",
    "print(f\"|q>|PHI+>={full_state}\")\n"
   ]
  },
  {
   "cell_type": "code",
   "execution_count": 5,
   "metadata": {},
   "outputs": [
    {
     "name": "stdout",
     "output_type": "stream",
     "text": [
      "Apply CNOT\n",
      "CNOT_2_1*|q>|PHI+>=sqrt(2)*alpha*|000>/2 + sqrt(2)*alpha*|011>/2 + sqrt(2)*beta*|101>/2 + sqrt(2)*beta*|110>/2\n"
     ]
    }
   ],
   "source": [
    "# apply CNOT\n",
    "print(\"Apply CNOT\")\n",
    "c = CNOT(2, 1)  # that qubits are indexed from right to left\n",
    "full_state = qapply(c * full_state)\n",
    "print(f\"CNOT_2_1*|q>|PHI+>={full_state}\")\n"
   ]
  },
  {
   "cell_type": "code",
   "execution_count": 6,
   "metadata": {},
   "outputs": [
    {
     "name": "stdout",
     "output_type": "stream",
     "text": [
      "Apply Hadamard\n",
      "H(2)*CNOT_2_1*|q>|PHI+>=alpha*|000>/2 + alpha*|011>/2 + alpha*|100>/2 + alpha*|111>/2 + beta*|001>/2 + beta*|010>/2 - beta*|101>/2 - beta*|110>/2\n"
     ]
    }
   ],
   "source": [
    "# apply Hadamard\n",
    "print(\"Apply Hadamard\")\n",
    "full_state = qapply(HadamardGate(2) * full_state)\n",
    "print(f\"H(2)*CNOT_2_1*|q>|PHI+>={full_state}\")\n"
   ]
  },
  {
   "cell_type": "code",
   "execution_count": 7,
   "metadata": {},
   "outputs": [],
   "source": [
    "# factoring the first 2 qubits:\n",
    "Q_00 = alpha * Qubit(0) + beta * Qubit(1)\n",
    "Q_01 = alpha * Qubit(1) + beta * Qubit(0)\n",
    "Q_10 = alpha * Qubit(0) - beta * Qubit(1)\n",
    "Q_11 = alpha * Qubit(1) - beta * Qubit(0)\n",
    "\n",
    "a = (TensorProduct(Qubit('00'), Q_00) +\n",
    "     TensorProduct(Qubit('01'), Q_01) +\n",
    "     TensorProduct(Qubit('10'), Q_10) +\n",
    "     TensorProduct(Qubit('11'), Q_11)) / 2\n",
    "a = matrix_to_qubit(represent(a))\n",
    "assert a == full_state"
   ]
  },
  {
   "cell_type": "code",
   "execution_count": 8,
   "metadata": {},
   "outputs": [
    {
     "name": "stdout",
     "output_type": "stream",
     "text": [
      "\n",
      "Q_00 -> nothing to do\n",
      "(alpha*|0> + beta*|1>)=alpha*|0> + beta*|1>\n"
     ]
    }
   ],
   "source": [
    "print(\"\\nQ_00 -> nothing to do\")\n",
    "r = Q_00\n",
    "print(f\"({Q_00})={r}\")\n",
    "assert r == q"
   ]
  },
  {
   "cell_type": "code",
   "execution_count": 9,
   "metadata": {},
   "outputs": [
    {
     "name": "stdout",
     "output_type": "stream",
     "text": [
      "\n",
      "Q_01 -> Apply XGate\n",
      "X*(alpha*|1> + beta*|0>)=alpha*|0> + beta*|1>\n"
     ]
    }
   ],
   "source": [
    "print(\"\\nQ_01 -> Apply XGate\")\n",
    "r = qapply(XGate(0) * Q_01)\n",
    "print(f\"X*({Q_01})={r}\")\n",
    "assert r == q"
   ]
  },
  {
   "cell_type": "code",
   "execution_count": 10,
   "metadata": {},
   "outputs": [
    {
     "name": "stdout",
     "output_type": "stream",
     "text": [
      "\n",
      "Q_10 -> Apply ZGate\n",
      "Z*(alpha*|0> - beta*|1>)=alpha*|0> + beta*|1>\n"
     ]
    }
   ],
   "source": [
    "print(\"\\nQ_10 -> Apply ZGate\")\n",
    "r = qapply(ZGate(0) * Q_10)\n",
    "print(f\"Z*({Q_10})={r}\")\n",
    "assert r == q"
   ]
  },
  {
   "cell_type": "code",
   "execution_count": 11,
   "metadata": {},
   "outputs": [
    {
     "name": "stdout",
     "output_type": "stream",
     "text": [
      "\n",
      "Q_11 -> Apply XGate, ZGate\n",
      "X*Z*(alpha*|1> - beta*|0>)=alpha*|0> + beta*|1>\n"
     ]
    }
   ],
   "source": [
    "print(\"\\nQ_11 -> Apply XGate, ZGate\")\n",
    "r = qapply(XGate(0) * Q_11)\n",
    "r = qapply(ZGate(0) * r)\n",
    "print(f\"X*Z*({Q_11})={r}\")\n",
    "assert r == q"
   ]
  },
  {
   "cell_type": "markdown",
   "metadata": {},
   "source": [
    "## Examples"
   ]
  },
  {
   "cell_type": "code",
   "execution_count": 12,
   "metadata": {},
   "outputs": [
    {
     "name": "stdout",
     "output_type": "stream",
     "text": [
      "\n",
      "|PSI+>: sqrt(2)*(|01> + |10>)/2\n",
      "State to teleport: |q>=alpha*|0> + beta*|1>\n",
      "|q>|PHI+>=sqrt(2)*alpha*|001>/2 + sqrt(2)*alpha*|010>/2 + sqrt(2)*beta*|101>/2 + sqrt(2)*beta*|110>/2\n",
      "Apply CNOT\n",
      "CNOT_2_1*|q>|PHI+>=sqrt(2)*alpha*|001>/2 + sqrt(2)*alpha*|010>/2 + sqrt(2)*beta*|100>/2 + sqrt(2)*beta*|111>/2\n",
      "Apply Hadamard\n",
      "H(2)*CNOT_2_1*|q>|PHI+>=alpha*|001>/2 + alpha*|010>/2 + alpha*|101>/2 + alpha*|110>/2 + beta*|000>/2 + beta*|011>/2 - beta*|100>/2 - beta*|111>/2\n",
      "\n",
      "Q_00 -> Apply XGate\n",
      "X*alpha*|1> + beta*|0>=(alpha*|0> + beta*|1>)\n",
      "\n",
      "Q_01 -> nothing to do\n",
      "alpha*|0> + beta*|1>=(alpha*|0> + beta*|1>)\n",
      "\n",
      "Q_10 -> Apply ZGate ZGate\n",
      "X*Z*(alpha*|1> - beta*|0>)=alpha*|0> + beta*|1>\n",
      "\n",
      "Q_11 -> Apply ZGate\n",
      "Z*(alpha*|0> - beta*|1>)=alpha*|0> + beta*|1>\n"
     ]
    }
   ],
   "source": [
    "# Introduction to classical and quantum computing\n",
    "# 6.5.3 exercise 6.16\n",
    "def test_0():\n",
    "    psi_p = 1 / sqrt(2) * (Qubit('01') + Qubit('10'))\n",
    "    print(\"\\n|PSI+>: {psi}\".format(psi=psi_p))\n",
    "\n",
    "    # qubit to teleport\n",
    "    alpha = Symbol('alpha', real=True)\n",
    "    beta = Symbol('beta', real=True)\n",
    "    q = alpha * Qubit(0) + beta * Qubit(1)\n",
    "    print(\"State to teleport: |q>={q}\".format(q=q))\n",
    "\n",
    "    # full state\n",
    "    full_state = TensorProduct(q, psi_p)\n",
    "    full_state = matrix_to_qubit(represent(full_state))\n",
    "    print(\"|q>|PHI+>={full}\".format(full=full_state))\n",
    "\n",
    "    # apply CNOT\n",
    "    print(\"Apply CNOT\")\n",
    "    c = CNOT(2, 1)  # that qubits are indexed from right to left\n",
    "    full_state = qapply(c * full_state)\n",
    "    print(\"CNOT_2_1*|q>|PHI+>={full}\".format(full=full_state))\n",
    "\n",
    "    # apply Hadamard\n",
    "    print(\"Apply Hadamard\")\n",
    "    full_state = qapply(HadamardGate(2) * full_state)\n",
    "    print(\"H(2)*CNOT_2_1*|q>|PHI+>={full}\".format(full=full_state))\n",
    "\n",
    "    # factoring the first 2 qubits:\n",
    "    Q_00 = alpha * Qubit(1) + beta * Qubit(0)\n",
    "    Q_01 = alpha * Qubit(0) + beta * Qubit(1)\n",
    "    Q_10 = alpha * Qubit(1) - beta * Qubit(0)\n",
    "    Q_11 = alpha * Qubit(0) - beta * Qubit(1)\n",
    "\n",
    "    a = (TensorProduct(Qubit('00'), Q_00) +\n",
    "         TensorProduct(Qubit('01'), Q_01) +\n",
    "         TensorProduct(Qubit('10'), Q_10) +\n",
    "         TensorProduct(Qubit('11'), Q_11)) / 2\n",
    "    a = matrix_to_qubit(represent(a))\n",
    "    assert a == full_state\n",
    "\n",
    "    print(\"\\nQ_00 -> Apply XGate\")\n",
    "    r = qapply(XGate(0) * Q_00)\n",
    "    print(\"X*{q}=({r})\".format(q=Q_00, r=r))\n",
    "    assert r == q\n",
    "\n",
    "    print(\"\\nQ_01 -> nothing to do\")\n",
    "    r = Q_01\n",
    "    print(\"{q}=({r})\".format(q=Q_01, r=r))\n",
    "    assert r == q\n",
    "\n",
    "    print(\"\\nQ_10 -> Apply ZGate ZGate\")\n",
    "    r = qapply(XGate(0) * Q_10)\n",
    "    r = qapply(ZGate(0) * r)\n",
    "    print(\"X*Z*({q})={r}\".format(q=Q_10, r=r))\n",
    "    assert r == q\n",
    "\n",
    "    print(\"\\nQ_11 -> Apply ZGate\")\n",
    "    r = qapply(ZGate(0) * Q_11)\n",
    "    print(\"Z*({q})={r}\".format(q=Q_11, r=r))\n",
    "    assert r == q\n",
    "\n",
    "\n",
    "test_0()"
   ]
  },
  {
   "cell_type": "code",
   "execution_count": 13,
   "metadata": {},
   "outputs": [
    {
     "name": "stdout",
     "output_type": "stream",
     "text": [
      "\n",
      "|GHZ+>: sqrt(2)*(|000> + |111>)/2\n",
      "State to teleport: |psi>=alpha*|0> + beta*|1>\n",
      "|psi>|GHZ>=sqrt(2)*alpha*|0000>/2 + sqrt(2)*alpha*|0111>/2 + sqrt(2)*beta*|1000>/2 + sqrt(2)*beta*|1111>/2\n",
      "Apply CNOT_21\n",
      "CNOT_2_1*|psi>|GHZ>=sqrt(2)*alpha*|0000>/2 + sqrt(2)*alpha*|0101>/2 + sqrt(2)*beta*|1000>/2 + sqrt(2)*beta*|1101>/2\n",
      "Apply CNOT_32\n",
      "CNOT_3_2*CNOT_2_1*|psi>|GHZ>=sqrt(2)*alpha*|0000>/2 + sqrt(2)*alpha*|0101>/2 + sqrt(2)*beta*|1001>/2 + sqrt(2)*beta*|1100>/2\n",
      "Apply Hadamard\n",
      "H(3)*CNOT_3_2*CNOT_2_1*|psi>|GHZ>=alpha*|0000>/2 + alpha*|0101>/2 + alpha*|1000>/2 + alpha*|1101>/2 + beta*|0001>/2 + beta*|0100>/2 - beta*|1001>/2 - beta*|1100>/2\n",
      "Q_000 -> nothing to do\n",
      "alpha*|0> + beta*|1>=alpha*|0> + beta*|1>\n",
      "\n",
      "Q_010 -> Apply XGate\n",
      "X*(alpha*|1> + beta*|0>)=(alpha*|0> + beta*|1>)\n",
      "\n",
      "Q_100 -> Apply ZGate\n",
      "Z*(alpha*|0> - beta*|1>)=(alpha*|0> + beta*|1>)\n",
      "\n",
      "Q_110 -> Apply XGate, ZGate\n",
      "X*Z*(alpha*|1> - beta*|0>)=(alpha*|0> + beta*|1>)\n"
     ]
    }
   ],
   "source": [
    "def test_1():\n",
    "    GHZ = 1 / sqrt(2) * (Qubit('000') + Qubit('111'))\n",
    "    print(\"\\n|GHZ+>: {ghz}\".format(ghz=GHZ))\n",
    "\n",
    "    # qubit to teleport\n",
    "    alpha = Symbol('alpha', real=True)\n",
    "    beta = Symbol('beta', real=True)\n",
    "    psi = alpha * Qubit(0) + beta * Qubit(1)\n",
    "    print(\"State to teleport: |psi>={psi}\".format(psi=psi))\n",
    "\n",
    "    # full state\n",
    "    full_state = TensorProduct(psi, GHZ)\n",
    "    full_state = matrix_to_qubit(represent(full_state))\n",
    "    print(\"|psi>|GHZ>={full}\".format(full=full_state))\n",
    "\n",
    "    # apply CNOT_21\n",
    "    print(\"Apply CNOT_21\")\n",
    "    c = CNOT(2, 1)  # that qubits are indexed from right to left\n",
    "    full_state = qapply(c * full_state)\n",
    "    print(\"CNOT_2_1*|psi>|GHZ>={full}\".format(full=full_state))\n",
    "\n",
    "    # apply CNOT_32\n",
    "    print(\"Apply CNOT_32\")\n",
    "    c = CNOT(3, 2)  # that qubits are indexed from right to left\n",
    "    full_state = qapply(c * full_state)\n",
    "    print(\"CNOT_3_2*CNOT_2_1*|psi>|GHZ>={full}\".format(full=full_state))\n",
    "\n",
    "    # apply Hadamard\n",
    "    print(\"Apply Hadamard\")\n",
    "    full_state = qapply(HadamardGate(3) * full_state)\n",
    "    print(\"H(3)*CNOT_3_2*CNOT_2_1*|psi>|GHZ>={full}\".format(full=full_state))\n",
    "\n",
    "    # factoring the first 2 qubits:\n",
    "    Q_000 = alpha * Qubit(0) + beta * Qubit(1)\n",
    "    Q_010 = alpha * Qubit(1) + beta * Qubit(0)\n",
    "    Q_100 = alpha * Qubit(0) - beta * Qubit(1)\n",
    "    Q_110 = alpha * Qubit(1) - beta * Qubit(0)\n",
    "\n",
    "    a = (TensorProduct(Qubit('000'), Q_000) +\n",
    "         TensorProduct(Qubit('010'), Q_010) +\n",
    "         TensorProduct(Qubit('100'), Q_100) +\n",
    "         TensorProduct(Qubit('110'), Q_110)) / 2\n",
    "    a = matrix_to_qubit(represent(a))\n",
    "    assert a == full_state\n",
    "\n",
    "    print(\"Q_000 -> nothing to do\")\n",
    "    r = Q_000\n",
    "    print(\"{q}={r}\".format(q=Q_000, r=r))\n",
    "    assert r == psi\n",
    "\n",
    "    print(\"\\nQ_010 -> Apply XGate\")\n",
    "    r = qapply(XGate(0) * Q_010)\n",
    "    print(\"X*({q})=({r})\".format(q=Q_010, r=r))\n",
    "    assert r == psi\n",
    "\n",
    "    print(\"\\nQ_100 -> Apply ZGate\")\n",
    "    r = qapply(ZGate(0) * Q_100)\n",
    "    print(\"Z*({q})=({r})\".format(q=Q_100, r=r))\n",
    "\n",
    "    print(\"\\nQ_110 -> Apply XGate, ZGate\")\n",
    "    r = qapply(XGate(0) * Q_110)\n",
    "    r = qapply(ZGate(0) * r)\n",
    "    print(\"X*Z*({q})=({r})\".format(q=Q_110, r=r))\n",
    "    assert r == psi\n",
    "\n",
    "\n",
    "test_1()"
   ]
  },
  {
   "cell_type": "code",
   "execution_count": null,
   "metadata": {},
   "outputs": [
    {
     "name": "stdout",
     "output_type": "stream",
     "text": [
      "\n",
      "|GHZ+>: sqrt(2)*(|000> + |111>)/2\n",
      "State to teleport: |psi>=alpha*|0> + beta*|1>\n",
      "|psi>|GHZ>=sqrt(2)*alpha*|0000>/2 + sqrt(2)*alpha*|0111>/2 + sqrt(2)*beta*|1000>/2 + sqrt(2)*beta*|1111>/2\n",
      "Apply CNOT_32\n",
      "CNOT_3_2*|psi>|GHZ>=sqrt(2)*alpha*|0000>/2 + sqrt(2)*alpha*|0111>/2 + sqrt(2)*beta*|1011>/2 + sqrt(2)*beta*|1100>/2\n",
      "Apply Hadamard\n",
      "H(3)*CNOT_3_2*|psi>|GHZ>=alpha*|0000>/2 + alpha*|0111>/2 + alpha*|1000>/2 + alpha*|1111>/2 + beta*|0011>/2 + beta*|0100>/2 - beta*|1011>/2 - beta*|1100>/2\n",
      "\n",
      "Apply Hadamard to Q_00\n",
      "Q_00=sqrt(2)*alpha*|00>/2 + sqrt(2)*alpha*|10>/2 + sqrt(2)*beta*|01>/2 - sqrt(2)*beta*|11>/2\n",
      "\n",
      "Apply Hadamard Q_01\n",
      "Q_01=sqrt(2)*alpha*|01>/2 - sqrt(2)*alpha*|11>/2 + sqrt(2)*beta*|00>/2 + sqrt(2)*beta*|10>/2\n",
      "\n",
      "Apply Hadamard Q_10\n",
      "Q_10=sqrt(2)*alpha*|00>/2 + sqrt(2)*alpha*|10>/2 - sqrt(2)*beta*|01>/2 + sqrt(2)*beta*|11>/2\n",
      "c=sqrt(2)*alpha*|00>/2 + sqrt(2)*alpha*|10>/2 - sqrt(2)*beta*|01>/2 + sqrt(2)*beta*|11>/2\n",
      "\n",
      "Apply Hadamard Q_11\n",
      "Q_11=sqrt(2)*alpha*|01>/2 - sqrt(2)*alpha*|11>/2 - sqrt(2)*beta*|00>/2 - sqrt(2)*beta*|10>/2\n",
      "\n",
      "Q_000  nothing to do\n",
      "alpha*|0> + beta*|1>=alpha*|0> + beta*|1>\n",
      "\n",
      "Q_001 -> Apply ZGate\n",
      "Z*(alpha*|0> - beta*|1>)=alpha*|0> + beta*|1>\n",
      "\n",
      "Q_010 -> Apply XGate\n",
      "X*(alpha*|1> + beta*|0>)=alpha*|0> + beta*|1>\n",
      "\n",
      "Q_011 -> Apply ZGate XGate\n",
      "Z*X*(-alpha*|1> + beta*|0>)=alpha*|0> + beta*|1>\n",
      "\n",
      "Q_100 -> Apply ZGate\n",
      "Z*(alpha*|0> - beta*|1>)=alpha*|0> + beta*|1>\n",
      "\n",
      "Q_101 -> Nothing\n",
      "alpha*|0> + beta*|1>=alpha*|0> + beta*|1>\n",
      "\n",
      "Q_110 -> Apply XGate, ZGate\n",
      "X*Z*(alpha*|1> - beta*|0>)=alpha*|0> + beta*|1>\n",
      "\n",
      "Q_111 -> ZGate, XGate, ZGate\n",
      "Z*X*Z*(-alpha*|1> - beta*|0>)=alpha*|0> + beta*|1>\n"
     ]
    }
   ],
   "source": [
    "def test_2():\n",
    "    GHZ = 1 / sqrt(2) * (Qubit('000') + Qubit('111'))\n",
    "    print(\"\\n|GHZ+>: {ghz}\".format(ghz=GHZ))\n",
    "\n",
    "    # qubit to teleport\n",
    "    alpha = Symbol('alpha', real=True)\n",
    "    beta = Symbol('beta', real=True)\n",
    "    psi = alpha * Qubit(0) + beta * Qubit(1)\n",
    "    print(\"State to teleport: |psi>={psi}\".format(psi=psi))\n",
    "\n",
    "    # full state\n",
    "    full_state = TensorProduct(psi, GHZ)\n",
    "    full_state = matrix_to_qubit(represent(full_state))\n",
    "    print(\"|psi>|GHZ>={full}\".format(full=full_state))\n",
    "\n",
    "    # apply CNOT_32\n",
    "    print(\"Apply CNOT_32\")\n",
    "    c = CNOT(3, 2)  # that qubits are indexed from right to left\n",
    "    full_state = qapply(c * full_state)\n",
    "    print(\"CNOT_3_2*|psi>|GHZ>={full}\".format(full=full_state))\n",
    "\n",
    "    # apply Hadamard\n",
    "    print(\"Apply Hadamard\")\n",
    "    full_state = qapply(HadamardGate(3) * full_state)\n",
    "    print(\"H(3)*CNOT_3_2*|psi>|GHZ>={full}\".format(full=full_state))\n",
    "\n",
    "    # factoring the first 2 qubits:\n",
    "    Q_00 = alpha * Qubit('00') + beta * Qubit('11')\n",
    "    Q_01 = alpha * Qubit('11') + beta * Qubit('00')\n",
    "    Q_10 = alpha * Qubit('00') - beta * Qubit('11')\n",
    "    Q_11 = alpha * Qubit('11') - beta * Qubit('00')\n",
    "\n",
    "    a = (TensorProduct(Qubit('00'), Q_00) +\n",
    "         TensorProduct(Qubit('01'), Q_01) +\n",
    "         TensorProduct(Qubit('10'), Q_10) +\n",
    "         TensorProduct(Qubit('11'), Q_11)) / 2\n",
    "    a = matrix_to_qubit(represent(a))\n",
    "    assert a == full_state\n",
    "\n",
    "    print(\"\\nApply Hadamard to Q_00\")\n",
    "    r = qapply(HadamardGate(1) * Q_00)\n",
    "    print(\"Q_00={r}\".format(r=r))\n",
    "    # factoring the first qubit:\n",
    "    Q_00_a = alpha * Qubit('0') + beta * Qubit('1')\n",
    "    Q_00_b = alpha * Qubit('0') - beta * Qubit('1')\n",
    "    c = 1 / sqrt(2) * (TensorProduct(Qubit('0'), Q_00_a)\n",
    "                       + TensorProduct(Qubit('1'), Q_00_b))\n",
    "    c = matrix_to_qubit(represent(c))\n",
    "    assert c == r\n",
    "\n",
    "    print(\"\\nApply Hadamard Q_01\")\n",
    "    r = qapply(HadamardGate(1) * Q_01)\n",
    "    print(\"Q_01={r}\".format(r=r))\n",
    "    # factoring the first qubit:\n",
    "    Q_01_a = beta * Qubit('0') + alpha * Qubit('1')\n",
    "    Q_01_b = beta * Qubit('0') - alpha * Qubit('1')\n",
    "    c = 1 / sqrt(2) * (TensorProduct(Qubit('0'), Q_01_a)\n",
    "                       + TensorProduct(Qubit('1'), Q_01_b))\n",
    "    c = matrix_to_qubit(represent(c))\n",
    "    assert c == r\n",
    "\n",
    "    print(\"\\nApply Hadamard Q_10\")\n",
    "    r = qapply(HadamardGate(1) * Q_10)\n",
    "    print(\"Q_10={r}\".format(r=r))\n",
    "    # factoring the first qubit:\n",
    "    Q_10_a = alpha * Qubit('0') - beta * Qubit('1')\n",
    "    Q_10_b = alpha * Qubit('0') + beta * Qubit('1')\n",
    "    c = 1 / sqrt(2) * (TensorProduct(Qubit('0'), Q_10_a)\n",
    "                       + TensorProduct(Qubit('1'), Q_10_b))\n",
    "    c = matrix_to_qubit(represent(c))\n",
    "    print(\"c={c}\".format(c=c))\n",
    "    assert c == r\n",
    "\n",
    "    print(\"\\nApply Hadamard Q_11\")\n",
    "    r = qapply(HadamardGate(1) * Q_11)\n",
    "    print(\"Q_11={r}\".format(r=r))\n",
    "    # factoring the first qubit:\n",
    "    Q_11_a = (alpha * Qubit('1') - beta * Qubit('0'))\n",
    "    Q_11_b = (-alpha * Qubit('1') - beta * Qubit('0'))\n",
    "    c = 1 / sqrt(2) * (TensorProduct(Qubit('0'), Q_11_a)\n",
    "                       + TensorProduct(Qubit('1'), Q_11_b))\n",
    "    c = matrix_to_qubit(represent(c))\n",
    "    assert c == r\n",
    "\n",
    "    print(\"\\nQ_000  nothing to do\")\n",
    "    r = Q_00_a\n",
    "    print(\"{q}={r}\".format(q=Q_00_a, r=r))\n",
    "    assert r == psi\n",
    "\n",
    "    print(\"\\nQ_001 -> Apply ZGate\")\n",
    "    r = qapply(ZGate(0) * Q_00_b)\n",
    "    print(\"Z*({q})={r}\".format(q=Q_00_b, r=r))\n",
    "    assert r == psi\n",
    "\n",
    "    print(\"\\nQ_010 -> Apply XGate\")\n",
    "    r = qapply(XGate(0) * Q_01_a)\n",
    "    print(\"X*({q})={r}\".format(q=Q_01_a, r=r))\n",
    "    assert r == psi\n",
    "\n",
    "    print(\"\\nQ_011 -> Apply ZGate XGate\")\n",
    "    r = qapply(ZGate(0) * Q_01_b)\n",
    "    r = qapply(XGate(0) * r)\n",
    "    print(\"Z*X*({q})={r}\".format(q=Q_01_b, r=r))\n",
    "    assert r == psi\n",
    "\n",
    "    print(\"\\nQ_100 -> Apply ZGate\")\n",
    "    r = qapply(ZGate(0) * Q_10_a)\n",
    "    print(\"Z*({q})={r}\".format(q=Q_10_a, r=r))\n",
    "    assert r == psi\n",
    "\n",
    "    print(\"\\nQ_101 -> Nothing\")\n",
    "    r = Q_10_b\n",
    "    print(\"{q}={r}\".format(q=Q_10_b, r=r))\n",
    "    assert r == psi\n",
    "\n",
    "    print(\"\\nQ_110 -> Apply XGate, ZGate\")\n",
    "    r = qapply(XGate(0) * Q_11_a)\n",
    "    r = qapply(ZGate(0) * r)\n",
    "    print(\"X*Z*({q})={r}\".format(q=Q_11_a, r=r))\n",
    "    assert r == psi\n",
    "\n",
    "    print(\"\\nQ_111 -> ZGate, XGate, ZGate\")\n",
    "    r = qapply(ZGate(0) * Q_11_b)\n",
    "    r = qapply(XGate(0) * r)\n",
    "    r = qapply(ZGate(0) * r)\n",
    "    print(\"Z*X*Z*({q})={r}\".format(q=Q_11_b, r=r))\n",
    "    assert r == psi\n",
    "\n",
    "\n",
    "test_2()"
   ]
  }
 ],
 "metadata": {
  "kernelspec": {
   "display_name": ".venv",
   "language": "python",
   "name": "python3"
  },
  "language_info": {
   "codemirror_mode": {
    "name": "ipython",
    "version": 3
   },
   "file_extension": ".py",
   "mimetype": "text/x-python",
   "name": "python",
   "nbconvert_exporter": "python",
   "pygments_lexer": "ipython3",
   "version": "3.10.12"
  }
 },
 "nbformat": 4,
 "nbformat_minor": 2
}
